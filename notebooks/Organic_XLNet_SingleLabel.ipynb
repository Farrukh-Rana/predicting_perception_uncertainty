{
  "nbformat": 4,
  "nbformat_minor": 0,
  "metadata": {
    "colab": {
      "name": "Organic_XLNet_Single.ipynb",
      "provenance": [],
      "collapsed_sections": [
        "WdeL3eK9cO7w",
        "uwCUv0VlcT-9",
        "WsXlwyX0ciHQ",
        "k1LMb6hOc_Fl",
        "4qquV6a2dF-N",
        "l7Kvrmo1n_x6",
        "Zj4pQXhHm-15",
        "QG30c1vTeU38",
        "BNy1N7VnOhTC",
        "Ke66pdRnOm5x",
        "fuDSDXF7Mons",
        "DFniJC8e-5q_",
        "Z85zpuE0-_8U",
        "90ZcdwArMkGk",
        "vlOnIQ8DfxjJ"
      ]
    },
    "language_info": {
      "codemirror_mode": {
        "name": "ipython",
        "version": 3
      },
      "file_extension": ".py",
      "mimetype": "text/x-python",
      "name": "python",
      "nbconvert_exporter": "python",
      "pygments_lexer": "ipython3",
      "version": "3.7.3"
    },
    "kernelspec": {
      "name": "python3",
      "display_name": "Python 3"
    },
    "accelerator": "GPU",
    "widgets": {
      "application/vnd.jupyter.widget-state+json": {
        "9bd258333d284d88b7d7fbbef947f79b": {
          "model_module": "@jupyter-widgets/controls",
          "model_name": "HBoxModel",
          "state": {
            "_view_name": "HBoxView",
            "_dom_classes": [],
            "_model_name": "HBoxModel",
            "_view_module": "@jupyter-widgets/controls",
            "_model_module_version": "1.5.0",
            "_view_count": null,
            "_view_module_version": "1.5.0",
            "box_style": "",
            "layout": "IPY_MODEL_3efecf5d12694dc7a374bf722e930439",
            "_model_module": "@jupyter-widgets/controls",
            "children": [
              "IPY_MODEL_81ebbd9674a648ab9b60f674f7ef3d21",
              "IPY_MODEL_e2804c333ad54aefae7a0eff643d0ab5"
            ]
          }
        },
        "3efecf5d12694dc7a374bf722e930439": {
          "model_module": "@jupyter-widgets/base",
          "model_name": "LayoutModel",
          "state": {
            "_view_name": "LayoutView",
            "grid_template_rows": null,
            "right": null,
            "justify_content": null,
            "_view_module": "@jupyter-widgets/base",
            "overflow": null,
            "_model_module_version": "1.2.0",
            "_view_count": null,
            "flex_flow": null,
            "width": null,
            "min_width": null,
            "border": null,
            "align_items": null,
            "bottom": null,
            "_model_module": "@jupyter-widgets/base",
            "top": null,
            "grid_column": null,
            "overflow_y": null,
            "overflow_x": null,
            "grid_auto_flow": null,
            "grid_area": null,
            "grid_template_columns": null,
            "flex": null,
            "_model_name": "LayoutModel",
            "justify_items": null,
            "grid_row": null,
            "max_height": null,
            "align_content": null,
            "visibility": null,
            "align_self": null,
            "height": null,
            "min_height": null,
            "padding": null,
            "grid_auto_rows": null,
            "grid_gap": null,
            "max_width": null,
            "order": null,
            "_view_module_version": "1.2.0",
            "grid_template_areas": null,
            "object_position": null,
            "object_fit": null,
            "grid_auto_columns": null,
            "margin": null,
            "display": null,
            "left": null
          }
        },
        "81ebbd9674a648ab9b60f674f7ef3d21": {
          "model_module": "@jupyter-widgets/controls",
          "model_name": "IntProgressModel",
          "state": {
            "_view_name": "ProgressView",
            "style": "IPY_MODEL_a8df281eb2514312873f04d29577e89b",
            "_dom_classes": [],
            "description": "Epoch",
            "_model_name": "IntProgressModel",
            "bar_style": "success",
            "max": 3,
            "_view_module": "@jupyter-widgets/controls",
            "_model_module_version": "1.5.0",
            "value": 3,
            "_view_count": null,
            "_view_module_version": "1.5.0",
            "orientation": "horizontal",
            "min": 0,
            "description_tooltip": null,
            "_model_module": "@jupyter-widgets/controls",
            "layout": "IPY_MODEL_537a9bba5009492fac635488ae951182"
          }
        },
        "e2804c333ad54aefae7a0eff643d0ab5": {
          "model_module": "@jupyter-widgets/controls",
          "model_name": "HTMLModel",
          "state": {
            "_view_name": "HTMLView",
            "style": "IPY_MODEL_fd8d7c376c3042bc8ba7ad15b925e9dd",
            "_dom_classes": [],
            "description": "",
            "_model_name": "HTMLModel",
            "placeholder": "​",
            "_view_module": "@jupyter-widgets/controls",
            "_model_module_version": "1.5.0",
            "value": "100% 3/3 [02:01&lt;00:00, 40.07s/it]",
            "_view_count": null,
            "_view_module_version": "1.5.0",
            "description_tooltip": null,
            "_model_module": "@jupyter-widgets/controls",
            "layout": "IPY_MODEL_2fd04ef26142448b9842d28559ebfcfd"
          }
        },
        "a8df281eb2514312873f04d29577e89b": {
          "model_module": "@jupyter-widgets/controls",
          "model_name": "ProgressStyleModel",
          "state": {
            "_view_name": "StyleView",
            "_model_name": "ProgressStyleModel",
            "description_width": "initial",
            "_view_module": "@jupyter-widgets/base",
            "_model_module_version": "1.5.0",
            "_view_count": null,
            "_view_module_version": "1.2.0",
            "bar_color": null,
            "_model_module": "@jupyter-widgets/controls"
          }
        },
        "537a9bba5009492fac635488ae951182": {
          "model_module": "@jupyter-widgets/base",
          "model_name": "LayoutModel",
          "state": {
            "_view_name": "LayoutView",
            "grid_template_rows": null,
            "right": null,
            "justify_content": null,
            "_view_module": "@jupyter-widgets/base",
            "overflow": null,
            "_model_module_version": "1.2.0",
            "_view_count": null,
            "flex_flow": null,
            "width": null,
            "min_width": null,
            "border": null,
            "align_items": null,
            "bottom": null,
            "_model_module": "@jupyter-widgets/base",
            "top": null,
            "grid_column": null,
            "overflow_y": null,
            "overflow_x": null,
            "grid_auto_flow": null,
            "grid_area": null,
            "grid_template_columns": null,
            "flex": null,
            "_model_name": "LayoutModel",
            "justify_items": null,
            "grid_row": null,
            "max_height": null,
            "align_content": null,
            "visibility": null,
            "align_self": null,
            "height": null,
            "min_height": null,
            "padding": null,
            "grid_auto_rows": null,
            "grid_gap": null,
            "max_width": null,
            "order": null,
            "_view_module_version": "1.2.0",
            "grid_template_areas": null,
            "object_position": null,
            "object_fit": null,
            "grid_auto_columns": null,
            "margin": null,
            "display": null,
            "left": null
          }
        },
        "fd8d7c376c3042bc8ba7ad15b925e9dd": {
          "model_module": "@jupyter-widgets/controls",
          "model_name": "DescriptionStyleModel",
          "state": {
            "_view_name": "StyleView",
            "_model_name": "DescriptionStyleModel",
            "description_width": "",
            "_view_module": "@jupyter-widgets/base",
            "_model_module_version": "1.5.0",
            "_view_count": null,
            "_view_module_version": "1.2.0",
            "_model_module": "@jupyter-widgets/controls"
          }
        },
        "2fd04ef26142448b9842d28559ebfcfd": {
          "model_module": "@jupyter-widgets/base",
          "model_name": "LayoutModel",
          "state": {
            "_view_name": "LayoutView",
            "grid_template_rows": null,
            "right": null,
            "justify_content": null,
            "_view_module": "@jupyter-widgets/base",
            "overflow": null,
            "_model_module_version": "1.2.0",
            "_view_count": null,
            "flex_flow": null,
            "width": null,
            "min_width": null,
            "border": null,
            "align_items": null,
            "bottom": null,
            "_model_module": "@jupyter-widgets/base",
            "top": null,
            "grid_column": null,
            "overflow_y": null,
            "overflow_x": null,
            "grid_auto_flow": null,
            "grid_area": null,
            "grid_template_columns": null,
            "flex": null,
            "_model_name": "LayoutModel",
            "justify_items": null,
            "grid_row": null,
            "max_height": null,
            "align_content": null,
            "visibility": null,
            "align_self": null,
            "height": null,
            "min_height": null,
            "padding": null,
            "grid_auto_rows": null,
            "grid_gap": null,
            "max_width": null,
            "order": null,
            "_view_module_version": "1.2.0",
            "grid_template_areas": null,
            "object_position": null,
            "object_fit": null,
            "grid_auto_columns": null,
            "margin": null,
            "display": null,
            "left": null
          }
        },
        "7e83f2eab25d441499d4b5c6f9337444": {
          "model_module": "@jupyter-widgets/controls",
          "model_name": "HBoxModel",
          "state": {
            "_view_name": "HBoxView",
            "_dom_classes": [],
            "_model_name": "HBoxModel",
            "_view_module": "@jupyter-widgets/controls",
            "_model_module_version": "1.5.0",
            "_view_count": null,
            "_view_module_version": "1.5.0",
            "box_style": "",
            "layout": "IPY_MODEL_8a9dbe26addb4ce1855a0c9183b3ee17",
            "_model_module": "@jupyter-widgets/controls",
            "children": [
              "IPY_MODEL_28224c12cb54421bb77e43b3e4bb023a",
              "IPY_MODEL_ee19b79e912247f0b52206df2fbee295"
            ]
          }
        },
        "8a9dbe26addb4ce1855a0c9183b3ee17": {
          "model_module": "@jupyter-widgets/base",
          "model_name": "LayoutModel",
          "state": {
            "_view_name": "LayoutView",
            "grid_template_rows": null,
            "right": null,
            "justify_content": null,
            "_view_module": "@jupyter-widgets/base",
            "overflow": null,
            "_model_module_version": "1.2.0",
            "_view_count": null,
            "flex_flow": null,
            "width": null,
            "min_width": null,
            "border": null,
            "align_items": null,
            "bottom": null,
            "_model_module": "@jupyter-widgets/base",
            "top": null,
            "grid_column": null,
            "overflow_y": null,
            "overflow_x": null,
            "grid_auto_flow": null,
            "grid_area": null,
            "grid_template_columns": null,
            "flex": null,
            "_model_name": "LayoutModel",
            "justify_items": null,
            "grid_row": null,
            "max_height": null,
            "align_content": null,
            "visibility": null,
            "align_self": null,
            "height": null,
            "min_height": null,
            "padding": null,
            "grid_auto_rows": null,
            "grid_gap": null,
            "max_width": null,
            "order": null,
            "_view_module_version": "1.2.0",
            "grid_template_areas": null,
            "object_position": null,
            "object_fit": null,
            "grid_auto_columns": null,
            "margin": null,
            "display": null,
            "left": null
          }
        },
        "28224c12cb54421bb77e43b3e4bb023a": {
          "model_module": "@jupyter-widgets/controls",
          "model_name": "IntProgressModel",
          "state": {
            "_view_name": "ProgressView",
            "style": "IPY_MODEL_68e02c2266364062af8b419192510cf7",
            "_dom_classes": [],
            "description": "Iteration",
            "_model_name": "IntProgressModel",
            "bar_style": "success",
            "max": 132,
            "_view_module": "@jupyter-widgets/controls",
            "_model_module_version": "1.5.0",
            "value": 132,
            "_view_count": null,
            "_view_module_version": "1.5.0",
            "orientation": "horizontal",
            "min": 0,
            "description_tooltip": null,
            "_model_module": "@jupyter-widgets/controls",
            "layout": "IPY_MODEL_daf1c631c9db4186ac73c6c971c25a0f"
          }
        },
        "ee19b79e912247f0b52206df2fbee295": {
          "model_module": "@jupyter-widgets/controls",
          "model_name": "HTMLModel",
          "state": {
            "_view_name": "HTMLView",
            "style": "IPY_MODEL_4b0f47754bfe4429a33fd8657fb79fd0",
            "_dom_classes": [],
            "description": "",
            "_model_name": "HTMLModel",
            "placeholder": "​",
            "_view_module": "@jupyter-widgets/controls",
            "_model_module_version": "1.5.0",
            "value": "100% 132/132 [00:39&lt;00:00,  3.64it/s, loss=4]",
            "_view_count": null,
            "_view_module_version": "1.5.0",
            "description_tooltip": null,
            "_model_module": "@jupyter-widgets/controls",
            "layout": "IPY_MODEL_954afcb868204eaf9196aec1d55850a3"
          }
        },
        "68e02c2266364062af8b419192510cf7": {
          "model_module": "@jupyter-widgets/controls",
          "model_name": "ProgressStyleModel",
          "state": {
            "_view_name": "StyleView",
            "_model_name": "ProgressStyleModel",
            "description_width": "initial",
            "_view_module": "@jupyter-widgets/base",
            "_model_module_version": "1.5.0",
            "_view_count": null,
            "_view_module_version": "1.2.0",
            "bar_color": null,
            "_model_module": "@jupyter-widgets/controls"
          }
        },
        "daf1c631c9db4186ac73c6c971c25a0f": {
          "model_module": "@jupyter-widgets/base",
          "model_name": "LayoutModel",
          "state": {
            "_view_name": "LayoutView",
            "grid_template_rows": null,
            "right": null,
            "justify_content": null,
            "_view_module": "@jupyter-widgets/base",
            "overflow": null,
            "_model_module_version": "1.2.0",
            "_view_count": null,
            "flex_flow": null,
            "width": null,
            "min_width": null,
            "border": null,
            "align_items": null,
            "bottom": null,
            "_model_module": "@jupyter-widgets/base",
            "top": null,
            "grid_column": null,
            "overflow_y": null,
            "overflow_x": null,
            "grid_auto_flow": null,
            "grid_area": null,
            "grid_template_columns": null,
            "flex": null,
            "_model_name": "LayoutModel",
            "justify_items": null,
            "grid_row": null,
            "max_height": null,
            "align_content": null,
            "visibility": null,
            "align_self": null,
            "height": null,
            "min_height": null,
            "padding": null,
            "grid_auto_rows": null,
            "grid_gap": null,
            "max_width": null,
            "order": null,
            "_view_module_version": "1.2.0",
            "grid_template_areas": null,
            "object_position": null,
            "object_fit": null,
            "grid_auto_columns": null,
            "margin": null,
            "display": null,
            "left": null
          }
        },
        "4b0f47754bfe4429a33fd8657fb79fd0": {
          "model_module": "@jupyter-widgets/controls",
          "model_name": "DescriptionStyleModel",
          "state": {
            "_view_name": "StyleView",
            "_model_name": "DescriptionStyleModel",
            "description_width": "",
            "_view_module": "@jupyter-widgets/base",
            "_model_module_version": "1.5.0",
            "_view_count": null,
            "_view_module_version": "1.2.0",
            "_model_module": "@jupyter-widgets/controls"
          }
        },
        "954afcb868204eaf9196aec1d55850a3": {
          "model_module": "@jupyter-widgets/base",
          "model_name": "LayoutModel",
          "state": {
            "_view_name": "LayoutView",
            "grid_template_rows": null,
            "right": null,
            "justify_content": null,
            "_view_module": "@jupyter-widgets/base",
            "overflow": null,
            "_model_module_version": "1.2.0",
            "_view_count": null,
            "flex_flow": null,
            "width": null,
            "min_width": null,
            "border": null,
            "align_items": null,
            "bottom": null,
            "_model_module": "@jupyter-widgets/base",
            "top": null,
            "grid_column": null,
            "overflow_y": null,
            "overflow_x": null,
            "grid_auto_flow": null,
            "grid_area": null,
            "grid_template_columns": null,
            "flex": null,
            "_model_name": "LayoutModel",
            "justify_items": null,
            "grid_row": null,
            "max_height": null,
            "align_content": null,
            "visibility": null,
            "align_self": null,
            "height": null,
            "min_height": null,
            "padding": null,
            "grid_auto_rows": null,
            "grid_gap": null,
            "max_width": null,
            "order": null,
            "_view_module_version": "1.2.0",
            "grid_template_areas": null,
            "object_position": null,
            "object_fit": null,
            "grid_auto_columns": null,
            "margin": null,
            "display": null,
            "left": null
          }
        },
        "7cb834fcb6814cf88b36fc7f57da33e7": {
          "model_module": "@jupyter-widgets/controls",
          "model_name": "HBoxModel",
          "state": {
            "_view_name": "HBoxView",
            "_dom_classes": [],
            "_model_name": "HBoxModel",
            "_view_module": "@jupyter-widgets/controls",
            "_model_module_version": "1.5.0",
            "_view_count": null,
            "_view_module_version": "1.5.0",
            "box_style": "",
            "layout": "IPY_MODEL_d344ab055145430885e268d7aea15715",
            "_model_module": "@jupyter-widgets/controls",
            "children": [
              "IPY_MODEL_294ef11aec544bf5bdfda8a70bff8d5d",
              "IPY_MODEL_efb4cd30cd564d98a3fb0d675134faf2"
            ]
          }
        },
        "d344ab055145430885e268d7aea15715": {
          "model_module": "@jupyter-widgets/base",
          "model_name": "LayoutModel",
          "state": {
            "_view_name": "LayoutView",
            "grid_template_rows": null,
            "right": null,
            "justify_content": null,
            "_view_module": "@jupyter-widgets/base",
            "overflow": null,
            "_model_module_version": "1.2.0",
            "_view_count": null,
            "flex_flow": null,
            "width": null,
            "min_width": null,
            "border": null,
            "align_items": null,
            "bottom": null,
            "_model_module": "@jupyter-widgets/base",
            "top": null,
            "grid_column": null,
            "overflow_y": null,
            "overflow_x": null,
            "grid_auto_flow": null,
            "grid_area": null,
            "grid_template_columns": null,
            "flex": null,
            "_model_name": "LayoutModel",
            "justify_items": null,
            "grid_row": null,
            "max_height": null,
            "align_content": null,
            "visibility": null,
            "align_self": null,
            "height": null,
            "min_height": null,
            "padding": null,
            "grid_auto_rows": null,
            "grid_gap": null,
            "max_width": null,
            "order": null,
            "_view_module_version": "1.2.0",
            "grid_template_areas": null,
            "object_position": null,
            "object_fit": null,
            "grid_auto_columns": null,
            "margin": null,
            "display": null,
            "left": null
          }
        },
        "294ef11aec544bf5bdfda8a70bff8d5d": {
          "model_module": "@jupyter-widgets/controls",
          "model_name": "IntProgressModel",
          "state": {
            "_view_name": "ProgressView",
            "style": "IPY_MODEL_da892bd5cec449dd8ce87ffc472217b4",
            "_dom_classes": [],
            "description": "Evaluating",
            "_model_name": "IntProgressModel",
            "bar_style": "success",
            "max": 12,
            "_view_module": "@jupyter-widgets/controls",
            "_model_module_version": "1.5.0",
            "value": 12,
            "_view_count": null,
            "_view_module_version": "1.5.0",
            "orientation": "horizontal",
            "min": 0,
            "description_tooltip": null,
            "_model_module": "@jupyter-widgets/controls",
            "layout": "IPY_MODEL_c05d45cc95014b5f968c64a2c6f7cf71"
          }
        },
        "efb4cd30cd564d98a3fb0d675134faf2": {
          "model_module": "@jupyter-widgets/controls",
          "model_name": "HTMLModel",
          "state": {
            "_view_name": "HTMLView",
            "style": "IPY_MODEL_461b4442ed644ef3b297608d68ebbfd7",
            "_dom_classes": [],
            "description": "",
            "_model_name": "HTMLModel",
            "placeholder": "​",
            "_view_module": "@jupyter-widgets/controls",
            "_model_module_version": "1.5.0",
            "value": "100% 12/12 [00:00&lt;00:00, 12.43it/s]",
            "_view_count": null,
            "_view_module_version": "1.5.0",
            "description_tooltip": null,
            "_model_module": "@jupyter-widgets/controls",
            "layout": "IPY_MODEL_0df6a78c5900418caba0e4f71ca7547d"
          }
        },
        "da892bd5cec449dd8ce87ffc472217b4": {
          "model_module": "@jupyter-widgets/controls",
          "model_name": "ProgressStyleModel",
          "state": {
            "_view_name": "StyleView",
            "_model_name": "ProgressStyleModel",
            "description_width": "initial",
            "_view_module": "@jupyter-widgets/base",
            "_model_module_version": "1.5.0",
            "_view_count": null,
            "_view_module_version": "1.2.0",
            "bar_color": null,
            "_model_module": "@jupyter-widgets/controls"
          }
        },
        "c05d45cc95014b5f968c64a2c6f7cf71": {
          "model_module": "@jupyter-widgets/base",
          "model_name": "LayoutModel",
          "state": {
            "_view_name": "LayoutView",
            "grid_template_rows": null,
            "right": null,
            "justify_content": null,
            "_view_module": "@jupyter-widgets/base",
            "overflow": null,
            "_model_module_version": "1.2.0",
            "_view_count": null,
            "flex_flow": null,
            "width": null,
            "min_width": null,
            "border": null,
            "align_items": null,
            "bottom": null,
            "_model_module": "@jupyter-widgets/base",
            "top": null,
            "grid_column": null,
            "overflow_y": null,
            "overflow_x": null,
            "grid_auto_flow": null,
            "grid_area": null,
            "grid_template_columns": null,
            "flex": null,
            "_model_name": "LayoutModel",
            "justify_items": null,
            "grid_row": null,
            "max_height": null,
            "align_content": null,
            "visibility": null,
            "align_self": null,
            "height": null,
            "min_height": null,
            "padding": null,
            "grid_auto_rows": null,
            "grid_gap": null,
            "max_width": null,
            "order": null,
            "_view_module_version": "1.2.0",
            "grid_template_areas": null,
            "object_position": null,
            "object_fit": null,
            "grid_auto_columns": null,
            "margin": null,
            "display": null,
            "left": null
          }
        },
        "461b4442ed644ef3b297608d68ebbfd7": {
          "model_module": "@jupyter-widgets/controls",
          "model_name": "DescriptionStyleModel",
          "state": {
            "_view_name": "StyleView",
            "_model_name": "DescriptionStyleModel",
            "description_width": "",
            "_view_module": "@jupyter-widgets/base",
            "_model_module_version": "1.5.0",
            "_view_count": null,
            "_view_module_version": "1.2.0",
            "_model_module": "@jupyter-widgets/controls"
          }
        },
        "0df6a78c5900418caba0e4f71ca7547d": {
          "model_module": "@jupyter-widgets/base",
          "model_name": "LayoutModel",
          "state": {
            "_view_name": "LayoutView",
            "grid_template_rows": null,
            "right": null,
            "justify_content": null,
            "_view_module": "@jupyter-widgets/base",
            "overflow": null,
            "_model_module_version": "1.2.0",
            "_view_count": null,
            "flex_flow": null,
            "width": null,
            "min_width": null,
            "border": null,
            "align_items": null,
            "bottom": null,
            "_model_module": "@jupyter-widgets/base",
            "top": null,
            "grid_column": null,
            "overflow_y": null,
            "overflow_x": null,
            "grid_auto_flow": null,
            "grid_area": null,
            "grid_template_columns": null,
            "flex": null,
            "_model_name": "LayoutModel",
            "justify_items": null,
            "grid_row": null,
            "max_height": null,
            "align_content": null,
            "visibility": null,
            "align_self": null,
            "height": null,
            "min_height": null,
            "padding": null,
            "grid_auto_rows": null,
            "grid_gap": null,
            "max_width": null,
            "order": null,
            "_view_module_version": "1.2.0",
            "grid_template_areas": null,
            "object_position": null,
            "object_fit": null,
            "grid_auto_columns": null,
            "margin": null,
            "display": null,
            "left": null
          }
        },
        "5c24dfc787b84377910c6747eac8af00": {
          "model_module": "@jupyter-widgets/controls",
          "model_name": "HBoxModel",
          "state": {
            "_view_name": "HBoxView",
            "_dom_classes": [],
            "_model_name": "HBoxModel",
            "_view_module": "@jupyter-widgets/controls",
            "_model_module_version": "1.5.0",
            "_view_count": null,
            "_view_module_version": "1.5.0",
            "box_style": "",
            "layout": "IPY_MODEL_e0266fd52add47df8c73672ac9b67d39",
            "_model_module": "@jupyter-widgets/controls",
            "children": [
              "IPY_MODEL_4730645c737f445cbd08b825256a914c",
              "IPY_MODEL_e7dac312a67343b38249afd8c3cbefcb"
            ]
          }
        },
        "e0266fd52add47df8c73672ac9b67d39": {
          "model_module": "@jupyter-widgets/base",
          "model_name": "LayoutModel",
          "state": {
            "_view_name": "LayoutView",
            "grid_template_rows": null,
            "right": null,
            "justify_content": null,
            "_view_module": "@jupyter-widgets/base",
            "overflow": null,
            "_model_module_version": "1.2.0",
            "_view_count": null,
            "flex_flow": null,
            "width": null,
            "min_width": null,
            "border": null,
            "align_items": null,
            "bottom": null,
            "_model_module": "@jupyter-widgets/base",
            "top": null,
            "grid_column": null,
            "overflow_y": null,
            "overflow_x": null,
            "grid_auto_flow": null,
            "grid_area": null,
            "grid_template_columns": null,
            "flex": null,
            "_model_name": "LayoutModel",
            "justify_items": null,
            "grid_row": null,
            "max_height": null,
            "align_content": null,
            "visibility": null,
            "align_self": null,
            "height": null,
            "min_height": null,
            "padding": null,
            "grid_auto_rows": null,
            "grid_gap": null,
            "max_width": null,
            "order": null,
            "_view_module_version": "1.2.0",
            "grid_template_areas": null,
            "object_position": null,
            "object_fit": null,
            "grid_auto_columns": null,
            "margin": null,
            "display": null,
            "left": null
          }
        },
        "4730645c737f445cbd08b825256a914c": {
          "model_module": "@jupyter-widgets/controls",
          "model_name": "IntProgressModel",
          "state": {
            "_view_name": "ProgressView",
            "style": "IPY_MODEL_e451e824e96d48ddba42b57e7d1fb481",
            "_dom_classes": [],
            "description": "Evaluating",
            "_model_name": "IntProgressModel",
            "bar_style": "success",
            "max": 12,
            "_view_module": "@jupyter-widgets/controls",
            "_model_module_version": "1.5.0",
            "value": 12,
            "_view_count": null,
            "_view_module_version": "1.5.0",
            "orientation": "horizontal",
            "min": 0,
            "description_tooltip": null,
            "_model_module": "@jupyter-widgets/controls",
            "layout": "IPY_MODEL_da338c7e59274e909daac393884a4fec"
          }
        },
        "e7dac312a67343b38249afd8c3cbefcb": {
          "model_module": "@jupyter-widgets/controls",
          "model_name": "HTMLModel",
          "state": {
            "_view_name": "HTMLView",
            "style": "IPY_MODEL_34d4737005bb4198ad0f4a77620ee7ee",
            "_dom_classes": [],
            "description": "",
            "_model_name": "HTMLModel",
            "placeholder": "​",
            "_view_module": "@jupyter-widgets/controls",
            "_model_module_version": "1.5.0",
            "value": "100% 12/12 [00:00&lt;00:00, 12.21it/s]",
            "_view_count": null,
            "_view_module_version": "1.5.0",
            "description_tooltip": null,
            "_model_module": "@jupyter-widgets/controls",
            "layout": "IPY_MODEL_ffd7bdc3fd8043f1bd111b509afece47"
          }
        },
        "e451e824e96d48ddba42b57e7d1fb481": {
          "model_module": "@jupyter-widgets/controls",
          "model_name": "ProgressStyleModel",
          "state": {
            "_view_name": "StyleView",
            "_model_name": "ProgressStyleModel",
            "description_width": "initial",
            "_view_module": "@jupyter-widgets/base",
            "_model_module_version": "1.5.0",
            "_view_count": null,
            "_view_module_version": "1.2.0",
            "bar_color": null,
            "_model_module": "@jupyter-widgets/controls"
          }
        },
        "da338c7e59274e909daac393884a4fec": {
          "model_module": "@jupyter-widgets/base",
          "model_name": "LayoutModel",
          "state": {
            "_view_name": "LayoutView",
            "grid_template_rows": null,
            "right": null,
            "justify_content": null,
            "_view_module": "@jupyter-widgets/base",
            "overflow": null,
            "_model_module_version": "1.2.0",
            "_view_count": null,
            "flex_flow": null,
            "width": null,
            "min_width": null,
            "border": null,
            "align_items": null,
            "bottom": null,
            "_model_module": "@jupyter-widgets/base",
            "top": null,
            "grid_column": null,
            "overflow_y": null,
            "overflow_x": null,
            "grid_auto_flow": null,
            "grid_area": null,
            "grid_template_columns": null,
            "flex": null,
            "_model_name": "LayoutModel",
            "justify_items": null,
            "grid_row": null,
            "max_height": null,
            "align_content": null,
            "visibility": null,
            "align_self": null,
            "height": null,
            "min_height": null,
            "padding": null,
            "grid_auto_rows": null,
            "grid_gap": null,
            "max_width": null,
            "order": null,
            "_view_module_version": "1.2.0",
            "grid_template_areas": null,
            "object_position": null,
            "object_fit": null,
            "grid_auto_columns": null,
            "margin": null,
            "display": null,
            "left": null
          }
        },
        "34d4737005bb4198ad0f4a77620ee7ee": {
          "model_module": "@jupyter-widgets/controls",
          "model_name": "DescriptionStyleModel",
          "state": {
            "_view_name": "StyleView",
            "_model_name": "DescriptionStyleModel",
            "description_width": "",
            "_view_module": "@jupyter-widgets/base",
            "_model_module_version": "1.5.0",
            "_view_count": null,
            "_view_module_version": "1.2.0",
            "_model_module": "@jupyter-widgets/controls"
          }
        },
        "ffd7bdc3fd8043f1bd111b509afece47": {
          "model_module": "@jupyter-widgets/base",
          "model_name": "LayoutModel",
          "state": {
            "_view_name": "LayoutView",
            "grid_template_rows": null,
            "right": null,
            "justify_content": null,
            "_view_module": "@jupyter-widgets/base",
            "overflow": null,
            "_model_module_version": "1.2.0",
            "_view_count": null,
            "flex_flow": null,
            "width": null,
            "min_width": null,
            "border": null,
            "align_items": null,
            "bottom": null,
            "_model_module": "@jupyter-widgets/base",
            "top": null,
            "grid_column": null,
            "overflow_y": null,
            "overflow_x": null,
            "grid_auto_flow": null,
            "grid_area": null,
            "grid_template_columns": null,
            "flex": null,
            "_model_name": "LayoutModel",
            "justify_items": null,
            "grid_row": null,
            "max_height": null,
            "align_content": null,
            "visibility": null,
            "align_self": null,
            "height": null,
            "min_height": null,
            "padding": null,
            "grid_auto_rows": null,
            "grid_gap": null,
            "max_width": null,
            "order": null,
            "_view_module_version": "1.2.0",
            "grid_template_areas": null,
            "object_position": null,
            "object_fit": null,
            "grid_auto_columns": null,
            "margin": null,
            "display": null,
            "left": null
          }
        },
        "2e4df017218241f4a4bd8c983197d890": {
          "model_module": "@jupyter-widgets/controls",
          "model_name": "HBoxModel",
          "state": {
            "_view_name": "HBoxView",
            "_dom_classes": [],
            "_model_name": "HBoxModel",
            "_view_module": "@jupyter-widgets/controls",
            "_model_module_version": "1.5.0",
            "_view_count": null,
            "_view_module_version": "1.5.0",
            "box_style": "",
            "layout": "IPY_MODEL_10a50ad787d447e89a40e14e80ab7281",
            "_model_module": "@jupyter-widgets/controls",
            "children": [
              "IPY_MODEL_acc989f21f9f435591163f3fc9744fd4",
              "IPY_MODEL_ec415e40d4ba4daba32379d6926b2461"
            ]
          }
        },
        "10a50ad787d447e89a40e14e80ab7281": {
          "model_module": "@jupyter-widgets/base",
          "model_name": "LayoutModel",
          "state": {
            "_view_name": "LayoutView",
            "grid_template_rows": null,
            "right": null,
            "justify_content": null,
            "_view_module": "@jupyter-widgets/base",
            "overflow": null,
            "_model_module_version": "1.2.0",
            "_view_count": null,
            "flex_flow": null,
            "width": null,
            "min_width": null,
            "border": null,
            "align_items": null,
            "bottom": null,
            "_model_module": "@jupyter-widgets/base",
            "top": null,
            "grid_column": null,
            "overflow_y": null,
            "overflow_x": null,
            "grid_auto_flow": null,
            "grid_area": null,
            "grid_template_columns": null,
            "flex": null,
            "_model_name": "LayoutModel",
            "justify_items": null,
            "grid_row": null,
            "max_height": null,
            "align_content": null,
            "visibility": null,
            "align_self": null,
            "height": null,
            "min_height": null,
            "padding": null,
            "grid_auto_rows": null,
            "grid_gap": null,
            "max_width": null,
            "order": null,
            "_view_module_version": "1.2.0",
            "grid_template_areas": null,
            "object_position": null,
            "object_fit": null,
            "grid_auto_columns": null,
            "margin": null,
            "display": null,
            "left": null
          }
        },
        "acc989f21f9f435591163f3fc9744fd4": {
          "model_module": "@jupyter-widgets/controls",
          "model_name": "IntProgressModel",
          "state": {
            "_view_name": "ProgressView",
            "style": "IPY_MODEL_46116562c63e4ea8a0a02508a2665dbc",
            "_dom_classes": [],
            "description": "Iteration",
            "_model_name": "IntProgressModel",
            "bar_style": "success",
            "max": 132,
            "_view_module": "@jupyter-widgets/controls",
            "_model_module_version": "1.5.0",
            "value": 132,
            "_view_count": null,
            "_view_module_version": "1.5.0",
            "orientation": "horizontal",
            "min": 0,
            "description_tooltip": null,
            "_model_module": "@jupyter-widgets/controls",
            "layout": "IPY_MODEL_ac1f3fd9bdad49a4adf54852a66237a7"
          }
        },
        "ec415e40d4ba4daba32379d6926b2461": {
          "model_module": "@jupyter-widgets/controls",
          "model_name": "HTMLModel",
          "state": {
            "_view_name": "HTMLView",
            "style": "IPY_MODEL_7be9552434254a1c8b78a41d6fd9e9df",
            "_dom_classes": [],
            "description": "",
            "_model_name": "HTMLModel",
            "placeholder": "​",
            "_view_module": "@jupyter-widgets/controls",
            "_model_module_version": "1.5.0",
            "value": "100% 132/132 [00:41&lt;00:00,  3.56it/s, loss=2.82]",
            "_view_count": null,
            "_view_module_version": "1.5.0",
            "description_tooltip": null,
            "_model_module": "@jupyter-widgets/controls",
            "layout": "IPY_MODEL_18e30270313a4baab5680f719c7e459b"
          }
        },
        "46116562c63e4ea8a0a02508a2665dbc": {
          "model_module": "@jupyter-widgets/controls",
          "model_name": "ProgressStyleModel",
          "state": {
            "_view_name": "StyleView",
            "_model_name": "ProgressStyleModel",
            "description_width": "initial",
            "_view_module": "@jupyter-widgets/base",
            "_model_module_version": "1.5.0",
            "_view_count": null,
            "_view_module_version": "1.2.0",
            "bar_color": null,
            "_model_module": "@jupyter-widgets/controls"
          }
        },
        "ac1f3fd9bdad49a4adf54852a66237a7": {
          "model_module": "@jupyter-widgets/base",
          "model_name": "LayoutModel",
          "state": {
            "_view_name": "LayoutView",
            "grid_template_rows": null,
            "right": null,
            "justify_content": null,
            "_view_module": "@jupyter-widgets/base",
            "overflow": null,
            "_model_module_version": "1.2.0",
            "_view_count": null,
            "flex_flow": null,
            "width": null,
            "min_width": null,
            "border": null,
            "align_items": null,
            "bottom": null,
            "_model_module": "@jupyter-widgets/base",
            "top": null,
            "grid_column": null,
            "overflow_y": null,
            "overflow_x": null,
            "grid_auto_flow": null,
            "grid_area": null,
            "grid_template_columns": null,
            "flex": null,
            "_model_name": "LayoutModel",
            "justify_items": null,
            "grid_row": null,
            "max_height": null,
            "align_content": null,
            "visibility": null,
            "align_self": null,
            "height": null,
            "min_height": null,
            "padding": null,
            "grid_auto_rows": null,
            "grid_gap": null,
            "max_width": null,
            "order": null,
            "_view_module_version": "1.2.0",
            "grid_template_areas": null,
            "object_position": null,
            "object_fit": null,
            "grid_auto_columns": null,
            "margin": null,
            "display": null,
            "left": null
          }
        },
        "7be9552434254a1c8b78a41d6fd9e9df": {
          "model_module": "@jupyter-widgets/controls",
          "model_name": "DescriptionStyleModel",
          "state": {
            "_view_name": "StyleView",
            "_model_name": "DescriptionStyleModel",
            "description_width": "",
            "_view_module": "@jupyter-widgets/base",
            "_model_module_version": "1.5.0",
            "_view_count": null,
            "_view_module_version": "1.2.0",
            "_model_module": "@jupyter-widgets/controls"
          }
        },
        "18e30270313a4baab5680f719c7e459b": {
          "model_module": "@jupyter-widgets/base",
          "model_name": "LayoutModel",
          "state": {
            "_view_name": "LayoutView",
            "grid_template_rows": null,
            "right": null,
            "justify_content": null,
            "_view_module": "@jupyter-widgets/base",
            "overflow": null,
            "_model_module_version": "1.2.0",
            "_view_count": null,
            "flex_flow": null,
            "width": null,
            "min_width": null,
            "border": null,
            "align_items": null,
            "bottom": null,
            "_model_module": "@jupyter-widgets/base",
            "top": null,
            "grid_column": null,
            "overflow_y": null,
            "overflow_x": null,
            "grid_auto_flow": null,
            "grid_area": null,
            "grid_template_columns": null,
            "flex": null,
            "_model_name": "LayoutModel",
            "justify_items": null,
            "grid_row": null,
            "max_height": null,
            "align_content": null,
            "visibility": null,
            "align_self": null,
            "height": null,
            "min_height": null,
            "padding": null,
            "grid_auto_rows": null,
            "grid_gap": null,
            "max_width": null,
            "order": null,
            "_view_module_version": "1.2.0",
            "grid_template_areas": null,
            "object_position": null,
            "object_fit": null,
            "grid_auto_columns": null,
            "margin": null,
            "display": null,
            "left": null
          }
        },
        "0f01550d037e4fa8ae2342c8ca20bbb0": {
          "model_module": "@jupyter-widgets/controls",
          "model_name": "HBoxModel",
          "state": {
            "_view_name": "HBoxView",
            "_dom_classes": [],
            "_model_name": "HBoxModel",
            "_view_module": "@jupyter-widgets/controls",
            "_model_module_version": "1.5.0",
            "_view_count": null,
            "_view_module_version": "1.5.0",
            "box_style": "",
            "layout": "IPY_MODEL_705cc73184d64360b0bbfb328a6d14a1",
            "_model_module": "@jupyter-widgets/controls",
            "children": [
              "IPY_MODEL_9162028161a641039c2b0980c7604536",
              "IPY_MODEL_13bca9f3a8424b189eb5c09655abed17"
            ]
          }
        },
        "705cc73184d64360b0bbfb328a6d14a1": {
          "model_module": "@jupyter-widgets/base",
          "model_name": "LayoutModel",
          "state": {
            "_view_name": "LayoutView",
            "grid_template_rows": null,
            "right": null,
            "justify_content": null,
            "_view_module": "@jupyter-widgets/base",
            "overflow": null,
            "_model_module_version": "1.2.0",
            "_view_count": null,
            "flex_flow": null,
            "width": null,
            "min_width": null,
            "border": null,
            "align_items": null,
            "bottom": null,
            "_model_module": "@jupyter-widgets/base",
            "top": null,
            "grid_column": null,
            "overflow_y": null,
            "overflow_x": null,
            "grid_auto_flow": null,
            "grid_area": null,
            "grid_template_columns": null,
            "flex": null,
            "_model_name": "LayoutModel",
            "justify_items": null,
            "grid_row": null,
            "max_height": null,
            "align_content": null,
            "visibility": null,
            "align_self": null,
            "height": null,
            "min_height": null,
            "padding": null,
            "grid_auto_rows": null,
            "grid_gap": null,
            "max_width": null,
            "order": null,
            "_view_module_version": "1.2.0",
            "grid_template_areas": null,
            "object_position": null,
            "object_fit": null,
            "grid_auto_columns": null,
            "margin": null,
            "display": null,
            "left": null
          }
        },
        "9162028161a641039c2b0980c7604536": {
          "model_module": "@jupyter-widgets/controls",
          "model_name": "IntProgressModel",
          "state": {
            "_view_name": "ProgressView",
            "style": "IPY_MODEL_d051aa74caca436d87066b1ef56d4b5d",
            "_dom_classes": [],
            "description": "Evaluating",
            "_model_name": "IntProgressModel",
            "bar_style": "success",
            "max": 12,
            "_view_module": "@jupyter-widgets/controls",
            "_model_module_version": "1.5.0",
            "value": 12,
            "_view_count": null,
            "_view_module_version": "1.5.0",
            "orientation": "horizontal",
            "min": 0,
            "description_tooltip": null,
            "_model_module": "@jupyter-widgets/controls",
            "layout": "IPY_MODEL_f67d8dfc78ea4c5791b7ccc150565d7b"
          }
        },
        "13bca9f3a8424b189eb5c09655abed17": {
          "model_module": "@jupyter-widgets/controls",
          "model_name": "HTMLModel",
          "state": {
            "_view_name": "HTMLView",
            "style": "IPY_MODEL_1d6f7b93b019437ca1511c63a342bab8",
            "_dom_classes": [],
            "description": "",
            "_model_name": "HTMLModel",
            "placeholder": "​",
            "_view_module": "@jupyter-widgets/controls",
            "_model_module_version": "1.5.0",
            "value": "100% 12/12 [00:00&lt;00:00, 12.44it/s]",
            "_view_count": null,
            "_view_module_version": "1.5.0",
            "description_tooltip": null,
            "_model_module": "@jupyter-widgets/controls",
            "layout": "IPY_MODEL_513025eb86294642882fa7d585d5198e"
          }
        },
        "d051aa74caca436d87066b1ef56d4b5d": {
          "model_module": "@jupyter-widgets/controls",
          "model_name": "ProgressStyleModel",
          "state": {
            "_view_name": "StyleView",
            "_model_name": "ProgressStyleModel",
            "description_width": "initial",
            "_view_module": "@jupyter-widgets/base",
            "_model_module_version": "1.5.0",
            "_view_count": null,
            "_view_module_version": "1.2.0",
            "bar_color": null,
            "_model_module": "@jupyter-widgets/controls"
          }
        },
        "f67d8dfc78ea4c5791b7ccc150565d7b": {
          "model_module": "@jupyter-widgets/base",
          "model_name": "LayoutModel",
          "state": {
            "_view_name": "LayoutView",
            "grid_template_rows": null,
            "right": null,
            "justify_content": null,
            "_view_module": "@jupyter-widgets/base",
            "overflow": null,
            "_model_module_version": "1.2.0",
            "_view_count": null,
            "flex_flow": null,
            "width": null,
            "min_width": null,
            "border": null,
            "align_items": null,
            "bottom": null,
            "_model_module": "@jupyter-widgets/base",
            "top": null,
            "grid_column": null,
            "overflow_y": null,
            "overflow_x": null,
            "grid_auto_flow": null,
            "grid_area": null,
            "grid_template_columns": null,
            "flex": null,
            "_model_name": "LayoutModel",
            "justify_items": null,
            "grid_row": null,
            "max_height": null,
            "align_content": null,
            "visibility": null,
            "align_self": null,
            "height": null,
            "min_height": null,
            "padding": null,
            "grid_auto_rows": null,
            "grid_gap": null,
            "max_width": null,
            "order": null,
            "_view_module_version": "1.2.0",
            "grid_template_areas": null,
            "object_position": null,
            "object_fit": null,
            "grid_auto_columns": null,
            "margin": null,
            "display": null,
            "left": null
          }
        },
        "1d6f7b93b019437ca1511c63a342bab8": {
          "model_module": "@jupyter-widgets/controls",
          "model_name": "DescriptionStyleModel",
          "state": {
            "_view_name": "StyleView",
            "_model_name": "DescriptionStyleModel",
            "description_width": "",
            "_view_module": "@jupyter-widgets/base",
            "_model_module_version": "1.5.0",
            "_view_count": null,
            "_view_module_version": "1.2.0",
            "_model_module": "@jupyter-widgets/controls"
          }
        },
        "513025eb86294642882fa7d585d5198e": {
          "model_module": "@jupyter-widgets/base",
          "model_name": "LayoutModel",
          "state": {
            "_view_name": "LayoutView",
            "grid_template_rows": null,
            "right": null,
            "justify_content": null,
            "_view_module": "@jupyter-widgets/base",
            "overflow": null,
            "_model_module_version": "1.2.0",
            "_view_count": null,
            "flex_flow": null,
            "width": null,
            "min_width": null,
            "border": null,
            "align_items": null,
            "bottom": null,
            "_model_module": "@jupyter-widgets/base",
            "top": null,
            "grid_column": null,
            "overflow_y": null,
            "overflow_x": null,
            "grid_auto_flow": null,
            "grid_area": null,
            "grid_template_columns": null,
            "flex": null,
            "_model_name": "LayoutModel",
            "justify_items": null,
            "grid_row": null,
            "max_height": null,
            "align_content": null,
            "visibility": null,
            "align_self": null,
            "height": null,
            "min_height": null,
            "padding": null,
            "grid_auto_rows": null,
            "grid_gap": null,
            "max_width": null,
            "order": null,
            "_view_module_version": "1.2.0",
            "grid_template_areas": null,
            "object_position": null,
            "object_fit": null,
            "grid_auto_columns": null,
            "margin": null,
            "display": null,
            "left": null
          }
        },
        "f43e9bd277534daaae5e09f1ff7ab14b": {
          "model_module": "@jupyter-widgets/controls",
          "model_name": "HBoxModel",
          "state": {
            "_view_name": "HBoxView",
            "_dom_classes": [],
            "_model_name": "HBoxModel",
            "_view_module": "@jupyter-widgets/controls",
            "_model_module_version": "1.5.0",
            "_view_count": null,
            "_view_module_version": "1.5.0",
            "box_style": "",
            "layout": "IPY_MODEL_37e835395e774b4aba7c55156e0f5d8b",
            "_model_module": "@jupyter-widgets/controls",
            "children": [
              "IPY_MODEL_de9848681000457780b24ecae88d143c",
              "IPY_MODEL_c1d0a05ebec64d4297c9fea5d7d9b556"
            ]
          }
        },
        "37e835395e774b4aba7c55156e0f5d8b": {
          "model_module": "@jupyter-widgets/base",
          "model_name": "LayoutModel",
          "state": {
            "_view_name": "LayoutView",
            "grid_template_rows": null,
            "right": null,
            "justify_content": null,
            "_view_module": "@jupyter-widgets/base",
            "overflow": null,
            "_model_module_version": "1.2.0",
            "_view_count": null,
            "flex_flow": null,
            "width": null,
            "min_width": null,
            "border": null,
            "align_items": null,
            "bottom": null,
            "_model_module": "@jupyter-widgets/base",
            "top": null,
            "grid_column": null,
            "overflow_y": null,
            "overflow_x": null,
            "grid_auto_flow": null,
            "grid_area": null,
            "grid_template_columns": null,
            "flex": null,
            "_model_name": "LayoutModel",
            "justify_items": null,
            "grid_row": null,
            "max_height": null,
            "align_content": null,
            "visibility": null,
            "align_self": null,
            "height": null,
            "min_height": null,
            "padding": null,
            "grid_auto_rows": null,
            "grid_gap": null,
            "max_width": null,
            "order": null,
            "_view_module_version": "1.2.0",
            "grid_template_areas": null,
            "object_position": null,
            "object_fit": null,
            "grid_auto_columns": null,
            "margin": null,
            "display": null,
            "left": null
          }
        },
        "de9848681000457780b24ecae88d143c": {
          "model_module": "@jupyter-widgets/controls",
          "model_name": "IntProgressModel",
          "state": {
            "_view_name": "ProgressView",
            "style": "IPY_MODEL_b7b5d368ea25497594ee7060f2fc3a7d",
            "_dom_classes": [],
            "description": "Evaluating",
            "_model_name": "IntProgressModel",
            "bar_style": "success",
            "max": 12,
            "_view_module": "@jupyter-widgets/controls",
            "_model_module_version": "1.5.0",
            "value": 12,
            "_view_count": null,
            "_view_module_version": "1.5.0",
            "orientation": "horizontal",
            "min": 0,
            "description_tooltip": null,
            "_model_module": "@jupyter-widgets/controls",
            "layout": "IPY_MODEL_66ff9a387c3440c0a714fc55b56147d8"
          }
        },
        "c1d0a05ebec64d4297c9fea5d7d9b556": {
          "model_module": "@jupyter-widgets/controls",
          "model_name": "HTMLModel",
          "state": {
            "_view_name": "HTMLView",
            "style": "IPY_MODEL_08b77cc848b04cfb8986f65dec75504a",
            "_dom_classes": [],
            "description": "",
            "_model_name": "HTMLModel",
            "placeholder": "​",
            "_view_module": "@jupyter-widgets/controls",
            "_model_module_version": "1.5.0",
            "value": "100% 12/12 [00:01&lt;00:00, 12.14it/s]",
            "_view_count": null,
            "_view_module_version": "1.5.0",
            "description_tooltip": null,
            "_model_module": "@jupyter-widgets/controls",
            "layout": "IPY_MODEL_efdfd696baec4fac99f14e9e1bf96adb"
          }
        },
        "b7b5d368ea25497594ee7060f2fc3a7d": {
          "model_module": "@jupyter-widgets/controls",
          "model_name": "ProgressStyleModel",
          "state": {
            "_view_name": "StyleView",
            "_model_name": "ProgressStyleModel",
            "description_width": "initial",
            "_view_module": "@jupyter-widgets/base",
            "_model_module_version": "1.5.0",
            "_view_count": null,
            "_view_module_version": "1.2.0",
            "bar_color": null,
            "_model_module": "@jupyter-widgets/controls"
          }
        },
        "66ff9a387c3440c0a714fc55b56147d8": {
          "model_module": "@jupyter-widgets/base",
          "model_name": "LayoutModel",
          "state": {
            "_view_name": "LayoutView",
            "grid_template_rows": null,
            "right": null,
            "justify_content": null,
            "_view_module": "@jupyter-widgets/base",
            "overflow": null,
            "_model_module_version": "1.2.0",
            "_view_count": null,
            "flex_flow": null,
            "width": null,
            "min_width": null,
            "border": null,
            "align_items": null,
            "bottom": null,
            "_model_module": "@jupyter-widgets/base",
            "top": null,
            "grid_column": null,
            "overflow_y": null,
            "overflow_x": null,
            "grid_auto_flow": null,
            "grid_area": null,
            "grid_template_columns": null,
            "flex": null,
            "_model_name": "LayoutModel",
            "justify_items": null,
            "grid_row": null,
            "max_height": null,
            "align_content": null,
            "visibility": null,
            "align_self": null,
            "height": null,
            "min_height": null,
            "padding": null,
            "grid_auto_rows": null,
            "grid_gap": null,
            "max_width": null,
            "order": null,
            "_view_module_version": "1.2.0",
            "grid_template_areas": null,
            "object_position": null,
            "object_fit": null,
            "grid_auto_columns": null,
            "margin": null,
            "display": null,
            "left": null
          }
        },
        "08b77cc848b04cfb8986f65dec75504a": {
          "model_module": "@jupyter-widgets/controls",
          "model_name": "DescriptionStyleModel",
          "state": {
            "_view_name": "StyleView",
            "_model_name": "DescriptionStyleModel",
            "description_width": "",
            "_view_module": "@jupyter-widgets/base",
            "_model_module_version": "1.5.0",
            "_view_count": null,
            "_view_module_version": "1.2.0",
            "_model_module": "@jupyter-widgets/controls"
          }
        },
        "efdfd696baec4fac99f14e9e1bf96adb": {
          "model_module": "@jupyter-widgets/base",
          "model_name": "LayoutModel",
          "state": {
            "_view_name": "LayoutView",
            "grid_template_rows": null,
            "right": null,
            "justify_content": null,
            "_view_module": "@jupyter-widgets/base",
            "overflow": null,
            "_model_module_version": "1.2.0",
            "_view_count": null,
            "flex_flow": null,
            "width": null,
            "min_width": null,
            "border": null,
            "align_items": null,
            "bottom": null,
            "_model_module": "@jupyter-widgets/base",
            "top": null,
            "grid_column": null,
            "overflow_y": null,
            "overflow_x": null,
            "grid_auto_flow": null,
            "grid_area": null,
            "grid_template_columns": null,
            "flex": null,
            "_model_name": "LayoutModel",
            "justify_items": null,
            "grid_row": null,
            "max_height": null,
            "align_content": null,
            "visibility": null,
            "align_self": null,
            "height": null,
            "min_height": null,
            "padding": null,
            "grid_auto_rows": null,
            "grid_gap": null,
            "max_width": null,
            "order": null,
            "_view_module_version": "1.2.0",
            "grid_template_areas": null,
            "object_position": null,
            "object_fit": null,
            "grid_auto_columns": null,
            "margin": null,
            "display": null,
            "left": null
          }
        },
        "dfc97e8b777c45a4b20c41c6671bc73f": {
          "model_module": "@jupyter-widgets/controls",
          "model_name": "HBoxModel",
          "state": {
            "_view_name": "HBoxView",
            "_dom_classes": [],
            "_model_name": "HBoxModel",
            "_view_module": "@jupyter-widgets/controls",
            "_model_module_version": "1.5.0",
            "_view_count": null,
            "_view_module_version": "1.5.0",
            "box_style": "",
            "layout": "IPY_MODEL_25068fb5b91949adb892ef6b27a75490",
            "_model_module": "@jupyter-widgets/controls",
            "children": [
              "IPY_MODEL_e8680f3bd1c94e1fb1c4b9d23d152ce3",
              "IPY_MODEL_80090d29579c4f57863a0dbbc189a349"
            ]
          }
        },
        "25068fb5b91949adb892ef6b27a75490": {
          "model_module": "@jupyter-widgets/base",
          "model_name": "LayoutModel",
          "state": {
            "_view_name": "LayoutView",
            "grid_template_rows": null,
            "right": null,
            "justify_content": null,
            "_view_module": "@jupyter-widgets/base",
            "overflow": null,
            "_model_module_version": "1.2.0",
            "_view_count": null,
            "flex_flow": null,
            "width": null,
            "min_width": null,
            "border": null,
            "align_items": null,
            "bottom": null,
            "_model_module": "@jupyter-widgets/base",
            "top": null,
            "grid_column": null,
            "overflow_y": null,
            "overflow_x": null,
            "grid_auto_flow": null,
            "grid_area": null,
            "grid_template_columns": null,
            "flex": null,
            "_model_name": "LayoutModel",
            "justify_items": null,
            "grid_row": null,
            "max_height": null,
            "align_content": null,
            "visibility": null,
            "align_self": null,
            "height": null,
            "min_height": null,
            "padding": null,
            "grid_auto_rows": null,
            "grid_gap": null,
            "max_width": null,
            "order": null,
            "_view_module_version": "1.2.0",
            "grid_template_areas": null,
            "object_position": null,
            "object_fit": null,
            "grid_auto_columns": null,
            "margin": null,
            "display": null,
            "left": null
          }
        },
        "e8680f3bd1c94e1fb1c4b9d23d152ce3": {
          "model_module": "@jupyter-widgets/controls",
          "model_name": "IntProgressModel",
          "state": {
            "_view_name": "ProgressView",
            "style": "IPY_MODEL_7dc3fac1ec2140feaaf73245d8f26df9",
            "_dom_classes": [],
            "description": "Evaluating",
            "_model_name": "IntProgressModel",
            "bar_style": "success",
            "max": 12,
            "_view_module": "@jupyter-widgets/controls",
            "_model_module_version": "1.5.0",
            "value": 12,
            "_view_count": null,
            "_view_module_version": "1.5.0",
            "orientation": "horizontal",
            "min": 0,
            "description_tooltip": null,
            "_model_module": "@jupyter-widgets/controls",
            "layout": "IPY_MODEL_e969a65797c94777b399b9f4cd2ea6fb"
          }
        },
        "80090d29579c4f57863a0dbbc189a349": {
          "model_module": "@jupyter-widgets/controls",
          "model_name": "HTMLModel",
          "state": {
            "_view_name": "HTMLView",
            "style": "IPY_MODEL_e0dae4cc02a3446289e7a8fa19e8a9f6",
            "_dom_classes": [],
            "description": "",
            "_model_name": "HTMLModel",
            "placeholder": "​",
            "_view_module": "@jupyter-widgets/controls",
            "_model_module_version": "1.5.0",
            "value": "100% 12/12 [00:01&lt;00:00, 12.09it/s]",
            "_view_count": null,
            "_view_module_version": "1.5.0",
            "description_tooltip": null,
            "_model_module": "@jupyter-widgets/controls",
            "layout": "IPY_MODEL_abc23588ea9f4cb89cd4f8300651bf7e"
          }
        },
        "7dc3fac1ec2140feaaf73245d8f26df9": {
          "model_module": "@jupyter-widgets/controls",
          "model_name": "ProgressStyleModel",
          "state": {
            "_view_name": "StyleView",
            "_model_name": "ProgressStyleModel",
            "description_width": "initial",
            "_view_module": "@jupyter-widgets/base",
            "_model_module_version": "1.5.0",
            "_view_count": null,
            "_view_module_version": "1.2.0",
            "bar_color": null,
            "_model_module": "@jupyter-widgets/controls"
          }
        },
        "e969a65797c94777b399b9f4cd2ea6fb": {
          "model_module": "@jupyter-widgets/base",
          "model_name": "LayoutModel",
          "state": {
            "_view_name": "LayoutView",
            "grid_template_rows": null,
            "right": null,
            "justify_content": null,
            "_view_module": "@jupyter-widgets/base",
            "overflow": null,
            "_model_module_version": "1.2.0",
            "_view_count": null,
            "flex_flow": null,
            "width": null,
            "min_width": null,
            "border": null,
            "align_items": null,
            "bottom": null,
            "_model_module": "@jupyter-widgets/base",
            "top": null,
            "grid_column": null,
            "overflow_y": null,
            "overflow_x": null,
            "grid_auto_flow": null,
            "grid_area": null,
            "grid_template_columns": null,
            "flex": null,
            "_model_name": "LayoutModel",
            "justify_items": null,
            "grid_row": null,
            "max_height": null,
            "align_content": null,
            "visibility": null,
            "align_self": null,
            "height": null,
            "min_height": null,
            "padding": null,
            "grid_auto_rows": null,
            "grid_gap": null,
            "max_width": null,
            "order": null,
            "_view_module_version": "1.2.0",
            "grid_template_areas": null,
            "object_position": null,
            "object_fit": null,
            "grid_auto_columns": null,
            "margin": null,
            "display": null,
            "left": null
          }
        },
        "e0dae4cc02a3446289e7a8fa19e8a9f6": {
          "model_module": "@jupyter-widgets/controls",
          "model_name": "DescriptionStyleModel",
          "state": {
            "_view_name": "StyleView",
            "_model_name": "DescriptionStyleModel",
            "description_width": "",
            "_view_module": "@jupyter-widgets/base",
            "_model_module_version": "1.5.0",
            "_view_count": null,
            "_view_module_version": "1.2.0",
            "_model_module": "@jupyter-widgets/controls"
          }
        },
        "abc23588ea9f4cb89cd4f8300651bf7e": {
          "model_module": "@jupyter-widgets/base",
          "model_name": "LayoutModel",
          "state": {
            "_view_name": "LayoutView",
            "grid_template_rows": null,
            "right": null,
            "justify_content": null,
            "_view_module": "@jupyter-widgets/base",
            "overflow": null,
            "_model_module_version": "1.2.0",
            "_view_count": null,
            "flex_flow": null,
            "width": null,
            "min_width": null,
            "border": null,
            "align_items": null,
            "bottom": null,
            "_model_module": "@jupyter-widgets/base",
            "top": null,
            "grid_column": null,
            "overflow_y": null,
            "overflow_x": null,
            "grid_auto_flow": null,
            "grid_area": null,
            "grid_template_columns": null,
            "flex": null,
            "_model_name": "LayoutModel",
            "justify_items": null,
            "grid_row": null,
            "max_height": null,
            "align_content": null,
            "visibility": null,
            "align_self": null,
            "height": null,
            "min_height": null,
            "padding": null,
            "grid_auto_rows": null,
            "grid_gap": null,
            "max_width": null,
            "order": null,
            "_view_module_version": "1.2.0",
            "grid_template_areas": null,
            "object_position": null,
            "object_fit": null,
            "grid_auto_columns": null,
            "margin": null,
            "display": null,
            "left": null
          }
        },
        "532406764b21401a81e68cf62547798a": {
          "model_module": "@jupyter-widgets/controls",
          "model_name": "HBoxModel",
          "state": {
            "_view_name": "HBoxView",
            "_dom_classes": [],
            "_model_name": "HBoxModel",
            "_view_module": "@jupyter-widgets/controls",
            "_model_module_version": "1.5.0",
            "_view_count": null,
            "_view_module_version": "1.5.0",
            "box_style": "",
            "layout": "IPY_MODEL_a740dc36d869419587c30981821436f9",
            "_model_module": "@jupyter-widgets/controls",
            "children": [
              "IPY_MODEL_c8e9ed40f3364677b08e86cbf7f87dc0",
              "IPY_MODEL_bafa7a67a87646a6af9381abae2f7eac"
            ]
          }
        },
        "a740dc36d869419587c30981821436f9": {
          "model_module": "@jupyter-widgets/base",
          "model_name": "LayoutModel",
          "state": {
            "_view_name": "LayoutView",
            "grid_template_rows": null,
            "right": null,
            "justify_content": null,
            "_view_module": "@jupyter-widgets/base",
            "overflow": null,
            "_model_module_version": "1.2.0",
            "_view_count": null,
            "flex_flow": null,
            "width": null,
            "min_width": null,
            "border": null,
            "align_items": null,
            "bottom": null,
            "_model_module": "@jupyter-widgets/base",
            "top": null,
            "grid_column": null,
            "overflow_y": null,
            "overflow_x": null,
            "grid_auto_flow": null,
            "grid_area": null,
            "grid_template_columns": null,
            "flex": null,
            "_model_name": "LayoutModel",
            "justify_items": null,
            "grid_row": null,
            "max_height": null,
            "align_content": null,
            "visibility": null,
            "align_self": null,
            "height": null,
            "min_height": null,
            "padding": null,
            "grid_auto_rows": null,
            "grid_gap": null,
            "max_width": null,
            "order": null,
            "_view_module_version": "1.2.0",
            "grid_template_areas": null,
            "object_position": null,
            "object_fit": null,
            "grid_auto_columns": null,
            "margin": null,
            "display": null,
            "left": null
          }
        },
        "c8e9ed40f3364677b08e86cbf7f87dc0": {
          "model_module": "@jupyter-widgets/controls",
          "model_name": "IntProgressModel",
          "state": {
            "_view_name": "ProgressView",
            "style": "IPY_MODEL_402f5cfaeaf24c7b9d4ca63133bb4ba2",
            "_dom_classes": [],
            "description": "Iteration",
            "_model_name": "IntProgressModel",
            "bar_style": "success",
            "max": 132,
            "_view_module": "@jupyter-widgets/controls",
            "_model_module_version": "1.5.0",
            "value": 132,
            "_view_count": null,
            "_view_module_version": "1.5.0",
            "orientation": "horizontal",
            "min": 0,
            "description_tooltip": null,
            "_model_module": "@jupyter-widgets/controls",
            "layout": "IPY_MODEL_96b62d6247864094b5940a7c75283554"
          }
        },
        "bafa7a67a87646a6af9381abae2f7eac": {
          "model_module": "@jupyter-widgets/controls",
          "model_name": "HTMLModel",
          "state": {
            "_view_name": "HTMLView",
            "style": "IPY_MODEL_1764e3485dff47a3ae618eb7b6b75984",
            "_dom_classes": [],
            "description": "",
            "_model_name": "HTMLModel",
            "placeholder": "​",
            "_view_module": "@jupyter-widgets/controls",
            "_model_module_version": "1.5.0",
            "value": "100% 132/132 [00:40&lt;00:00,  3.57it/s, loss=2.72]",
            "_view_count": null,
            "_view_module_version": "1.5.0",
            "description_tooltip": null,
            "_model_module": "@jupyter-widgets/controls",
            "layout": "IPY_MODEL_26c52441e28241be8a5441e5b42d4944"
          }
        },
        "402f5cfaeaf24c7b9d4ca63133bb4ba2": {
          "model_module": "@jupyter-widgets/controls",
          "model_name": "ProgressStyleModel",
          "state": {
            "_view_name": "StyleView",
            "_model_name": "ProgressStyleModel",
            "description_width": "initial",
            "_view_module": "@jupyter-widgets/base",
            "_model_module_version": "1.5.0",
            "_view_count": null,
            "_view_module_version": "1.2.0",
            "bar_color": null,
            "_model_module": "@jupyter-widgets/controls"
          }
        },
        "96b62d6247864094b5940a7c75283554": {
          "model_module": "@jupyter-widgets/base",
          "model_name": "LayoutModel",
          "state": {
            "_view_name": "LayoutView",
            "grid_template_rows": null,
            "right": null,
            "justify_content": null,
            "_view_module": "@jupyter-widgets/base",
            "overflow": null,
            "_model_module_version": "1.2.0",
            "_view_count": null,
            "flex_flow": null,
            "width": null,
            "min_width": null,
            "border": null,
            "align_items": null,
            "bottom": null,
            "_model_module": "@jupyter-widgets/base",
            "top": null,
            "grid_column": null,
            "overflow_y": null,
            "overflow_x": null,
            "grid_auto_flow": null,
            "grid_area": null,
            "grid_template_columns": null,
            "flex": null,
            "_model_name": "LayoutModel",
            "justify_items": null,
            "grid_row": null,
            "max_height": null,
            "align_content": null,
            "visibility": null,
            "align_self": null,
            "height": null,
            "min_height": null,
            "padding": null,
            "grid_auto_rows": null,
            "grid_gap": null,
            "max_width": null,
            "order": null,
            "_view_module_version": "1.2.0",
            "grid_template_areas": null,
            "object_position": null,
            "object_fit": null,
            "grid_auto_columns": null,
            "margin": null,
            "display": null,
            "left": null
          }
        },
        "1764e3485dff47a3ae618eb7b6b75984": {
          "model_module": "@jupyter-widgets/controls",
          "model_name": "DescriptionStyleModel",
          "state": {
            "_view_name": "StyleView",
            "_model_name": "DescriptionStyleModel",
            "description_width": "",
            "_view_module": "@jupyter-widgets/base",
            "_model_module_version": "1.5.0",
            "_view_count": null,
            "_view_module_version": "1.2.0",
            "_model_module": "@jupyter-widgets/controls"
          }
        },
        "26c52441e28241be8a5441e5b42d4944": {
          "model_module": "@jupyter-widgets/base",
          "model_name": "LayoutModel",
          "state": {
            "_view_name": "LayoutView",
            "grid_template_rows": null,
            "right": null,
            "justify_content": null,
            "_view_module": "@jupyter-widgets/base",
            "overflow": null,
            "_model_module_version": "1.2.0",
            "_view_count": null,
            "flex_flow": null,
            "width": null,
            "min_width": null,
            "border": null,
            "align_items": null,
            "bottom": null,
            "_model_module": "@jupyter-widgets/base",
            "top": null,
            "grid_column": null,
            "overflow_y": null,
            "overflow_x": null,
            "grid_auto_flow": null,
            "grid_area": null,
            "grid_template_columns": null,
            "flex": null,
            "_model_name": "LayoutModel",
            "justify_items": null,
            "grid_row": null,
            "max_height": null,
            "align_content": null,
            "visibility": null,
            "align_self": null,
            "height": null,
            "min_height": null,
            "padding": null,
            "grid_auto_rows": null,
            "grid_gap": null,
            "max_width": null,
            "order": null,
            "_view_module_version": "1.2.0",
            "grid_template_areas": null,
            "object_position": null,
            "object_fit": null,
            "grid_auto_columns": null,
            "margin": null,
            "display": null,
            "left": null
          }
        },
        "5bab3f651e1a431f9281339298cdf58f": {
          "model_module": "@jupyter-widgets/controls",
          "model_name": "HBoxModel",
          "state": {
            "_view_name": "HBoxView",
            "_dom_classes": [],
            "_model_name": "HBoxModel",
            "_view_module": "@jupyter-widgets/controls",
            "_model_module_version": "1.5.0",
            "_view_count": null,
            "_view_module_version": "1.5.0",
            "box_style": "",
            "layout": "IPY_MODEL_4567b8d29e37425a8c0c8ef2d01b9884",
            "_model_module": "@jupyter-widgets/controls",
            "children": [
              "IPY_MODEL_2dca7d0b55494c97ae256902cf245007",
              "IPY_MODEL_2557de1c86a94b62acbb59243ceb4675"
            ]
          }
        },
        "4567b8d29e37425a8c0c8ef2d01b9884": {
          "model_module": "@jupyter-widgets/base",
          "model_name": "LayoutModel",
          "state": {
            "_view_name": "LayoutView",
            "grid_template_rows": null,
            "right": null,
            "justify_content": null,
            "_view_module": "@jupyter-widgets/base",
            "overflow": null,
            "_model_module_version": "1.2.0",
            "_view_count": null,
            "flex_flow": null,
            "width": null,
            "min_width": null,
            "border": null,
            "align_items": null,
            "bottom": null,
            "_model_module": "@jupyter-widgets/base",
            "top": null,
            "grid_column": null,
            "overflow_y": null,
            "overflow_x": null,
            "grid_auto_flow": null,
            "grid_area": null,
            "grid_template_columns": null,
            "flex": null,
            "_model_name": "LayoutModel",
            "justify_items": null,
            "grid_row": null,
            "max_height": null,
            "align_content": null,
            "visibility": null,
            "align_self": null,
            "height": null,
            "min_height": null,
            "padding": null,
            "grid_auto_rows": null,
            "grid_gap": null,
            "max_width": null,
            "order": null,
            "_view_module_version": "1.2.0",
            "grid_template_areas": null,
            "object_position": null,
            "object_fit": null,
            "grid_auto_columns": null,
            "margin": null,
            "display": null,
            "left": null
          }
        },
        "2dca7d0b55494c97ae256902cf245007": {
          "model_module": "@jupyter-widgets/controls",
          "model_name": "IntProgressModel",
          "state": {
            "_view_name": "ProgressView",
            "style": "IPY_MODEL_696adfed934c4802b1c563783c02b580",
            "_dom_classes": [],
            "description": "Evaluating",
            "_model_name": "IntProgressModel",
            "bar_style": "success",
            "max": 12,
            "_view_module": "@jupyter-widgets/controls",
            "_model_module_version": "1.5.0",
            "value": 12,
            "_view_count": null,
            "_view_module_version": "1.5.0",
            "orientation": "horizontal",
            "min": 0,
            "description_tooltip": null,
            "_model_module": "@jupyter-widgets/controls",
            "layout": "IPY_MODEL_bd0045203ef847a88b9cd660ba5ce8d9"
          }
        },
        "2557de1c86a94b62acbb59243ceb4675": {
          "model_module": "@jupyter-widgets/controls",
          "model_name": "HTMLModel",
          "state": {
            "_view_name": "HTMLView",
            "style": "IPY_MODEL_8dbf70525109490987a474a8b7fa87d3",
            "_dom_classes": [],
            "description": "",
            "_model_name": "HTMLModel",
            "placeholder": "​",
            "_view_module": "@jupyter-widgets/controls",
            "_model_module_version": "1.5.0",
            "value": "100% 12/12 [00:01&lt;00:00, 11.65it/s]",
            "_view_count": null,
            "_view_module_version": "1.5.0",
            "description_tooltip": null,
            "_model_module": "@jupyter-widgets/controls",
            "layout": "IPY_MODEL_4dd126b11f0c4db1b2b6edabeb8cd3d4"
          }
        },
        "696adfed934c4802b1c563783c02b580": {
          "model_module": "@jupyter-widgets/controls",
          "model_name": "ProgressStyleModel",
          "state": {
            "_view_name": "StyleView",
            "_model_name": "ProgressStyleModel",
            "description_width": "initial",
            "_view_module": "@jupyter-widgets/base",
            "_model_module_version": "1.5.0",
            "_view_count": null,
            "_view_module_version": "1.2.0",
            "bar_color": null,
            "_model_module": "@jupyter-widgets/controls"
          }
        },
        "bd0045203ef847a88b9cd660ba5ce8d9": {
          "model_module": "@jupyter-widgets/base",
          "model_name": "LayoutModel",
          "state": {
            "_view_name": "LayoutView",
            "grid_template_rows": null,
            "right": null,
            "justify_content": null,
            "_view_module": "@jupyter-widgets/base",
            "overflow": null,
            "_model_module_version": "1.2.0",
            "_view_count": null,
            "flex_flow": null,
            "width": null,
            "min_width": null,
            "border": null,
            "align_items": null,
            "bottom": null,
            "_model_module": "@jupyter-widgets/base",
            "top": null,
            "grid_column": null,
            "overflow_y": null,
            "overflow_x": null,
            "grid_auto_flow": null,
            "grid_area": null,
            "grid_template_columns": null,
            "flex": null,
            "_model_name": "LayoutModel",
            "justify_items": null,
            "grid_row": null,
            "max_height": null,
            "align_content": null,
            "visibility": null,
            "align_self": null,
            "height": null,
            "min_height": null,
            "padding": null,
            "grid_auto_rows": null,
            "grid_gap": null,
            "max_width": null,
            "order": null,
            "_view_module_version": "1.2.0",
            "grid_template_areas": null,
            "object_position": null,
            "object_fit": null,
            "grid_auto_columns": null,
            "margin": null,
            "display": null,
            "left": null
          }
        },
        "8dbf70525109490987a474a8b7fa87d3": {
          "model_module": "@jupyter-widgets/controls",
          "model_name": "DescriptionStyleModel",
          "state": {
            "_view_name": "StyleView",
            "_model_name": "DescriptionStyleModel",
            "description_width": "",
            "_view_module": "@jupyter-widgets/base",
            "_model_module_version": "1.5.0",
            "_view_count": null,
            "_view_module_version": "1.2.0",
            "_model_module": "@jupyter-widgets/controls"
          }
        },
        "4dd126b11f0c4db1b2b6edabeb8cd3d4": {
          "model_module": "@jupyter-widgets/base",
          "model_name": "LayoutModel",
          "state": {
            "_view_name": "LayoutView",
            "grid_template_rows": null,
            "right": null,
            "justify_content": null,
            "_view_module": "@jupyter-widgets/base",
            "overflow": null,
            "_model_module_version": "1.2.0",
            "_view_count": null,
            "flex_flow": null,
            "width": null,
            "min_width": null,
            "border": null,
            "align_items": null,
            "bottom": null,
            "_model_module": "@jupyter-widgets/base",
            "top": null,
            "grid_column": null,
            "overflow_y": null,
            "overflow_x": null,
            "grid_auto_flow": null,
            "grid_area": null,
            "grid_template_columns": null,
            "flex": null,
            "_model_name": "LayoutModel",
            "justify_items": null,
            "grid_row": null,
            "max_height": null,
            "align_content": null,
            "visibility": null,
            "align_self": null,
            "height": null,
            "min_height": null,
            "padding": null,
            "grid_auto_rows": null,
            "grid_gap": null,
            "max_width": null,
            "order": null,
            "_view_module_version": "1.2.0",
            "grid_template_areas": null,
            "object_position": null,
            "object_fit": null,
            "grid_auto_columns": null,
            "margin": null,
            "display": null,
            "left": null
          }
        },
        "f2b7d0586bac4c3a89138aa80e91a2a8": {
          "model_module": "@jupyter-widgets/controls",
          "model_name": "HBoxModel",
          "state": {
            "_view_name": "HBoxView",
            "_dom_classes": [],
            "_model_name": "HBoxModel",
            "_view_module": "@jupyter-widgets/controls",
            "_model_module_version": "1.5.0",
            "_view_count": null,
            "_view_module_version": "1.5.0",
            "box_style": "",
            "layout": "IPY_MODEL_946931076679414e8cbc9e70ac51f0f9",
            "_model_module": "@jupyter-widgets/controls",
            "children": [
              "IPY_MODEL_053734024caf4166abd3da6f37f64bd4",
              "IPY_MODEL_4a1461b951184fbd9fc4fe1dbb8b08e7"
            ]
          }
        },
        "946931076679414e8cbc9e70ac51f0f9": {
          "model_module": "@jupyter-widgets/base",
          "model_name": "LayoutModel",
          "state": {
            "_view_name": "LayoutView",
            "grid_template_rows": null,
            "right": null,
            "justify_content": null,
            "_view_module": "@jupyter-widgets/base",
            "overflow": null,
            "_model_module_version": "1.2.0",
            "_view_count": null,
            "flex_flow": null,
            "width": null,
            "min_width": null,
            "border": null,
            "align_items": null,
            "bottom": null,
            "_model_module": "@jupyter-widgets/base",
            "top": null,
            "grid_column": null,
            "overflow_y": null,
            "overflow_x": null,
            "grid_auto_flow": null,
            "grid_area": null,
            "grid_template_columns": null,
            "flex": null,
            "_model_name": "LayoutModel",
            "justify_items": null,
            "grid_row": null,
            "max_height": null,
            "align_content": null,
            "visibility": null,
            "align_self": null,
            "height": null,
            "min_height": null,
            "padding": null,
            "grid_auto_rows": null,
            "grid_gap": null,
            "max_width": null,
            "order": null,
            "_view_module_version": "1.2.0",
            "grid_template_areas": null,
            "object_position": null,
            "object_fit": null,
            "grid_auto_columns": null,
            "margin": null,
            "display": null,
            "left": null
          }
        },
        "053734024caf4166abd3da6f37f64bd4": {
          "model_module": "@jupyter-widgets/controls",
          "model_name": "IntProgressModel",
          "state": {
            "_view_name": "ProgressView",
            "style": "IPY_MODEL_922ba6e07e054bd4a436bd2ab5f61a10",
            "_dom_classes": [],
            "description": "Evaluating",
            "_model_name": "IntProgressModel",
            "bar_style": "success",
            "max": 12,
            "_view_module": "@jupyter-widgets/controls",
            "_model_module_version": "1.5.0",
            "value": 12,
            "_view_count": null,
            "_view_module_version": "1.5.0",
            "orientation": "horizontal",
            "min": 0,
            "description_tooltip": null,
            "_model_module": "@jupyter-widgets/controls",
            "layout": "IPY_MODEL_a54f1fbd45f64cc3a62ea16c980cc8af"
          }
        },
        "4a1461b951184fbd9fc4fe1dbb8b08e7": {
          "model_module": "@jupyter-widgets/controls",
          "model_name": "HTMLModel",
          "state": {
            "_view_name": "HTMLView",
            "style": "IPY_MODEL_d75b48e8bbc04c029e87b040593b003f",
            "_dom_classes": [],
            "description": "",
            "_model_name": "HTMLModel",
            "placeholder": "​",
            "_view_module": "@jupyter-widgets/controls",
            "_model_module_version": "1.5.0",
            "value": "100% 12/12 [00:01&lt;00:00, 11.69it/s]",
            "_view_count": null,
            "_view_module_version": "1.5.0",
            "description_tooltip": null,
            "_model_module": "@jupyter-widgets/controls",
            "layout": "IPY_MODEL_9229d2966a714d0b99303d11b9637f29"
          }
        },
        "922ba6e07e054bd4a436bd2ab5f61a10": {
          "model_module": "@jupyter-widgets/controls",
          "model_name": "ProgressStyleModel",
          "state": {
            "_view_name": "StyleView",
            "_model_name": "ProgressStyleModel",
            "description_width": "initial",
            "_view_module": "@jupyter-widgets/base",
            "_model_module_version": "1.5.0",
            "_view_count": null,
            "_view_module_version": "1.2.0",
            "bar_color": null,
            "_model_module": "@jupyter-widgets/controls"
          }
        },
        "a54f1fbd45f64cc3a62ea16c980cc8af": {
          "model_module": "@jupyter-widgets/base",
          "model_name": "LayoutModel",
          "state": {
            "_view_name": "LayoutView",
            "grid_template_rows": null,
            "right": null,
            "justify_content": null,
            "_view_module": "@jupyter-widgets/base",
            "overflow": null,
            "_model_module_version": "1.2.0",
            "_view_count": null,
            "flex_flow": null,
            "width": null,
            "min_width": null,
            "border": null,
            "align_items": null,
            "bottom": null,
            "_model_module": "@jupyter-widgets/base",
            "top": null,
            "grid_column": null,
            "overflow_y": null,
            "overflow_x": null,
            "grid_auto_flow": null,
            "grid_area": null,
            "grid_template_columns": null,
            "flex": null,
            "_model_name": "LayoutModel",
            "justify_items": null,
            "grid_row": null,
            "max_height": null,
            "align_content": null,
            "visibility": null,
            "align_self": null,
            "height": null,
            "min_height": null,
            "padding": null,
            "grid_auto_rows": null,
            "grid_gap": null,
            "max_width": null,
            "order": null,
            "_view_module_version": "1.2.0",
            "grid_template_areas": null,
            "object_position": null,
            "object_fit": null,
            "grid_auto_columns": null,
            "margin": null,
            "display": null,
            "left": null
          }
        },
        "d75b48e8bbc04c029e87b040593b003f": {
          "model_module": "@jupyter-widgets/controls",
          "model_name": "DescriptionStyleModel",
          "state": {
            "_view_name": "StyleView",
            "_model_name": "DescriptionStyleModel",
            "description_width": "",
            "_view_module": "@jupyter-widgets/base",
            "_model_module_version": "1.5.0",
            "_view_count": null,
            "_view_module_version": "1.2.0",
            "_model_module": "@jupyter-widgets/controls"
          }
        },
        "9229d2966a714d0b99303d11b9637f29": {
          "model_module": "@jupyter-widgets/base",
          "model_name": "LayoutModel",
          "state": {
            "_view_name": "LayoutView",
            "grid_template_rows": null,
            "right": null,
            "justify_content": null,
            "_view_module": "@jupyter-widgets/base",
            "overflow": null,
            "_model_module_version": "1.2.0",
            "_view_count": null,
            "flex_flow": null,
            "width": null,
            "min_width": null,
            "border": null,
            "align_items": null,
            "bottom": null,
            "_model_module": "@jupyter-widgets/base",
            "top": null,
            "grid_column": null,
            "overflow_y": null,
            "overflow_x": null,
            "grid_auto_flow": null,
            "grid_area": null,
            "grid_template_columns": null,
            "flex": null,
            "_model_name": "LayoutModel",
            "justify_items": null,
            "grid_row": null,
            "max_height": null,
            "align_content": null,
            "visibility": null,
            "align_self": null,
            "height": null,
            "min_height": null,
            "padding": null,
            "grid_auto_rows": null,
            "grid_gap": null,
            "max_width": null,
            "order": null,
            "_view_module_version": "1.2.0",
            "grid_template_areas": null,
            "object_position": null,
            "object_fit": null,
            "grid_auto_columns": null,
            "margin": null,
            "display": null,
            "left": null
          }
        },
        "33f3ed994fe843faa57ebf28a4364062": {
          "model_module": "@jupyter-widgets/controls",
          "model_name": "HBoxModel",
          "state": {
            "_view_name": "HBoxView",
            "_dom_classes": [],
            "_model_name": "HBoxModel",
            "_view_module": "@jupyter-widgets/controls",
            "_model_module_version": "1.5.0",
            "_view_count": null,
            "_view_module_version": "1.5.0",
            "box_style": "",
            "layout": "IPY_MODEL_3bae348a273f4308a333867f2638c4af",
            "_model_module": "@jupyter-widgets/controls",
            "children": [
              "IPY_MODEL_691b23bd585b4b679f7e0aa878bb3ce6",
              "IPY_MODEL_0963ec6c4b304bfa9ea4319f5e51e554"
            ]
          }
        },
        "3bae348a273f4308a333867f2638c4af": {
          "model_module": "@jupyter-widgets/base",
          "model_name": "LayoutModel",
          "state": {
            "_view_name": "LayoutView",
            "grid_template_rows": null,
            "right": null,
            "justify_content": null,
            "_view_module": "@jupyter-widgets/base",
            "overflow": null,
            "_model_module_version": "1.2.0",
            "_view_count": null,
            "flex_flow": null,
            "width": null,
            "min_width": null,
            "border": null,
            "align_items": null,
            "bottom": null,
            "_model_module": "@jupyter-widgets/base",
            "top": null,
            "grid_column": null,
            "overflow_y": null,
            "overflow_x": null,
            "grid_auto_flow": null,
            "grid_area": null,
            "grid_template_columns": null,
            "flex": null,
            "_model_name": "LayoutModel",
            "justify_items": null,
            "grid_row": null,
            "max_height": null,
            "align_content": null,
            "visibility": null,
            "align_self": null,
            "height": null,
            "min_height": null,
            "padding": null,
            "grid_auto_rows": null,
            "grid_gap": null,
            "max_width": null,
            "order": null,
            "_view_module_version": "1.2.0",
            "grid_template_areas": null,
            "object_position": null,
            "object_fit": null,
            "grid_auto_columns": null,
            "margin": null,
            "display": null,
            "left": null
          }
        },
        "691b23bd585b4b679f7e0aa878bb3ce6": {
          "model_module": "@jupyter-widgets/controls",
          "model_name": "IntProgressModel",
          "state": {
            "_view_name": "ProgressView",
            "style": "IPY_MODEL_6ddd195c9dc84c90876e94b476b9f007",
            "_dom_classes": [],
            "description": "Evaluating",
            "_model_name": "IntProgressModel",
            "bar_style": "success",
            "max": 9,
            "_view_module": "@jupyter-widgets/controls",
            "_model_module_version": "1.5.0",
            "value": 9,
            "_view_count": null,
            "_view_module_version": "1.5.0",
            "orientation": "horizontal",
            "min": 0,
            "description_tooltip": null,
            "_model_module": "@jupyter-widgets/controls",
            "layout": "IPY_MODEL_d1647fb16eb44a0c93f77bed049d6b67"
          }
        },
        "0963ec6c4b304bfa9ea4319f5e51e554": {
          "model_module": "@jupyter-widgets/controls",
          "model_name": "HTMLModel",
          "state": {
            "_view_name": "HTMLView",
            "style": "IPY_MODEL_090a9ac2d141408da7fc2a885fb2ad73",
            "_dom_classes": [],
            "description": "",
            "_model_name": "HTMLModel",
            "placeholder": "​",
            "_view_module": "@jupyter-widgets/controls",
            "_model_module_version": "1.5.0",
            "value": "100% 9/9 [00:00&lt;00:00, 11.94it/s]",
            "_view_count": null,
            "_view_module_version": "1.5.0",
            "description_tooltip": null,
            "_model_module": "@jupyter-widgets/controls",
            "layout": "IPY_MODEL_a02025fc0ddd451aa324db09b26a7804"
          }
        },
        "6ddd195c9dc84c90876e94b476b9f007": {
          "model_module": "@jupyter-widgets/controls",
          "model_name": "ProgressStyleModel",
          "state": {
            "_view_name": "StyleView",
            "_model_name": "ProgressStyleModel",
            "description_width": "initial",
            "_view_module": "@jupyter-widgets/base",
            "_model_module_version": "1.5.0",
            "_view_count": null,
            "_view_module_version": "1.2.0",
            "bar_color": null,
            "_model_module": "@jupyter-widgets/controls"
          }
        },
        "d1647fb16eb44a0c93f77bed049d6b67": {
          "model_module": "@jupyter-widgets/base",
          "model_name": "LayoutModel",
          "state": {
            "_view_name": "LayoutView",
            "grid_template_rows": null,
            "right": null,
            "justify_content": null,
            "_view_module": "@jupyter-widgets/base",
            "overflow": null,
            "_model_module_version": "1.2.0",
            "_view_count": null,
            "flex_flow": null,
            "width": null,
            "min_width": null,
            "border": null,
            "align_items": null,
            "bottom": null,
            "_model_module": "@jupyter-widgets/base",
            "top": null,
            "grid_column": null,
            "overflow_y": null,
            "overflow_x": null,
            "grid_auto_flow": null,
            "grid_area": null,
            "grid_template_columns": null,
            "flex": null,
            "_model_name": "LayoutModel",
            "justify_items": null,
            "grid_row": null,
            "max_height": null,
            "align_content": null,
            "visibility": null,
            "align_self": null,
            "height": null,
            "min_height": null,
            "padding": null,
            "grid_auto_rows": null,
            "grid_gap": null,
            "max_width": null,
            "order": null,
            "_view_module_version": "1.2.0",
            "grid_template_areas": null,
            "object_position": null,
            "object_fit": null,
            "grid_auto_columns": null,
            "margin": null,
            "display": null,
            "left": null
          }
        },
        "090a9ac2d141408da7fc2a885fb2ad73": {
          "model_module": "@jupyter-widgets/controls",
          "model_name": "DescriptionStyleModel",
          "state": {
            "_view_name": "StyleView",
            "_model_name": "DescriptionStyleModel",
            "description_width": "",
            "_view_module": "@jupyter-widgets/base",
            "_model_module_version": "1.5.0",
            "_view_count": null,
            "_view_module_version": "1.2.0",
            "_model_module": "@jupyter-widgets/controls"
          }
        },
        "a02025fc0ddd451aa324db09b26a7804": {
          "model_module": "@jupyter-widgets/base",
          "model_name": "LayoutModel",
          "state": {
            "_view_name": "LayoutView",
            "grid_template_rows": null,
            "right": null,
            "justify_content": null,
            "_view_module": "@jupyter-widgets/base",
            "overflow": null,
            "_model_module_version": "1.2.0",
            "_view_count": null,
            "flex_flow": null,
            "width": null,
            "min_width": null,
            "border": null,
            "align_items": null,
            "bottom": null,
            "_model_module": "@jupyter-widgets/base",
            "top": null,
            "grid_column": null,
            "overflow_y": null,
            "overflow_x": null,
            "grid_auto_flow": null,
            "grid_area": null,
            "grid_template_columns": null,
            "flex": null,
            "_model_name": "LayoutModel",
            "justify_items": null,
            "grid_row": null,
            "max_height": null,
            "align_content": null,
            "visibility": null,
            "align_self": null,
            "height": null,
            "min_height": null,
            "padding": null,
            "grid_auto_rows": null,
            "grid_gap": null,
            "max_width": null,
            "order": null,
            "_view_module_version": "1.2.0",
            "grid_template_areas": null,
            "object_position": null,
            "object_fit": null,
            "grid_auto_columns": null,
            "margin": null,
            "display": null,
            "left": null
          }
        }
      }
    }
  },
  "cells": [
    {
      "cell_type": "markdown",
      "metadata": {
        "id": "WdeL3eK9cO7w",
        "colab_type": "text"
      },
      "source": [
        "# Install and Import required libraries"
      ]
    },
    {
      "cell_type": "code",
      "metadata": {
        "id": "VkOmVuP66hhC",
        "colab_type": "code",
        "outputId": "42eaadd0-fb6b-4178-b386-e2790f83effe",
        "colab": {
          "base_uri": "https://localhost:8080/",
          "height": 86
        }
      },
      "source": [
        "!pip install pytorch-transformers --quiet"
      ],
      "execution_count": 1,
      "outputs": [
        {
          "output_type": "stream",
          "text": [
            "\u001b[K     |████████████████████████████████| 184kB 2.7MB/s \n",
            "\u001b[K     |████████████████████████████████| 870kB 8.3MB/s \n",
            "\u001b[K     |████████████████████████████████| 1.0MB 16.5MB/s \n",
            "\u001b[?25h  Building wheel for sacremoses (setup.py) ... \u001b[?25l\u001b[?25hdone\n"
          ],
          "name": "stdout"
        }
      ]
    },
    {
      "cell_type": "code",
      "metadata": {
        "id": "oAxeS6v_6bJl",
        "colab_type": "code",
        "colab": {}
      },
      "source": [
        "from __future__ import absolute_import, division, print_function\n",
        "\n",
        "import argparse\n",
        "import csv\n",
        "import logging\n",
        "import os\n",
        "import random\n",
        "import sys\n",
        "import json\n",
        "\n",
        "import numpy as np\n",
        "import torch\n",
        "from torch.utils.data import (DataLoader, RandomSampler, SequentialSampler, TensorDataset)\n",
        "from tqdm import tqdm_notebook, tnrange\n",
        "\n",
        "from torch.nn import CrossEntropyLoss, MSELoss, BCEWithLogitsLoss, L1Loss, Sigmoid\n",
        "from sklearn.metrics import f1_score, classification_report\n",
        "from sklearn.preprocessing import MultiLabelBinarizer\n",
        "from scipy.stats import pearsonr\n",
        "import seaborn as sns\n",
        "import re\n",
        "\n",
        "import pandas as pd\n",
        "\n",
        "import torch\n",
        "from pytorch_transformers import XLNetForSequenceClassification, XLNetTokenizer, XLNetConfig, XLNetPreTrainedModel, XLNetModel, AdamW, WarmupLinearSchedule\n",
        "\n",
        "logger = logging.getLogger(__name__)\n",
        "\n",
        "import matplotlib.pyplot as plt\n",
        "%matplotlib inline"
      ],
      "execution_count": 0,
      "outputs": []
    },
    {
      "cell_type": "markdown",
      "metadata": {
        "id": "uwCUv0VlcT-9",
        "colab_type": "text"
      },
      "source": [
        "# Mount Google drive"
      ]
    },
    {
      "cell_type": "code",
      "metadata": {
        "id": "QRDHGy_F67Mp",
        "colab_type": "code",
        "outputId": "b591f04d-c11f-4182-8822-2a8c5e16a427",
        "colab": {
          "base_uri": "https://localhost:8080/",
          "height": 124
        }
      },
      "source": [
        "from google.colab import drive\n",
        "drive.mount('/content/gdrive')"
      ],
      "execution_count": 3,
      "outputs": [
        {
          "output_type": "stream",
          "text": [
            "Go to this URL in a browser: https://accounts.google.com/o/oauth2/auth?client_id=947318989803-6bn6qk8qdgf4n4g3pfee6491hc0brc4i.apps.googleusercontent.com&redirect_uri=urn%3aietf%3awg%3aoauth%3a2.0%3aoob&response_type=code&scope=email%20https%3a%2f%2fwww.googleapis.com%2fauth%2fdocs.test%20https%3a%2f%2fwww.googleapis.com%2fauth%2fdrive%20https%3a%2f%2fwww.googleapis.com%2fauth%2fdrive.photos.readonly%20https%3a%2f%2fwww.googleapis.com%2fauth%2fpeopleapi.readonly\n",
            "\n",
            "Enter your authorization code:\n",
            "··········\n",
            "Mounted at /content/gdrive\n"
          ],
          "name": "stdout"
        }
      ]
    },
    {
      "cell_type": "code",
      "metadata": {
        "id": "p2ZysLJZ7Sft",
        "colab_type": "code",
        "colab": {}
      },
      "source": [
        "sharedGFolderPath = \"/content/gdrive/My Drive/TUM/Guided Research/\""
      ],
      "execution_count": 0,
      "outputs": []
    },
    {
      "cell_type": "markdown",
      "metadata": {
        "id": "WsXlwyX0ciHQ",
        "colab_type": "text"
      },
      "source": [
        "# Utility functions, mainly for Data Creation and Loading and Result Visualization"
      ]
    },
    {
      "cell_type": "markdown",
      "metadata": {
        "id": "SstwKJF7c6Sq",
        "colab_type": "text"
      },
      "source": [
        "### Data Creation and Loading"
      ]
    },
    {
      "cell_type": "code",
      "metadata": {
        "id": "ETNoxeBx6bJp",
        "colab_type": "code",
        "colab": {}
      },
      "source": [
        "# Copyright 2018 The Google AI Language Team Authors and The HuggingFace Inc. team.\n",
        "# Copyright (c) 2018, NVIDIA CORPORATION.  All rights reserved.\n",
        "#\n",
        "# Licensed under the Apache License, Version 2.0 (the \"License\");\n",
        "# you may not use this file except in compliance with the License.\n",
        "# You may obtain a copy of the License at\n",
        "#\n",
        "#     http://www.apache.org/licenses/LICENSE-2.0\n",
        "#\n",
        "# Unless required by applicable law or agreed to in writing, software\n",
        "# distributed under the License is distributed on an \"AS IS\" BASIS,\n",
        "# WITHOUT WARRANTIES OR CONDITIONS OF ANY KIND, either express or implied.\n",
        "# See the License for the specific language governing permissions and\n",
        "# limitations under the License.\n",
        "\"\"\"XLNet finetuning runner.\"\"\"\n",
        "\n",
        "class InputExample(object):\n",
        "    \"\"\"A single training/test example for simple sequence classification.\"\"\"\n",
        "\n",
        "    def __init__(self, guid, text_a, text_b=None, label=None):\n",
        "        \"\"\"Constructs a InputExample.\n",
        "\n",
        "        Args:\n",
        "            guid: Unique id for the example.\n",
        "            text_a: string. The untokenized text of the first sequence. For single\n",
        "            sequence tasks, only this sequence must be specified.\n",
        "            text_b: (Optional) string. The untokenized text of the second sequence.\n",
        "            Only must be specified for sequence pair tasks.\n",
        "            label: (Optional) string. The label of the example. This should be\n",
        "            specified for train and dev examples, but not for test examples.\n",
        "        \"\"\"\n",
        "        self.guid = guid\n",
        "        self.text_a = text_a\n",
        "        self.text_b = text_b\n",
        "        self.label = label\n",
        "\n",
        "\n",
        "class InputFeatures(object):\n",
        "    \"\"\"A single set of features of data.\"\"\"\n",
        "\n",
        "    def __init__(self, input_ids, input_mask, segment_ids, label_id):\n",
        "        self.input_ids = input_ids\n",
        "        self.input_mask = input_mask\n",
        "        self.segment_ids = segment_ids\n",
        "        self.label_id = label_id\n",
        "\n",
        "\n",
        "class DataProcessor(object):\n",
        "    \"\"\"Base class for data converters for sequence classification data sets.\"\"\"\n",
        "\n",
        "    def get_train_examples(self, data_dir):\n",
        "        \"\"\"Gets a collection of `InputExample`s for the train set.\"\"\"\n",
        "        raise NotImplementedError()\n",
        "\n",
        "    def get_val_examples(self, data_dir):\n",
        "        \"\"\"Gets a collection of `InputExample`s for the validation set.\"\"\"\n",
        "        raise NotImplementedError()\n",
        "\n",
        "    def get_test_examples(self, data_dir):\n",
        "        \"\"\"Gets a collection of `InputExample`s for the dev set.\"\"\"\n",
        "        raise NotImplementedError()\n",
        "\n",
        "    def get_labels(self):\n",
        "        \"\"\"Gets the list of labels for this data set.\"\"\"\n",
        "        raise NotImplementedError()\n",
        "        \n",
        "    @classmethod\n",
        "    def _read_csv_pickle(cls, input_path, input_file, quotechar=None):\n",
        "        df = pd.read_pickle(input_path + input_file)\n",
        "        sentences = df['Sentence'].tolist()\n",
        "        triplets = df['Triplet'].tolist()\n",
        "        centities = df['Coarse_Entity'].tolist()\n",
        "        fentities = df['Fine_Entity'].tolist()\n",
        "        return [sentences,triplets,centities,fentities]\n",
        "    \n",
        "    @classmethod\n",
        "    def _read_csv(cls, input_path, input_file, classification, sep=',', regressionCol = 'Coarse_Attribute_PU_S'):\n",
        "        df = pd.read_csv(input_path + input_file, sep=sep)\n",
        "        sentences = df['Sentence'].tolist()\n",
        "        if classification:\n",
        "            triplets = df['Triplet'].tolist()\n",
        "            centities = df['Coarse_Entity'].tolist()\n",
        "            fentities = df['Fine_Entity'].tolist()\n",
        "            cattributes = df['Coarse_Attribute'].tolist()\n",
        "            entities_sentiments = (df['Coarse_Entity']+'-'+df['Sentiment']).tolist()\n",
        "            return [sentences,triplets,centities,fentities,cattributes,entities_sentiments]\n",
        "        else:\n",
        "            cattributes_PU = df[regressionCol].tolist()\n",
        "            return [sentences, cattributes_PU]\n",
        "\n",
        "class Sst2Processor(DataProcessor):\n",
        "    \"\"\"Processor for the SST-2 data set (GLUE version).\"\"\"\n",
        "    def __init__(self, classification):\n",
        "        self.fileName = \"dataframePerceptionUncertainty_SingleLabel.csv\"\n",
        "        self.classification = classification\n",
        "\n",
        "    def get_train_examples(self, data_dir):\n",
        "        \"\"\"See base class.\"\"\"\n",
        "        return self._create_examples(self._read_csv(os.path.join(data_dir, \"train/\"), self.fileName, self.classification), \"train\")\n",
        "        \n",
        "    def get_val_examples(self, data_dir):\n",
        "        \"\"\"See base class.\"\"\"\n",
        "        return self._create_examples(self._read_csv(os.path.join(data_dir, \"validation/\"), self.fileName, self.classification), \"val\")\n",
        "\n",
        "    def get_test_examples(self, data_dir):\n",
        "        \"\"\"See base class.\"\"\"\n",
        "        return self._create_examples(self._read_csv(os.path.join(data_dir, \"test/\"), self.fileName, self.classification), \"test\")\n",
        "\n",
        "    def get_extra_test_examples(self, data_dir, input_file):\n",
        "        \"\"\"See base class.\"\"\"\n",
        "        return self._create_examples(self._read_csv(os.path.join(data_dir, \"test/\"), input_file, self.classification, sep='|', regressionCol='Coarse_Attribute_PU'), \"extra_test\")\n",
        "\n",
        "    def get_labels(self):\n",
        "        \"\"\"See base class.\"\"\"\n",
        "        entities_fine = ['organic general', 'organic products', 'organic farmers', 'organic companies', 'conventional general', 'conventional products', \n",
        "                         'conventional farming', 'conventional companies', 'GMOs genetic engineering general']\n",
        "        \n",
        "        entities = ['organic', 'conventional', 'GMO']\n",
        "        attributes = ['general', 'price', 'experienced quality', 'safety and healthiness', 'trustworthy sources', 'environment']\n",
        "        sentiments = ['0','p','n']\n",
        "        \n",
        "        ABSA = []\n",
        "        entities_sentiments = []\n",
        "        for entity in entities:\n",
        "            for sentiment in sentiments:\n",
        "                entities_sentiments.append(entity+'-'+sentiment)\n",
        "                for attribute in attributes:\n",
        "                    ABSA.append(entity+'-'+attribute+'-'+sentiment)\n",
        "        return [ABSA, entities, entities_fine, attributes, entities_sentiments]\n",
        "\n",
        "    def _create_examples(self, lines, set_type):\n",
        "        \"\"\"Creates examples for the training and dev sets.\"\"\"\n",
        "        examples = []\n",
        "        for i in range(len(lines[0])):\n",
        "            guid = \"%s-%s\" % (set_type, i)\n",
        "            text_a = lines[0][i]\n",
        "            if self.classification:\n",
        "                label = (lines[1][i],lines[2][i],lines[3][i],lines[4][i],lines[5][i]) # Send all 5 labels as a tuple, ordered as ABSA, Entity, Entity_Fine, Coarse_Attribute, Entity_Sentiment\n",
        "            else:\n",
        "                label = lines[1][i] # Send Regression Target\n",
        "            examples.append(InputExample(guid=guid, text_a=text_a, text_b=None, label=label))\n",
        "        return examples\n",
        "    \n",
        "    def get_label_weights(self, data_dir):\n",
        "        # Load train file\n",
        "        input_file_path = os.path.join(data_dir, \"train/\" + self.fileName)\n",
        "        df = pd.read_csv(input_file_path)\n",
        "        \n",
        "        # Assign weights based on value counts\n",
        "        headWeights = {'ABSA' : 'Triplet', 'Entity' : 'Coarse_Entity', 'Entity_Fine' : 'Fine_Entity'}\n",
        "        label_list = self.get_labels()\n",
        "        for i, head in enumerate(headWeights):\n",
        "            val_counts = np.nan_to_num(df[headWeights[head]].value_counts()[label_list[i]]) + 1\n",
        "            headWeights[head] = torch.tensor(np.min(val_counts) / val_counts, dtype=torch.float)\n",
        "            \n",
        "        return headWeights\n",
        "\n",
        "\n",
        "def convert_examples_to_features(examples, label_list, max_seq_length, tokenizer, classification,\n",
        "                                 cls_token_at_end=False,\n",
        "                                 cls_token='[CLS]',\n",
        "                                 cls_token_segment_id=1,\n",
        "                                 sep_token='[SEP]',\n",
        "                                 pad_on_left=False,\n",
        "                                 pad_token=0,\n",
        "                                 pad_token_segment_id=0,\n",
        "                                 sequence_a_segment_id=0, \n",
        "                                 sequence_b_segment_id=1,\n",
        "                                 mask_padding_with_zero=True):\n",
        "    \"\"\" Loads a data file into a list of `InputBatch`s\n",
        "        `cls_token_at_end` define the location of the CLS token:\n",
        "            - False (Default, BERT/XLM pattern): [CLS] + A + [SEP] + B + [SEP]\n",
        "            - True (XLNet/GPT pattern): A + [SEP] + B + [SEP] + [CLS]\n",
        "        `cls_token_segment_id` define the segment id associated to the CLS token (0 for BERT, 2 for XLNet)\n",
        "    \"\"\"\n",
        "\n",
        "    # For all labels, create reverse mapping to indices\n",
        "    label_map = []\n",
        "    for i in range(5):\n",
        "        label_map.append({label : i for i, label in enumerate(label_list[i])})\n",
        "\n",
        "    features = []\n",
        "    for (ex_index, example) in enumerate(examples):\n",
        "        if ex_index % 1000 == 0:\n",
        "            logger.info(\"Writing example %d of %d\" % (ex_index, len(examples)))\n",
        "\n",
        "        tokens_a = tokenizer.tokenize(example.text_a)\n",
        "\n",
        "        tokens_b = None\n",
        "        if example.text_b:\n",
        "            tokens_b = tokenizer.tokenize(example.text_b)\n",
        "            # Modifies `tokens_a` and `tokens_b` in place so that the total\n",
        "            # length is less than the specified length.\n",
        "            # Account for [CLS], [SEP], [SEP] with \"- 3\". \" -4\" for RoBERTa.\n",
        "            special_tokens_count = 3\n",
        "            _truncate_seq_pair(tokens_a, tokens_b, max_seq_length - special_tokens_count)\n",
        "        else:\n",
        "            # Account for [CLS] and [SEP] with \"- 2\" and with \"- 3\" for RoBERTa.\n",
        "            special_tokens_count = 2\n",
        "            if len(tokens_a) > max_seq_length - special_tokens_count:\n",
        "                tokens_a = tokens_a[:(max_seq_length - special_tokens_count)]\n",
        "\n",
        "        tokens = tokens_a + [sep_token]\n",
        "        segment_ids = [sequence_a_segment_id] * len(tokens)\n",
        "\n",
        "        if tokens_b:\n",
        "            tokens += tokens_b + [sep_token]\n",
        "            segment_ids += [sequence_b_segment_id] * (len(tokens_b) + 1)\n",
        "\n",
        "        if cls_token_at_end:\n",
        "            tokens = tokens + [cls_token]\n",
        "            segment_ids = segment_ids + [cls_token_segment_id]\n",
        "        else:\n",
        "            tokens = [cls_token] + tokens\n",
        "            segment_ids = [cls_token_segment_id] + segment_ids\n",
        "\n",
        "        input_ids = tokenizer.convert_tokens_to_ids(tokens)\n",
        "\n",
        "        # The mask has 1 for real tokens and 0 for padding tokens. Only real\n",
        "        # tokens are attended to.\n",
        "        input_mask = [1 if mask_padding_with_zero else 0] * len(input_ids)\n",
        "\n",
        "        # Zero-pad up to the sequence length.\n",
        "        padding_length = max_seq_length - len(input_ids)\n",
        "        if pad_on_left:\n",
        "            input_ids = ([pad_token] * padding_length) + input_ids\n",
        "            input_mask = ([0 if mask_padding_with_zero else 1] * padding_length) + input_mask\n",
        "            segment_ids = ([pad_token_segment_id] * padding_length) + segment_ids\n",
        "        else:\n",
        "            input_ids = input_ids + ([pad_token] * padding_length)\n",
        "            input_mask = input_mask + ([0 if mask_padding_with_zero else 1] * padding_length)\n",
        "            segment_ids = segment_ids + ([pad_token_segment_id] * padding_length)\n",
        "\n",
        "        assert len(input_ids) == max_seq_length\n",
        "        assert len(input_mask) == max_seq_length\n",
        "        assert len(segment_ids) == max_seq_length\n",
        "\n",
        "        if classification:\n",
        "            # Create a label for each example, as a dictionary with head: label as key: val pair\n",
        "            heads = ['ABSA', 'Entity', 'Entity_Fine', 'Coarse_Attribute', 'Entity_Sentiment']\n",
        "            label_id = {heads[i]: label_map[i][example.label[i]] for i in range(5)}\n",
        "        else:\n",
        "            label_id = example.label\n",
        "\n",
        "        # Printing 5 samples to check correction\n",
        "        if ex_index < 5:\n",
        "            logger.info(\"*** Example ***\")\n",
        "            logger.info(\"guid: %s\" % (example.guid))\n",
        "            logger.info(\"tokens: %s\" % \" \".join(\n",
        "                    [str(x) for x in tokens]))\n",
        "            logger.info(\"input_ids: %s\" % \" \".join([str(x) for x in input_ids]))\n",
        "            logger.info(\"input_mask: %s\" % \" \".join([str(x) for x in input_mask]))\n",
        "            logger.info(\"segment_ids: %s\" % \" \".join([str(x) for x in segment_ids]))\n",
        "            if classification:\n",
        "                for i in range(5):\n",
        "                    logger.info(\"label-{0}: {1} -> {2}\".format(heads[i], label_id[heads[i]], example.label[i]))\n",
        "            else:\n",
        "                logger.info(\"label: {0}\".format(label_id))\n",
        "\n",
        "        features.append(InputFeatures(input_ids=input_ids, input_mask=input_mask, segment_ids=segment_ids, label_id=label_id))\n",
        "\n",
        "    # Return features + dictionary of heads: head_labels as key:val pair, used mainly for visualization later on\n",
        "    head_classes = None\n",
        "    if classification:\n",
        "        head_classes = {heads[i]: label_list[i] for i in range(5)}\n",
        "\n",
        "    return features, head_classes\n",
        "\n",
        "\n",
        "def _truncate_seq_pair(tokens_a, tokens_b, max_length):\n",
        "    \"\"\"Truncates a sequence pair in place to the maximum length.\"\"\"\n",
        "\n",
        "    # This is a simple heuristic which will always truncate the longer sequence\n",
        "    # one token at a time. This makes more sense than truncating an equal percent\n",
        "    # of tokens from each, since if one sequence is very short then each token\n",
        "    # that's truncated likely contains more information than a longer sequence.\n",
        "    while True:\n",
        "        total_length = len(tokens_a) + len(tokens_b)\n",
        "        if total_length <= max_length:\n",
        "            break\n",
        "        if len(tokens_a) > len(tokens_b):\n",
        "            tokens_a.pop()\n",
        "        else:\n",
        "            tokens_b.pop()"
      ],
      "execution_count": 0,
      "outputs": []
    },
    {
      "cell_type": "code",
      "metadata": {
        "id": "b_C0M-u7S9la",
        "colab_type": "code",
        "colab": {}
      },
      "source": [
        "def load_and_cache_examples(args, tokenizer, datasetType='train', classification=True):\n",
        "    processor = Sst2Processor(classification)\n",
        "    # Load data features from cache or dataset file\n",
        "\n",
        "    logger.info(\"Creating features from dataset file at %s\", args.data_dir)\n",
        "    label_list = processor.get_labels()\n",
        "\n",
        "    examples = processor.get_train_examples(args.data_dir) if datasetType=='train' \\\n",
        "               else processor.get_val_examples(args.data_dir) if datasetType=='val' \\\n",
        "               else processor.get_test_examples(args.data_dir) if datasetType=='test' \\\n",
        "               else processor.get_extra_test_examples(args.data_dir, input_file=datasetType)\n",
        "    features, head_classes = convert_examples_to_features(examples, label_list, args.max_seq_length, tokenizer, classification,\n",
        "                                                            cls_token_at_end=True,            # xlnet has a cls token at the end\n",
        "                                                            cls_token=tokenizer.cls_token,\n",
        "                                                            cls_token_segment_id=2,\n",
        "                                                            sep_token=tokenizer.sep_token,\n",
        "                                                            pad_on_left=True,                 # pad on the left for xlnet\n",
        "                                                            pad_token=tokenizer.convert_tokens_to_ids([tokenizer.pad_token])[0],\n",
        "                                                            pad_token_segment_id=4,\n",
        "                                                        )\n",
        "\n",
        "    # Convert to Tensors and build dataset\n",
        "    all_input_ids = torch.tensor([f.input_ids for f in features], dtype=torch.long)\n",
        "    all_input_mask = torch.tensor([f.input_mask for f in features], dtype=torch.long)\n",
        "    all_segment_ids = torch.tensor([f.segment_ids for f in features], dtype=torch.long)\n",
        "    if classification:\n",
        "        all_label_ids_absa = torch.tensor([f.label_id['ABSA'] for f in features], dtype=torch.long)\n",
        "        all_label_ids_centity = torch.tensor([f.label_id['Entity'] for f in features], dtype=torch.long)\n",
        "        all_label_ids_fentity = torch.tensor([f.label_id['Entity_Fine'] for f in features], dtype=torch.long)\n",
        "        all_label_ids_cattributes = torch.tensor([f.label_id['Coarse_Attribute'] for f in features], dtype=torch.long)\n",
        "        all_label_ids_entities_sentiments = torch.tensor([f.label_id['Entity_Sentiment'] for f in features], dtype=torch.long)\n",
        "        dataset = TensorDataset(all_input_ids, all_input_mask, all_segment_ids, all_label_ids_absa, all_label_ids_centity, all_label_ids_fentity, all_label_ids_cattributes, all_label_ids_entities_sentiments)\n",
        "    else:\n",
        "        all_label_ids = torch.tensor([f.label_id for f in features], dtype=torch.float)\n",
        "        dataset = TensorDataset(all_input_ids, all_input_mask, all_segment_ids, all_label_ids)\n",
        "    \n",
        "    if datasetType == 'train':\n",
        "        return dataset, head_classes\n",
        "    return dataset\n"
      ],
      "execution_count": 0,
      "outputs": []
    },
    {
      "cell_type": "markdown",
      "metadata": {
        "id": "k1LMb6hOc_Fl",
        "colab_type": "text"
      },
      "source": [
        "### Result calculation"
      ]
    },
    {
      "cell_type": "code",
      "metadata": {
        "id": "dVwq2XwgcvSU",
        "colab_type": "code",
        "colab": {}
      },
      "source": [
        "def simple_accuracy(preds, labels):\n",
        "    return (preds == labels).mean()\n",
        "\n",
        "\n",
        "def acc_and_f1(preds, labels, average='binary'):\n",
        "    acc = simple_accuracy(preds, labels)\n",
        "    f1 = f1_score(y_true=labels, y_pred=preds, average=average)\n",
        "    return {\n",
        "        \"acc\": acc,\n",
        "        \"f1\": f1,\n",
        "        \"acc_and_f1\": (acc + f1) / 2,\n",
        "    }\n",
        "\n",
        "\n",
        "def compute_metrics(preds, labels):\n",
        "    assert len(preds) == len(labels)\n",
        "    return {\"acc\": acc_and_f1(preds, labels, 'micro')}"
      ],
      "execution_count": 0,
      "outputs": []
    },
    {
      "cell_type": "markdown",
      "metadata": {
        "id": "4qquV6a2dF-N",
        "colab_type": "text"
      },
      "source": [
        "### Plotting Graphs for visualizing Experimental results"
      ]
    },
    {
      "cell_type": "code",
      "metadata": {
        "id": "oslcYqjdcykJ",
        "colab_type": "code",
        "colab": {}
      },
      "source": [
        "# Calculate running mean\n",
        "def running_mean(x, N):\n",
        "    cumsum = np.cumsum(np.insert(x, 0, 0)) \n",
        "    return (cumsum[N:] - cumsum[:-N]) / float(N)\n",
        "\n",
        "\n",
        "# Plot result of training and evaluation\n",
        "def plot_train_val_trace(train_trace, validation_trace):\n",
        "    train_val_ratio = int(len(train_trace)/len(validation_trace))\n",
        "    train_loss = []\n",
        "    for i in range(len(validation_trace)):\n",
        "        train_loss.append(np.mean(train_trace[i*train_val_ratio:(i+1)*train_val_ratio]))\n",
        "    plt.plot(running_mean(train_loss,15),label='Training Loss')\n",
        "    plt.plot(running_mean(validation_trace,15),label='Validation Loss')\n",
        "    plt.legend()\n",
        "    plt.show()\n",
        "\n",
        "    \n",
        "def get_heatmap_classes(head):\n",
        "    if head == 'Entity':\n",
        "        return head_classes[head]\n",
        "    elif head == 'Entity_Fine':\n",
        "        return ['g', 'p', 'f', 'c', 'cg', 'cp', 'cf', 'cc', 'gg']\n",
        "    else:\n",
        "        ABSA = []\n",
        "        entities = ['o', 'c', 'gmo']\n",
        "        attributes = ['g', 'p', 'e_q', 's_h', 't_s', 'env']\n",
        "        sentiments = ['0', 'p', 'n']\n",
        "        for entity in entities:\n",
        "            for attribute in attributes:\n",
        "                for sentiment in sentiments:\n",
        "                    ABSA.append(entity+'-'+attribute+'-'+sentiment)\n",
        "        return ABSA\n",
        "\n",
        "# For plotting Confusion matrices HEATMAP          \n",
        "def plot_Confusion_matrices(cHead):\n",
        "    classes = headConfig[cHead]\n",
        "    confusion_matrix = torch.zeros(classes, classes)\n",
        "    for t, p in zip(results[cHead]['actual'], results[cHead]['preds']):\n",
        "        confusion_matrix[t, p] += 1\n",
        "\n",
        "    cm = confusion_matrix.numpy()\n",
        "    cm_sum = cm.astype(np.float).sum(axis=1) + 1e-9\n",
        "    \n",
        "    not_Absa = True if cHead != 'ABSA' else False\n",
        "    fig,ax= plt.subplots(figsize=(12,12))\n",
        "    sns.heatmap(cm / cm_sum.reshape(-1, 1), annot=not_Absa, ax=ax, vmin=0.0, vmax=1.0)\n",
        "\n",
        "    # labels, title and ticks\n",
        "    ax.xaxis.set_ticklabels(head_classes[cHead], size=8, rotation=45)\n",
        "    ax.yaxis.set_ticklabels(head_classes[cHead], size=8, rotation=45)\n",
        "    ax.set_xlabel('Predicted', size=25)\n",
        "    ax.set_ylabel('True', size=25)\n",
        "    ax.set_title('Confusion Matrix', size=25)\n",
        "    \"\"\"\n",
        "    b, t = plt.ylim() # discover the values for bottom and top\n",
        "    b += 0.5 # Add 0.5 to the bottom\n",
        "    t -= 0.5 # Subtract 0.5 from the top\n",
        "    plt.ylim(b, t) # update the ylim(bottom, top) values\n",
        "    \"\"\"\n",
        "    plt.savefig('crossEntropy_'+cHead+'_cm.pdf')\n",
        "    fig.show()"
      ],
      "execution_count": 0,
      "outputs": []
    },
    {
      "cell_type": "markdown",
      "metadata": {
        "id": "l7Kvrmo1n_x6",
        "colab_type": "text"
      },
      "source": [
        "### Classification Reports"
      ]
    },
    {
      "cell_type": "code",
      "metadata": {
        "id": "pp15hJULn-2f",
        "colab_type": "code",
        "colab": {}
      },
      "source": [
        "def save_classification_report(classification_report, title='Classification report '):\n",
        "    lines = classification_report.split('\\n')\n",
        "    if (len(lines) > 100):\n",
        "        return;\n",
        "\n",
        "    plotMat = []\n",
        "    support = []\n",
        "    class_names = []\n",
        "    report_data = []\n",
        "    for line in lines[2 : (len(lines) - 2)]:\n",
        "        t = re.split(r'\\s{2,}', line.strip())\n",
        "        if len(t) < 2:\n",
        "            continue\n",
        "        \n",
        "        row = {}\n",
        "        class_names.append(t[0])\n",
        "        row['class'] = t[0]\n",
        "        v = [float(x) for x in t[1: len(t) - 1]]\n",
        "        if row['class'] != 'accuracy':\n",
        "            row['precision'] = v[0]\n",
        "            row['recall'] = v[1]\n",
        "            row['f1_score'] = v[2]\n",
        "        else:\n",
        "            row['f1_score'] = v[0]\n",
        "        support.append(int(t[-1]))\n",
        "        row['support'] = int(t[-1])\n",
        "        \n",
        "        #print(v)\n",
        "        plotMat.append(v)\n",
        "        report_data.append(row)\n",
        "        \n",
        "    pd.DataFrame.from_dict(report_data).to_csv(os.path.join(args.output_dir, title+'.csv'), index = False)\n",
        "    \n",
        "\n",
        "def get_cr_reports(shouldSave=False):\n",
        "    for head in headConfig:\n",
        "        if head == 'ABSA':\n",
        "            cr = classification_report(results[head]['actual'], results[head]['preds'], labels=np.arange(54), target_names=head_classes[head])\n",
        "        else:\n",
        "            cr = classification_report(results[head]['actual'], results[head]['preds'], target_names=head_classes[head])\n",
        "        \n",
        "        if shouldSave:\n",
        "            save_classification_report(cr, title=head+' Report')\n",
        "        else:\n",
        "            print(cr)"
      ],
      "execution_count": 0,
      "outputs": []
    },
    {
      "cell_type": "markdown",
      "metadata": {
        "id": "Zj4pQXhHm-15",
        "colab_type": "text"
      },
      "source": [
        "### Produce predictions"
      ]
    },
    {
      "cell_type": "code",
      "metadata": {
        "id": "yzSmjQCvnCmc",
        "colab_type": "code",
        "colab": {}
      },
      "source": [
        "def produce_predictions(results, data_dir):\n",
        "    df = pd.read_csv(os.path.join(data_dir, \"test/dataframePerceptionUncertainty_SingleLabel.csv\"))\n",
        "    for head in headConfig:\n",
        "        label_map = {i : label for i, label in enumerate(head_classes[head])}\n",
        "        pred_labels = [label_map[pred_id] for pred_id in results[head]['preds']]\n",
        "        df[head+'_predicted'] = pred_labels\n",
        "\n",
        "    df.to_csv(os.path.join(data_dir, \"test/dataframePerceptionUncertainty_SingleLabel_predictions.csv\"), encoding='utf-8',index=False)"
      ],
      "execution_count": 0,
      "outputs": []
    },
    {
      "cell_type": "markdown",
      "metadata": {
        "id": "QG30c1vTeU38",
        "colab_type": "text"
      },
      "source": [
        "# Training and Evaluating Functions"
      ]
    },
    {
      "cell_type": "code",
      "metadata": {
        "id": "F88T8tWLBE6I",
        "colab_type": "code",
        "colab": {}
      },
      "source": [
        "def set_seed(args):\n",
        "    random.seed(args.seed)\n",
        "    np.random.seed(args.seed)\n",
        "    torch.manual_seed(args.seed)"
      ],
      "execution_count": 0,
      "outputs": []
    },
    {
      "cell_type": "code",
      "metadata": {
        "id": "BE3VsxjgSPj_",
        "colab_type": "code",
        "colab": {}
      },
      "source": [
        "def train(args, train_dataset, model, tokenizer, eval_dataset, classification=True):\n",
        "    \"\"\" Train the model \"\"\"\n",
        "    loss_trace = []\n",
        "    eval_loss_trace = []  # For evaluation trace during training\n",
        "    if classification:\n",
        "        head_loss_trace = {head: [] for head in headConfig}  # for detailed training loss trace for each head\n",
        "\n",
        "    train_sampler = RandomSampler(train_dataset)\n",
        "    train_dataloader = DataLoader(train_dataset, sampler=train_sampler, batch_size=args.train_batch_size)\n",
        "\n",
        "    t_total = len(train_dataloader) * args.num_train_epochs\n",
        "\n",
        "    # Prepare optimizer and schedule (linear warmup and decay)\n",
        "    no_decay = ['bias', 'LayerNorm.weight']\n",
        "    optimizer_grouped_parameters = [\n",
        "        {'params': [p for n, p in model.named_parameters() if not any(nd in n for nd in no_decay)], 'weight_decay': args.weight_decay},\n",
        "        {'params': [p for n, p in model.named_parameters() if any(nd in n for nd in no_decay)], 'weight_decay': 0.0}\n",
        "        ]\n",
        "    optimizer = AdamW(optimizer_grouped_parameters, lr=args.learning_rate, eps=args.adam_epsilon)\n",
        "    scheduler = WarmupLinearSchedule(optimizer, warmup_steps=args.warmup_steps, t_total=t_total)\n",
        "\n",
        "    # Train!\n",
        "    logger.info(\"***** Running training *****\")\n",
        "    logger.info(\"  Num examples = %d\", len(train_dataset))\n",
        "    logger.info(\"  Num Epochs = %d\", args.num_train_epochs)\n",
        "    logger.info(\"  Total optimization steps = %d\", t_total)\n",
        "\n",
        "    global_step = 0\n",
        "    tr_loss = 0.0\n",
        "    model.zero_grad()\n",
        "    \n",
        "    # Train for args.num_train_epochs Epochs\n",
        "    train_iterator = tnrange(int(args.num_train_epochs), desc=\"Epoch\")\n",
        "    set_seed(args)  # Added here for reproductibility (even between python 2 and 3)\n",
        "    for _ in train_iterator:\n",
        "        epoch_iterator = tqdm_notebook(train_dataloader, desc=\"Iteration\")\n",
        "        for step, batch in enumerate(epoch_iterator):\n",
        "            model.train()\n",
        "            \n",
        "            # Get the data and set it up as required by the model\n",
        "            batch = tuple(t.to(args.device) for t in batch)\n",
        "            inputs = {'input_ids':      batch[0],\n",
        "                      'attention_mask': batch[1],\n",
        "                      'token_type_ids': batch[2]}\n",
        "            if classification:\n",
        "                inputs['labels'] = {'ABSA' : batch[3], 'Entity' : batch[4], 'Entity_Fine' : batch[5], 'Coarse_Attribute' : batch[6], 'Entity_Sentiment' : batch[7]}\n",
        "            else:\n",
        "                inputs['labels'] = batch[3]\n",
        "            \n",
        "            outputs = model(**inputs)\n",
        "            loss = outputs[0]  # model outputs are always tuple in pytorch-transformers (see doc)\n",
        "\n",
        "            loss.backward()\n",
        "            torch.nn.utils.clip_grad_norm_(model.parameters(), args.max_grad_norm)\n",
        "\n",
        "            # Add loss to loss traces\n",
        "            loss_trace.append(loss.item())\n",
        "            if classification:\n",
        "                detailed_loss = outputs[1]\n",
        "                for head in headConfig:\n",
        "                    head_loss_trace[head].append(detailed_loss[head].item())\n",
        "\n",
        "            epoch_iterator.set_postfix(loss=loss.item())\n",
        "            tr_loss += loss.item()\n",
        "            \n",
        "            # Take gradient optimizer steps\n",
        "            optimizer.step()\n",
        "            scheduler.step()\n",
        "            model.zero_grad()\n",
        "            \n",
        "            global_step += 1\n",
        "\n",
        "            if args.logging_steps > 0 and global_step % args.logging_steps == 0:\n",
        "                if args.evaluate_during_training:\n",
        "                    eval_loss_trace.extend(evaluate(args, model, tokenizer, eval_dataset, prefix=str(global_step), classification=classification)[1])\n",
        "\n",
        "\n",
        "            if args.save_steps > 0 and global_step % args.save_steps == 0:\n",
        "                # Save model checkpoint\n",
        "                logger.info(\"Saving model checkpoint to %s\", args.output_dir)\n",
        "                torch.save(args, os.path.join(args.output_dir, 'training_args.bin'))\n",
        "                torch.save(model.state_dict(), os.path.join(args.output_dir, 'checkpoint-{}.pt'.format(global_step)))\n",
        "\n",
        "    returnData = (global_step, tr_loss / global_step, loss_trace, eval_loss_trace)\n",
        "    if classification:\n",
        "        returnData = returnData + (head_loss_trace,)\n",
        "    return returnData"
      ],
      "execution_count": 0,
      "outputs": []
    },
    {
      "cell_type": "code",
      "metadata": {
        "id": "FyW7G7f0RHWr",
        "colab_type": "code",
        "colab": {}
      },
      "source": [
        "def evaluate(args, model, tokenizer, eval_dataset, prefix=\"\", classification=True):\n",
        "    loss_trace = []\n",
        "\n",
        "    eval_sampler = SequentialSampler(eval_dataset)\n",
        "    eval_dataloader = DataLoader(eval_dataset, sampler=eval_sampler, batch_size=args.eval_batch_size)\n",
        "\n",
        "    logger.info(\"***** Running evaluation {} *****\".format(prefix))\n",
        "    logger.info(\"  Num examples = %d\", len(eval_dataset))\n",
        "    logger.info(\"  Batch size = %d\", args.eval_batch_size)\n",
        "    \n",
        "    eval_loss = 0.0\n",
        "    nb_eval_steps = 0\n",
        "    \n",
        "    # For keeping track of predictions and actual labels to be returned\n",
        "    preds = None\n",
        "    out_label_ids = None\n",
        "    \n",
        "    for batch in tqdm_notebook(eval_dataloader, desc=\"Evaluating\"):\n",
        "        model.eval()\n",
        "        \n",
        "        # Get the data and set it up as required by the model\n",
        "        batch = tuple(t.to(args.device) for t in batch)\n",
        "        with torch.no_grad():\n",
        "            inputs = {'input_ids':      batch[0],\n",
        "                      'attention_mask': batch[1],\n",
        "                      'token_type_ids': batch[2]}\n",
        "            if classification:\n",
        "                inputs['labels'] = {'ABSA' : batch[3], 'Entity' : batch[4], 'Entity_Fine' : batch[5], 'Coarse_Attribute' : batch[6], 'Entity_Sentiment' : batch[7]}\n",
        "            else:\n",
        "                inputs['labels'] = batch[3]\n",
        "            \n",
        "            outputs = model(**inputs)\n",
        "            loss = outputs[0]\n",
        "\n",
        "            # Add loss to loss trace\n",
        "            loss_trace.append(loss.item())\n",
        "            eval_loss += loss.item()\n",
        "\n",
        "            if classification:\n",
        "                logits = outputs[2]\n",
        "            else:\n",
        "                logits = outputs[1]\n",
        "        \n",
        "        nb_eval_steps += 1\n",
        "        if preds is None:\n",
        "            if classification:\n",
        "                preds = {head: logits[head].detach().cpu().numpy() for head in headConfig}  # For each head, add the logits to preds\n",
        "                out_label_ids = {head: inputs['labels'][head].detach().cpu().numpy() for head in headConfig}  # For each head, add the actual labels to out_label_ids\n",
        "            else:\n",
        "                preds = logits.detach().cpu().numpy()\n",
        "                out_label_ids = inputs['labels'].detach().cpu().numpy()\n",
        "        else:\n",
        "            if classification:\n",
        "                preds = {head: np.append(preds[head], logits[head].detach().cpu().numpy(), axis=0) for head in headConfig}  # For each head, add the logits to preds\n",
        "                out_label_ids = {head: np.append(out_label_ids[head], inputs['labels'][head].detach().cpu().numpy(), axis=0) for head in headConfig}  # For each head, add the actual labels to out_label_ids\n",
        "            else:\n",
        "                preds = np.append(preds, logits.detach().cpu().numpy(), axis=0)\n",
        "                out_label_ids = np.append(out_label_ids, inputs['labels'].detach().cpu().numpy(), axis=0)\n",
        "\n",
        "    eval_loss = eval_loss / nb_eval_steps\n",
        "    logger.info(\"evaluation average loss = %s\", eval_loss)\n",
        "    \n",
        "    if classification:\n",
        "        # Calculate predictions from the logits using argmax, and set up a dictionary with predictions and actual labels for each head\n",
        "        results = {head: {'actual': out_label_ids[head], 'preds': np.argmax(preds[head], axis=1)} for head in headConfig}\n",
        "    else:\n",
        "        results = {'actual': out_label_ids, 'preds': preds}\n",
        "\n",
        "    return eval_loss, loss_trace, results"
      ],
      "execution_count": 0,
      "outputs": []
    },
    {
      "cell_type": "markdown",
      "metadata": {
        "id": "7lhvzgvnb9Hv",
        "colab_type": "text"
      },
      "source": [
        "# Define XLNET Models"
      ]
    },
    {
      "cell_type": "markdown",
      "metadata": {
        "id": "BNy1N7VnOhTC",
        "colab_type": "text"
      },
      "source": [
        "## Define XLNET Model for ABSA"
      ]
    },
    {
      "cell_type": "code",
      "metadata": {
        "id": "DLB9DPsnzc7I",
        "colab_type": "code",
        "colab": {}
      },
      "source": [
        "class XLNetABSAwithHeads(torch.nn.Module):\n",
        "    def __init__(self, config, xlnetDim = 768, model_type='xlnet-base-cased', dropout=0.1, loss_weights=None):\n",
        "        super(XLNetABSAwithHeads, self).__init__()\n",
        "\n",
        "        self.transformer = XLNetModel.from_pretrained(model_type)\n",
        "        self.configHead = config\n",
        "        self.loss_weights = loss_weights\n",
        "        # self.dropout_layer = torch.nn.Dropout(dropout)\n",
        "        \n",
        "        # Build up the heads from the config dictionary\n",
        "        config_dict = {}\n",
        "        for head in self.configHead:\n",
        "            config_dict[head] = torch.nn.Linear(in_features=xlnetDim, out_features=self.configHead[head])\n",
        "\n",
        "        self.heads = torch.nn.ModuleDict(config_dict)\n",
        "\n",
        "        self.apply(self.init_weights)\n",
        "\n",
        "    def init_weights(self, module):\n",
        "        if isinstance(module, torch.nn.ModuleDict):\n",
        "            # Initialize each linear layer\n",
        "            for layer in module.children():\n",
        "                layer.weight.data.normal_(mean=0.0, std=0.02)\n",
        "                if isinstance(layer, torch.nn.Linear) and layer.bias is not None:\n",
        "                    layer.bias.data.zero_()\n",
        "\n",
        "    def forward(self, input_ids, token_type_ids=None, input_mask=None, attention_mask=None, mems=None, perm_mask=None, target_mapping=None, labels=None, head_mask=None, loss_weights=None):\n",
        "        # Get the output from XLNET model                                        \n",
        "        transformer_outputs = self.transformer(input_ids, token_type_ids=token_type_ids,\n",
        "                                               input_mask=input_mask, attention_mask=attention_mask,\n",
        "                                               mems=mems, perm_mask=perm_mask, target_mapping=target_mapping,\n",
        "                                               head_mask=head_mask)\n",
        "        output = transformer_outputs[0]\n",
        "        # Pick the last token for classification\n",
        "        output = output[:, -1]\n",
        "        # Do dropout\n",
        "        # output = self.dropout_layer(output)\n",
        "\n",
        "        # Use last token and pass it seperately through each head, to get head_logits\n",
        "        head_logits = {}\n",
        "        for head in self.configHead:\n",
        "            head_logits[head] = self.heads[head](output)\n",
        "\n",
        "        # Add head_logits to output tuple\n",
        "        outputs = (head_logits,) + transformer_outputs[1:]  # Keep mems, hidden states, attentions if there are in it\n",
        "\n",
        "        # Calculate loss for each head, and send back total loss + detailed loss\n",
        "        if labels is not None:\n",
        "            head_loss = {}\n",
        "            loss_fct = CrossEntropyLoss()\n",
        "            for head in self.configHead:\n",
        "                # loss_fct = CrossEntropyLoss(weight=self.loss_weights[head].cuda())\n",
        "                head_loss[head] = loss_fct(head_logits[head], labels[head])\n",
        "            outputs = (sum(head_loss.values()), head_loss) + outputs\n",
        "\n",
        "        return outputs  # return (total loss, detailed loss), logits, mems, (hidden states), (attentions)\n"
      ],
      "execution_count": 0,
      "outputs": []
    },
    {
      "cell_type": "markdown",
      "metadata": {
        "id": "Ke66pdRnOm5x",
        "colab_type": "text"
      },
      "source": [
        "## Define XLNET Model for Regression"
      ]
    },
    {
      "cell_type": "code",
      "metadata": {
        "id": "QRUgvxU9Oqqx",
        "colab_type": "code",
        "colab": {}
      },
      "source": [
        "class XLNetRegression(torch.nn.Module):\n",
        "    def __init__(self, xlnetDim = 768, model_type='xlnet-base-cased'):\n",
        "        super(XLNetRegression, self).__init__()\n",
        "\n",
        "        self.transformer = XLNetModel.from_pretrained(model_type)\n",
        "        self.fc_layer = torch.nn.Linear(in_features=xlnetDim, out_features=1)\n",
        "        self.sigmoid = Sigmoid()\n",
        "        \n",
        "        self.apply(self.init_weights)\n",
        "\n",
        "    def init_weights(self, module):\n",
        "        if isinstance(module, torch.nn.ModuleDict):\n",
        "            # Initialize each linear layer\n",
        "            for layer in module.children():\n",
        "                layer.weight.data.normal_(mean=0.0, std=0.02)\n",
        "                if isinstance(layer, torch.nn.Linear) and layer.bias is not None:\n",
        "                    layer.bias.data.zero_()\n",
        "\n",
        "    def forward(self, input_ids, token_type_ids=None, input_mask=None, attention_mask=None, mems=None, perm_mask=None, target_mapping=None, labels=None, head_mask=None, loss_weights=None):\n",
        "        # Get the output from XLNET model                                        \n",
        "        transformer_outputs = self.transformer(input_ids, token_type_ids=token_type_ids,\n",
        "                                               input_mask=input_mask, attention_mask=attention_mask,\n",
        "                                               mems=mems, perm_mask=perm_mask, target_mapping=target_mapping,\n",
        "                                               head_mask=head_mask)\n",
        "        output = transformer_outputs[0]\n",
        "        # Pick the last token for classification\n",
        "        output = output[:, -1]\n",
        "        # Pass through fc layer\n",
        "        logits = torch.squeeze(self.sigmoid(self.fc_layer(output)))\n",
        "\n",
        "        # Add logits to output tuple\n",
        "        outputs = (logits,) + transformer_outputs[1:]  # Keep mems, hidden states, attentions if there are in it\n",
        "\n",
        "        # Calculate loss\n",
        "        if labels is not None:\n",
        "            loss_fct = L1Loss()\n",
        "            loss = loss_fct(logits, labels)\n",
        "            outputs = (loss,) + outputs\n",
        "\n",
        "        return outputs  # return loss, logits, mems, (hidden states), (attentions)\n"
      ],
      "execution_count": 0,
      "outputs": []
    },
    {
      "cell_type": "markdown",
      "metadata": {
        "id": "hOLR4gq1cHVi",
        "colab_type": "text"
      },
      "source": [
        "# Set Config and Logging"
      ]
    },
    {
      "cell_type": "code",
      "metadata": {
        "id": "449S18UM-6O8",
        "colab_type": "code",
        "colab": {}
      },
      "source": [
        "def readConfig():\n",
        "    args = argparse.Namespace()\n",
        "    args.model_type = 'xlnet-base-cased'\n",
        "    args.data_dir = sharedGFolderPath+'data/'\n",
        "    args.output_dir = sharedGFolderPath+'output/Current/'\n",
        "    args.max_seq_length = 32\n",
        "    args.train_batch_size = 32\n",
        "    args.eval_batch_size = 32\n",
        "    args.learning_rate = 5e-5\n",
        "    args.num_train_epochs = 20.0\n",
        "    args.warmup_steps = 0\n",
        "    args.seed = 42\n",
        "    args.weight_decay = 0.1\n",
        "    args.adam_epsilon = 1e-8\n",
        "    args.max_grad_norm = 1.0\n",
        "    args.logging_steps = 50\n",
        "    args.save_steps = 0\n",
        "    args.evaluate_during_training = True\n",
        "    \n",
        "    return args"
      ],
      "execution_count": 0,
      "outputs": []
    },
    {
      "cell_type": "code",
      "metadata": {
        "id": "mvGf3kv3BNSZ",
        "colab_type": "code",
        "colab": {}
      },
      "source": [
        "args = readConfig()\n",
        "device = torch.device(\"cuda\" if torch.cuda.is_available() else \"cpu\")\n",
        "args.device = device\n",
        "logging.basicConfig(format = '%(asctime)s - %(levelname)s - %(name)s -   %(message)s', datefmt = '%m/%d/%Y %H:%M:%S', level = logging.INFO)"
      ],
      "execution_count": 0,
      "outputs": []
    },
    {
      "cell_type": "code",
      "metadata": {
        "id": "uuT0lh2J1sda",
        "colab_type": "code",
        "colab": {}
      },
      "source": [
        "classification = False  # TRUE if classification model / data needed, otherwise FALSE\n",
        "headConfig = {'ABSA' : 54, 'Entity' : 3, 'Entity_Fine' : 9}   # Dict for attrbiute name with number of classes for that attribute, used in Classification\n",
        "#headConfig = {'ABSA' : 54}\n",
        "#headConfig = {'ABSA' : 54, 'Entity' : 3, 'Entity_Fine' : 9, 'Coarse_Attribute' : 6, 'Entity_Sentiment' : 9}"
      ],
      "execution_count": 0,
      "outputs": []
    },
    {
      "cell_type": "markdown",
      "metadata": {
        "id": "WTYaW6NahrdH",
        "colab_type": "text"
      },
      "source": [
        "# Load the Custom Model and Tokenizer"
      ]
    },
    {
      "cell_type": "code",
      "metadata": {
        "id": "sSjFObyIrf3k",
        "colab_type": "code",
        "colab": {}
      },
      "source": [
        "tokenizer = XLNetTokenizer.from_pretrained(args.model_type)\n",
        "if classification:\n",
        "    model = XLNetABSAwithHeads(headConfig, model_type=args.model_type)\n",
        "else:\n",
        "    model = XLNetRegression(model_type=args.model_type)"
      ],
      "execution_count": 0,
      "outputs": []
    },
    {
      "cell_type": "markdown",
      "metadata": {
        "id": "OkAT3swPhzrJ",
        "colab_type": "text"
      },
      "source": [
        "# Load up Training and Evaluation dataset"
      ]
    },
    {
      "cell_type": "code",
      "metadata": {
        "id": "KhLrGeVYAhdS",
        "colab_type": "code",
        "outputId": "8ccffe25-91db-46e1-9c8d-98111c7d44b8",
        "colab": {
          "base_uri": "https://localhost:8080/",
          "height": 1000
        }
      },
      "source": [
        "set_seed(args)\n",
        "\n",
        "train_dataset, head_classes = load_and_cache_examples(args, tokenizer, datasetType='train', classification=classification)\n",
        "eval_dataset = load_and_cache_examples(args, tokenizer, datasetType='val', classification=classification)"
      ],
      "execution_count": 73,
      "outputs": [
        {
          "output_type": "stream",
          "text": [
            "02/01/2020 01:35:39 - INFO - __main__ -   Creating features from dataset file at /content/gdrive/My Drive/TUM/Guided Research/data/\n",
            "02/01/2020 01:35:39 - INFO - __main__ -   Writing example 0 of 4218\n",
            "02/01/2020 01:35:39 - INFO - __main__ -   *** Example ***\n",
            "02/01/2020 01:35:39 - INFO - __main__ -   guid: train-0\n",
            "02/01/2020 01:35:39 - INFO - __main__ -   tokens: ▁Cook if i ▁is ▁one ▁of ▁the ▁leading ▁Organic ▁cater ers ▁in ▁Bangalore . <sep> <cls>\n",
            "02/01/2020 01:35:39 - INFO - __main__ -   input_ids: 5 5 5 5 5 5 5 5 5 5 5 5 5 5 5 5 5030 1963 150 27 65 20 18 895 22032 13484 270 25 21548 9 4 3\n",
            "02/01/2020 01:35:39 - INFO - __main__ -   input_mask: 0 0 0 0 0 0 0 0 0 0 0 0 0 0 0 0 1 1 1 1 1 1 1 1 1 1 1 1 1 1 1 1\n",
            "02/01/2020 01:35:39 - INFO - __main__ -   segment_ids: 4 4 4 4 4 4 4 4 4 4 4 4 4 4 4 4 0 0 0 0 0 0 0 0 0 0 0 0 0 0 0 2\n",
            "02/01/2020 01:35:39 - INFO - __main__ -   label-ABSA: 4 -> organic-trustworthy sources-0\n",
            "02/01/2020 01:35:39 - INFO - __main__ -   label-Entity: 0 -> organic\n",
            "02/01/2020 01:35:39 - INFO - __main__ -   label-Entity_Fine: 3 -> organic companies\n",
            "02/01/2020 01:35:39 - INFO - __main__ -   label-Coarse_Attribute: 4 -> trustworthy sources\n",
            "02/01/2020 01:35:39 - INFO - __main__ -   label-Entity_Sentiment: 0 -> organic-0\n",
            "02/01/2020 01:35:39 - INFO - __main__ -   *** Example ***\n",
            "02/01/2020 01:35:39 - INFO - __main__ -   guid: train-1\n",
            "02/01/2020 01:35:39 - INFO - __main__ -   tokens: ▁With ▁over ▁a ▁100 ▁organic ▁dishes , ▁and ▁customizable ▁options ▁to ▁suit ▁your ▁taste , ▁you ▁can ▁always ▁be ▁assured ▁you ▁are ▁eating ▁nothing ▁but ▁the ▁best . <sep> <cls>\n",
            "02/01/2020 01:35:39 - INFO - __main__ -   input_ids: 5 5 473 95 24 842 5881 9483 19 21 30915 1955 22 2813 73 3736 19 44 64 426 39 7071 44 41 4099 805 57 18 252 9 4 3\n",
            "02/01/2020 01:35:39 - INFO - __main__ -   input_mask: 0 0 1 1 1 1 1 1 1 1 1 1 1 1 1 1 1 1 1 1 1 1 1 1 1 1 1 1 1 1 1 1\n",
            "02/01/2020 01:35:39 - INFO - __main__ -   segment_ids: 4 4 0 0 0 0 0 0 0 0 0 0 0 0 0 0 0 0 0 0 0 0 0 0 0 0 0 0 0 0 0 2\n",
            "02/01/2020 01:35:39 - INFO - __main__ -   label-ABSA: 8 -> organic-experienced quality-p\n",
            "02/01/2020 01:35:39 - INFO - __main__ -   label-Entity: 0 -> organic\n",
            "02/01/2020 01:35:39 - INFO - __main__ -   label-Entity_Fine: 3 -> organic companies\n",
            "02/01/2020 01:35:39 - INFO - __main__ -   label-Coarse_Attribute: 2 -> experienced quality\n",
            "02/01/2020 01:35:39 - INFO - __main__ -   label-Entity_Sentiment: 1 -> organic-p\n",
            "02/01/2020 01:35:39 - INFO - __main__ -   *** Example ***\n",
            "02/01/2020 01:35:39 - INFO - __main__ -   guid: train-2\n",
            "02/01/2020 01:35:39 - INFO - __main__ -   tokens: ▁As ▁of ▁now ▁they ▁have ▁3 ▁full ▁ fledged ▁Organic ▁Menu s ▁Organic ▁Indian ▁Organic ▁Continental ▁North ▁Indian ▁Organic ▁special ▁Here ▁is ▁a ▁link ▁to ▁their ▁website ▁in ▁case ▁you <sep> <cls>\n",
            "02/01/2020 01:35:39 - INFO - __main__ -   input_ids: 228 20 145 63 47 198 410 17 25650 22032 26010 23 22032 1280 22032 13170 453 1280 22032 632 1960 27 24 1730 22 58 1001 25 363 44 4 3\n",
            "02/01/2020 01:35:39 - INFO - __main__ -   input_mask: 1 1 1 1 1 1 1 1 1 1 1 1 1 1 1 1 1 1 1 1 1 1 1 1 1 1 1 1 1 1 1 1\n",
            "02/01/2020 01:35:39 - INFO - __main__ -   segment_ids: 0 0 0 0 0 0 0 0 0 0 0 0 0 0 0 0 0 0 0 0 0 0 0 0 0 0 0 0 0 0 0 2\n",
            "02/01/2020 01:35:39 - INFO - __main__ -   label-ABSA: 4 -> organic-trustworthy sources-0\n",
            "02/01/2020 01:35:39 - INFO - __main__ -   label-Entity: 0 -> organic\n",
            "02/01/2020 01:35:39 - INFO - __main__ -   label-Entity_Fine: 3 -> organic companies\n",
            "02/01/2020 01:35:39 - INFO - __main__ -   label-Coarse_Attribute: 4 -> trustworthy sources\n",
            "02/01/2020 01:35:39 - INFO - __main__ -   label-Entity_Sentiment: 0 -> organic-0\n",
            "02/01/2020 01:35:39 - INFO - __main__ -   *** Example ***\n",
            "02/01/2020 01:35:39 - INFO - __main__ -   guid: train-3\n",
            "02/01/2020 01:35:39 - INFO - __main__ -   tokens: ▁Organic ▁Menu s ▁From ▁Cook if i <sep> <cls>\n",
            "02/01/2020 01:35:39 - INFO - __main__ -   input_ids: 5 5 5 5 5 5 5 5 5 5 5 5 5 5 5 5 5 5 5 5 5 5 5 22032 26010 23 1072 5030 1963 150 4 3\n",
            "02/01/2020 01:35:39 - INFO - __main__ -   input_mask: 0 0 0 0 0 0 0 0 0 0 0 0 0 0 0 0 0 0 0 0 0 0 0 1 1 1 1 1 1 1 1 1\n",
            "02/01/2020 01:35:39 - INFO - __main__ -   segment_ids: 4 4 4 4 4 4 4 4 4 4 4 4 4 4 4 4 4 4 4 4 4 4 4 0 0 0 0 0 0 0 0 2\n",
            "02/01/2020 01:35:39 - INFO - __main__ -   label-ABSA: 0 -> organic-general-0\n",
            "02/01/2020 01:35:39 - INFO - __main__ -   label-Entity: 0 -> organic\n",
            "02/01/2020 01:35:39 - INFO - __main__ -   label-Entity_Fine: 3 -> organic companies\n",
            "02/01/2020 01:35:39 - INFO - __main__ -   label-Coarse_Attribute: 0 -> general\n",
            "02/01/2020 01:35:39 - INFO - __main__ -   label-Entity_Sentiment: 0 -> organic-0\n",
            "02/01/2020 01:35:39 - INFO - __main__ -   *** Example ***\n",
            "02/01/2020 01:35:39 - INFO - __main__ -   guid: train-4\n",
            "02/01/2020 01:35:39 - INFO - __main__ -   tokens: ▁Organic ▁egg ▁production ▁is ▁the ▁production ▁of ▁eggs ▁through ▁organic ▁means . <sep> <cls>\n",
            "02/01/2020 01:35:39 - INFO - __main__ -   input_ids: 5 5 5 5 5 5 5 5 5 5 5 5 5 5 5 5 5 5 22032 7196 845 27 18 845 20 6077 135 5881 731 9 4 3\n",
            "02/01/2020 01:35:39 - INFO - __main__ -   input_mask: 0 0 0 0 0 0 0 0 0 0 0 0 0 0 0 0 0 0 1 1 1 1 1 1 1 1 1 1 1 1 1 1\n",
            "02/01/2020 01:35:39 - INFO - __main__ -   segment_ids: 4 4 4 4 4 4 4 4 4 4 4 4 4 4 4 4 4 4 0 0 0 0 0 0 0 0 0 0 0 0 0 2\n",
            "02/01/2020 01:35:39 - INFO - __main__ -   label-ABSA: 5 -> organic-environment-0\n",
            "02/01/2020 01:35:39 - INFO - __main__ -   label-Entity: 0 -> organic\n",
            "02/01/2020 01:35:39 - INFO - __main__ -   label-Entity_Fine: 2 -> organic farmers\n",
            "02/01/2020 01:35:39 - INFO - __main__ -   label-Coarse_Attribute: 5 -> environment\n",
            "02/01/2020 01:35:39 - INFO - __main__ -   label-Entity_Sentiment: 0 -> organic-0\n",
            "02/01/2020 01:35:39 - INFO - __main__ -   Writing example 1000 of 4218\n",
            "02/01/2020 01:35:40 - INFO - __main__ -   Writing example 2000 of 4218\n",
            "02/01/2020 01:35:40 - INFO - __main__ -   Writing example 3000 of 4218\n",
            "02/01/2020 01:35:40 - INFO - __main__ -   Writing example 4000 of 4218\n",
            "02/01/2020 01:35:40 - INFO - __main__ -   Creating features from dataset file at /content/gdrive/My Drive/TUM/Guided Research/data/\n",
            "02/01/2020 01:35:40 - INFO - __main__ -   Writing example 0 of 372\n",
            "02/01/2020 01:35:40 - INFO - __main__ -   *** Example ***\n",
            "02/01/2020 01:35:40 - INFO - __main__ -   guid: val-0\n",
            "02/01/2020 01:35:40 - INFO - __main__ -   tokens: ▁Marketing , ▁marketing , ▁marketing . <sep> <cls>\n",
            "02/01/2020 01:35:40 - INFO - __main__ -   input_ids: 5 5 5 5 5 5 5 5 5 5 5 5 5 5 5 5 5 5 5 5 5 5 5 5 9088 19 1917 19 1917 9 4 3\n",
            "02/01/2020 01:35:40 - INFO - __main__ -   input_mask: 0 0 0 0 0 0 0 0 0 0 0 0 0 0 0 0 0 0 0 0 0 0 0 0 1 1 1 1 1 1 1 1\n",
            "02/01/2020 01:35:40 - INFO - __main__ -   segment_ids: 4 4 4 4 4 4 4 4 4 4 4 4 4 4 4 4 4 4 4 4 4 4 4 4 0 0 0 0 0 0 0 2\n",
            "02/01/2020 01:35:40 - INFO - __main__ -   label-ABSA: 16 -> organic-trustworthy sources-n\n",
            "02/01/2020 01:35:40 - INFO - __main__ -   label-Entity: 0 -> organic\n",
            "02/01/2020 01:35:40 - INFO - __main__ -   label-Entity_Fine: 1 -> organic products\n",
            "02/01/2020 01:35:40 - INFO - __main__ -   label-Coarse_Attribute: 4 -> trustworthy sources\n",
            "02/01/2020 01:35:40 - INFO - __main__ -   label-Entity_Sentiment: 2 -> organic-n\n",
            "02/01/2020 01:35:40 - INFO - __main__ -   *** Example ***\n",
            "02/01/2020 01:35:40 - INFO - __main__ -   guid: val-1\n",
            "02/01/2020 01:35:40 - INFO - __main__ -   tokens: ▁So ▁the ▁can ny ▁organic ▁farmer ▁orders ▁chick s ▁who ▁will ▁grow ▁up ▁to ▁produce ▁nice , ▁brown , ▁recognizable ▁* Not ▁Store ▁Egg s * . <sep> <cls>\n",
            "02/01/2020 01:35:40 - INFO - __main__ -   input_ids: 5 5 5 346 18 64 2159 5881 10592 2893 19167 23 61 53 2220 76 22 1824 2101 19 3442 19 24141 6940 4532 7278 18703 23 8652 9 4 3\n",
            "02/01/2020 01:35:40 - INFO - __main__ -   input_mask: 0 0 0 1 1 1 1 1 1 1 1 1 1 1 1 1 1 1 1 1 1 1 1 1 1 1 1 1 1 1 1 1\n",
            "02/01/2020 01:35:40 - INFO - __main__ -   segment_ids: 4 4 4 0 0 0 0 0 0 0 0 0 0 0 0 0 0 0 0 0 0 0 0 0 0 0 0 0 0 0 0 2\n",
            "02/01/2020 01:35:40 - INFO - __main__ -   label-ABSA: 14 -> organic-experienced quality-n\n",
            "02/01/2020 01:35:40 - INFO - __main__ -   label-Entity: 0 -> organic\n",
            "02/01/2020 01:35:40 - INFO - __main__ -   label-Entity_Fine: 2 -> organic farmers\n",
            "02/01/2020 01:35:40 - INFO - __main__ -   label-Coarse_Attribute: 2 -> experienced quality\n",
            "02/01/2020 01:35:40 - INFO - __main__ -   label-Entity_Sentiment: 2 -> organic-n\n",
            "02/01/2020 01:35:40 - INFO - __main__ -   *** Example ***\n",
            "02/01/2020 01:35:40 - INFO - __main__ -   guid: val-2\n",
            "02/01/2020 01:35:40 - INFO - __main__ -   tokens: ▁It ▁has ▁nothing ▁to ▁do ▁with ▁organic ness . <sep> <cls>\n",
            "02/01/2020 01:35:40 - INFO - __main__ -   input_ids: 5 5 5 5 5 5 5 5 5 5 5 5 5 5 5 5 5 5 5 5 5 84 51 805 22 112 33 5881 680 9 4 3\n",
            "02/01/2020 01:35:40 - INFO - __main__ -   input_mask: 0 0 0 0 0 0 0 0 0 0 0 0 0 0 0 0 0 0 0 0 0 1 1 1 1 1 1 1 1 1 1 1\n",
            "02/01/2020 01:35:40 - INFO - __main__ -   segment_ids: 4 4 4 4 4 4 4 4 4 4 4 4 4 4 4 4 4 4 4 4 4 0 0 0 0 0 0 0 0 0 0 2\n",
            "02/01/2020 01:35:40 - INFO - __main__ -   label-ABSA: 16 -> organic-trustworthy sources-n\n",
            "02/01/2020 01:35:40 - INFO - __main__ -   label-Entity: 0 -> organic\n",
            "02/01/2020 01:35:40 - INFO - __main__ -   label-Entity_Fine: 0 -> organic general\n",
            "02/01/2020 01:35:40 - INFO - __main__ -   label-Coarse_Attribute: 4 -> trustworthy sources\n",
            "02/01/2020 01:35:40 - INFO - __main__ -   label-Entity_Sentiment: 2 -> organic-n\n",
            "02/01/2020 01:35:40 - INFO - __main__ -   *** Example ***\n",
            "02/01/2020 01:35:40 - INFO - __main__ -   guid: val-3\n",
            "02/01/2020 01:35:40 - INFO - __main__ -   tokens: ▁All ▁those ▁other ▁colors ▁can ▁come ▁from ▁not - organic ▁he ns , ▁too . <sep> <cls>\n",
            "02/01/2020 01:35:40 - INFO - __main__ -   input_ids: 5 5 5 5 5 5 5 5 5 5 5 5 5 5 5 394 186 86 4262 64 280 40 50 13 27775 43 3673 19 269 9 4 3\n",
            "02/01/2020 01:35:40 - INFO - __main__ -   input_mask: 0 0 0 0 0 0 0 0 0 0 0 0 0 0 0 1 1 1 1 1 1 1 1 1 1 1 1 1 1 1 1 1\n",
            "02/01/2020 01:35:40 - INFO - __main__ -   segment_ids: 4 4 4 4 4 4 4 4 4 4 4 4 4 4 4 0 0 0 0 0 0 0 0 0 0 0 0 0 0 0 0 2\n",
            "02/01/2020 01:35:40 - INFO - __main__ -   label-ABSA: 14 -> organic-experienced quality-n\n",
            "02/01/2020 01:35:40 - INFO - __main__ -   label-Entity: 0 -> organic\n",
            "02/01/2020 01:35:40 - INFO - __main__ -   label-Entity_Fine: 1 -> organic products\n",
            "02/01/2020 01:35:40 - INFO - __main__ -   label-Coarse_Attribute: 2 -> experienced quality\n",
            "02/01/2020 01:35:40 - INFO - __main__ -   label-Entity_Sentiment: 2 -> organic-n\n",
            "02/01/2020 01:35:40 - INFO - __main__ -   *** Example ***\n",
            "02/01/2020 01:35:40 - INFO - __main__ -   guid: val-4\n",
            "02/01/2020 01:35:40 - INFO - __main__ -   tokens: ▁Terra ▁Green ' s ▁Forest ▁Ho ney ▁has ▁been ▁tested ▁for ▁traces ▁of ▁pesticide ▁residue ▁and ▁is ▁certified ▁clean ; ▁also ▁our ▁product ▁is ▁certified ▁under ▁the ▁N POP ▁and <sep> <cls>\n",
            "02/01/2020 01:35:40 - INFO - __main__ -   input_ids: 19528 1918 26 23 5112 2095 2093 51 72 4696 28 14320 20 26656 19169 21 27 6714 2146 97 77 120 953 27 6714 168 18 578 30110 21 4 3\n",
            "02/01/2020 01:35:40 - INFO - __main__ -   input_mask: 1 1 1 1 1 1 1 1 1 1 1 1 1 1 1 1 1 1 1 1 1 1 1 1 1 1 1 1 1 1 1 1\n",
            "02/01/2020 01:35:40 - INFO - __main__ -   segment_ids: 0 0 0 0 0 0 0 0 0 0 0 0 0 0 0 0 0 0 0 0 0 0 0 0 0 0 0 0 0 0 0 2\n",
            "02/01/2020 01:35:40 - INFO - __main__ -   label-ABSA: 9 -> organic-safety and healthiness-p\n",
            "02/01/2020 01:35:40 - INFO - __main__ -   label-Entity: 0 -> organic\n",
            "02/01/2020 01:35:40 - INFO - __main__ -   label-Entity_Fine: 1 -> organic products\n",
            "02/01/2020 01:35:40 - INFO - __main__ -   label-Coarse_Attribute: 3 -> safety and healthiness\n",
            "02/01/2020 01:35:40 - INFO - __main__ -   label-Entity_Sentiment: 1 -> organic-p\n"
          ],
          "name": "stderr"
        }
      ]
    },
    {
      "cell_type": "markdown",
      "metadata": {
        "id": "aybvw8kJh2VR",
        "colab_type": "text"
      },
      "source": [
        "# Run training on the Model"
      ]
    },
    {
      "cell_type": "code",
      "metadata": {
        "id": "YoPZFbt6-afL",
        "colab_type": "code",
        "outputId": "dca25daf-6cfd-48fa-de39-0ace7a89351e",
        "colab": {
          "base_uri": "https://localhost:8080/",
          "height": 959,
          "referenced_widgets": [
            "9bd258333d284d88b7d7fbbef947f79b",
            "3efecf5d12694dc7a374bf722e930439",
            "81ebbd9674a648ab9b60f674f7ef3d21",
            "e2804c333ad54aefae7a0eff643d0ab5",
            "a8df281eb2514312873f04d29577e89b",
            "537a9bba5009492fac635488ae951182",
            "fd8d7c376c3042bc8ba7ad15b925e9dd",
            "2fd04ef26142448b9842d28559ebfcfd",
            "7e83f2eab25d441499d4b5c6f9337444",
            "8a9dbe26addb4ce1855a0c9183b3ee17",
            "28224c12cb54421bb77e43b3e4bb023a",
            "ee19b79e912247f0b52206df2fbee295",
            "68e02c2266364062af8b419192510cf7",
            "daf1c631c9db4186ac73c6c971c25a0f",
            "4b0f47754bfe4429a33fd8657fb79fd0",
            "954afcb868204eaf9196aec1d55850a3",
            "7cb834fcb6814cf88b36fc7f57da33e7",
            "d344ab055145430885e268d7aea15715",
            "294ef11aec544bf5bdfda8a70bff8d5d",
            "efb4cd30cd564d98a3fb0d675134faf2",
            "da892bd5cec449dd8ce87ffc472217b4",
            "c05d45cc95014b5f968c64a2c6f7cf71",
            "461b4442ed644ef3b297608d68ebbfd7",
            "0df6a78c5900418caba0e4f71ca7547d",
            "5c24dfc787b84377910c6747eac8af00",
            "e0266fd52add47df8c73672ac9b67d39",
            "4730645c737f445cbd08b825256a914c",
            "e7dac312a67343b38249afd8c3cbefcb",
            "e451e824e96d48ddba42b57e7d1fb481",
            "da338c7e59274e909daac393884a4fec",
            "34d4737005bb4198ad0f4a77620ee7ee",
            "ffd7bdc3fd8043f1bd111b509afece47",
            "2e4df017218241f4a4bd8c983197d890",
            "10a50ad787d447e89a40e14e80ab7281",
            "acc989f21f9f435591163f3fc9744fd4",
            "ec415e40d4ba4daba32379d6926b2461",
            "46116562c63e4ea8a0a02508a2665dbc",
            "ac1f3fd9bdad49a4adf54852a66237a7",
            "7be9552434254a1c8b78a41d6fd9e9df",
            "18e30270313a4baab5680f719c7e459b",
            "0f01550d037e4fa8ae2342c8ca20bbb0",
            "705cc73184d64360b0bbfb328a6d14a1",
            "9162028161a641039c2b0980c7604536",
            "13bca9f3a8424b189eb5c09655abed17",
            "d051aa74caca436d87066b1ef56d4b5d",
            "f67d8dfc78ea4c5791b7ccc150565d7b",
            "1d6f7b93b019437ca1511c63a342bab8",
            "513025eb86294642882fa7d585d5198e",
            "f43e9bd277534daaae5e09f1ff7ab14b",
            "37e835395e774b4aba7c55156e0f5d8b",
            "de9848681000457780b24ecae88d143c",
            "c1d0a05ebec64d4297c9fea5d7d9b556",
            "b7b5d368ea25497594ee7060f2fc3a7d",
            "66ff9a387c3440c0a714fc55b56147d8",
            "08b77cc848b04cfb8986f65dec75504a",
            "efdfd696baec4fac99f14e9e1bf96adb",
            "dfc97e8b777c45a4b20c41c6671bc73f",
            "25068fb5b91949adb892ef6b27a75490",
            "e8680f3bd1c94e1fb1c4b9d23d152ce3",
            "80090d29579c4f57863a0dbbc189a349",
            "7dc3fac1ec2140feaaf73245d8f26df9",
            "e969a65797c94777b399b9f4cd2ea6fb",
            "e0dae4cc02a3446289e7a8fa19e8a9f6",
            "abc23588ea9f4cb89cd4f8300651bf7e",
            "532406764b21401a81e68cf62547798a",
            "a740dc36d869419587c30981821436f9",
            "c8e9ed40f3364677b08e86cbf7f87dc0",
            "bafa7a67a87646a6af9381abae2f7eac",
            "402f5cfaeaf24c7b9d4ca63133bb4ba2",
            "96b62d6247864094b5940a7c75283554",
            "1764e3485dff47a3ae618eb7b6b75984",
            "26c52441e28241be8a5441e5b42d4944",
            "5bab3f651e1a431f9281339298cdf58f",
            "4567b8d29e37425a8c0c8ef2d01b9884",
            "2dca7d0b55494c97ae256902cf245007",
            "2557de1c86a94b62acbb59243ceb4675",
            "696adfed934c4802b1c563783c02b580",
            "bd0045203ef847a88b9cd660ba5ce8d9",
            "8dbf70525109490987a474a8b7fa87d3",
            "4dd126b11f0c4db1b2b6edabeb8cd3d4",
            "f2b7d0586bac4c3a89138aa80e91a2a8",
            "946931076679414e8cbc9e70ac51f0f9",
            "053734024caf4166abd3da6f37f64bd4",
            "4a1461b951184fbd9fc4fe1dbb8b08e7",
            "922ba6e07e054bd4a436bd2ab5f61a10",
            "a54f1fbd45f64cc3a62ea16c980cc8af",
            "d75b48e8bbc04c029e87b040593b003f",
            "9229d2966a714d0b99303d11b9637f29"
          ]
        }
      },
      "source": [
        "model.to(device)\n",
        "\n",
        "outputs = train(args, train_dataset, model, tokenizer, eval_dataset, classification=classification)\n",
        "global_step, tr_loss, train_loss_trace, eval_loss_trace = outputs[:4]\n",
        "if classification:\n",
        "    train_head_loss_trace = outputs[4]\n",
        "logger.info(\" global_step = %s, average loss = %s\", global_step, tr_loss)"
      ],
      "execution_count": 74,
      "outputs": [
        {
          "output_type": "stream",
          "text": [
            "02/01/2020 01:35:44 - INFO - __main__ -   ***** Running training *****\n",
            "02/01/2020 01:35:44 - INFO - __main__ -     Num examples = 4218\n",
            "02/01/2020 01:35:44 - INFO - __main__ -     Num Epochs = 3\n",
            "02/01/2020 01:35:44 - INFO - __main__ -     Total optimization steps = 396\n"
          ],
          "name": "stderr"
        },
        {
          "output_type": "display_data",
          "data": {
            "application/vnd.jupyter.widget-view+json": {
              "model_id": "9bd258333d284d88b7d7fbbef947f79b",
              "version_minor": 0,
              "version_major": 2
            },
            "text/plain": [
              "HBox(children=(IntProgress(value=0, description='Epoch', max=3, style=ProgressStyle(description_width='initial…"
            ]
          },
          "metadata": {
            "tags": []
          }
        },
        {
          "output_type": "display_data",
          "data": {
            "application/vnd.jupyter.widget-view+json": {
              "model_id": "7e83f2eab25d441499d4b5c6f9337444",
              "version_minor": 0,
              "version_major": 2
            },
            "text/plain": [
              "HBox(children=(IntProgress(value=0, description='Iteration', max=132, style=ProgressStyle(description_width='i…"
            ]
          },
          "metadata": {
            "tags": []
          }
        },
        {
          "output_type": "stream",
          "text": [
            "02/01/2020 01:35:58 - INFO - __main__ -   ***** Running evaluation 50 *****\n",
            "02/01/2020 01:35:58 - INFO - __main__ -     Num examples = 372\n",
            "02/01/2020 01:35:58 - INFO - __main__ -     Batch size = 32\n"
          ],
          "name": "stderr"
        },
        {
          "output_type": "display_data",
          "data": {
            "application/vnd.jupyter.widget-view+json": {
              "model_id": "7cb834fcb6814cf88b36fc7f57da33e7",
              "version_minor": 0,
              "version_major": 2
            },
            "text/plain": [
              "HBox(children=(IntProgress(value=0, description='Evaluating', max=12, style=ProgressStyle(description_width='i…"
            ]
          },
          "metadata": {
            "tags": []
          }
        },
        {
          "output_type": "stream",
          "text": [
            "02/01/2020 01:35:59 - INFO - __main__ -   evaluation average loss = 4.599934299786885\n",
            "02/01/2020 01:36:13 - INFO - __main__ -   ***** Running evaluation 100 *****\n",
            "02/01/2020 01:36:13 - INFO - __main__ -     Num examples = 372\n",
            "02/01/2020 01:36:13 - INFO - __main__ -     Batch size = 32\n"
          ],
          "name": "stderr"
        },
        {
          "output_type": "display_data",
          "data": {
            "application/vnd.jupyter.widget-view+json": {
              "model_id": "5c24dfc787b84377910c6747eac8af00",
              "version_minor": 0,
              "version_major": 2
            },
            "text/plain": [
              "HBox(children=(IntProgress(value=0, description='Evaluating', max=12, style=ProgressStyle(description_width='i…"
            ]
          },
          "metadata": {
            "tags": []
          }
        },
        {
          "output_type": "stream",
          "text": [
            "02/01/2020 01:36:14 - INFO - __main__ -   evaluation average loss = 4.430887699127197\n"
          ],
          "name": "stderr"
        },
        {
          "output_type": "display_data",
          "data": {
            "application/vnd.jupyter.widget-view+json": {
              "model_id": "2e4df017218241f4a4bd8c983197d890",
              "version_minor": 0,
              "version_major": 2
            },
            "text/plain": [
              "HBox(children=(IntProgress(value=0, description='Iteration', max=132, style=ProgressStyle(description_width='i…"
            ]
          },
          "metadata": {
            "tags": []
          }
        },
        {
          "output_type": "stream",
          "text": [
            "02/01/2020 01:36:29 - INFO - __main__ -   ***** Running evaluation 150 *****\n",
            "02/01/2020 01:36:29 - INFO - __main__ -     Num examples = 372\n",
            "02/01/2020 01:36:29 - INFO - __main__ -     Batch size = 32\n"
          ],
          "name": "stderr"
        },
        {
          "output_type": "display_data",
          "data": {
            "application/vnd.jupyter.widget-view+json": {
              "model_id": "0f01550d037e4fa8ae2342c8ca20bbb0",
              "version_minor": 0,
              "version_major": 2
            },
            "text/plain": [
              "HBox(children=(IntProgress(value=0, description='Evaluating', max=12, style=ProgressStyle(description_width='i…"
            ]
          },
          "metadata": {
            "tags": []
          }
        },
        {
          "output_type": "stream",
          "text": [
            "02/01/2020 01:36:30 - INFO - __main__ -   evaluation average loss = 4.042849242687225\n",
            "02/01/2020 01:36:44 - INFO - __main__ -   ***** Running evaluation 200 *****\n",
            "02/01/2020 01:36:44 - INFO - __main__ -     Num examples = 372\n",
            "02/01/2020 01:36:44 - INFO - __main__ -     Batch size = 32\n"
          ],
          "name": "stderr"
        },
        {
          "output_type": "display_data",
          "data": {
            "application/vnd.jupyter.widget-view+json": {
              "model_id": "f43e9bd277534daaae5e09f1ff7ab14b",
              "version_minor": 0,
              "version_major": 2
            },
            "text/plain": [
              "HBox(children=(IntProgress(value=0, description='Evaluating', max=12, style=ProgressStyle(description_width='i…"
            ]
          },
          "metadata": {
            "tags": []
          }
        },
        {
          "output_type": "stream",
          "text": [
            "02/01/2020 01:36:45 - INFO - __main__ -   evaluation average loss = 3.9395357966423035\n",
            "02/01/2020 01:37:00 - INFO - __main__ -   ***** Running evaluation 250 *****\n",
            "02/01/2020 01:37:00 - INFO - __main__ -     Num examples = 372\n",
            "02/01/2020 01:37:00 - INFO - __main__ -     Batch size = 32\n"
          ],
          "name": "stderr"
        },
        {
          "output_type": "display_data",
          "data": {
            "application/vnd.jupyter.widget-view+json": {
              "model_id": "dfc97e8b777c45a4b20c41c6671bc73f",
              "version_minor": 0,
              "version_major": 2
            },
            "text/plain": [
              "HBox(children=(IntProgress(value=0, description='Evaluating', max=12, style=ProgressStyle(description_width='i…"
            ]
          },
          "metadata": {
            "tags": []
          }
        },
        {
          "output_type": "stream",
          "text": [
            "02/01/2020 01:37:01 - INFO - __main__ -   evaluation average loss = 3.7923223773638406\n"
          ],
          "name": "stderr"
        },
        {
          "output_type": "display_data",
          "data": {
            "application/vnd.jupyter.widget-view+json": {
              "model_id": "532406764b21401a81e68cf62547798a",
              "version_minor": 0,
              "version_major": 2
            },
            "text/plain": [
              "HBox(children=(IntProgress(value=0, description='Iteration', max=132, style=ProgressStyle(description_width='i…"
            ]
          },
          "metadata": {
            "tags": []
          }
        },
        {
          "output_type": "stream",
          "text": [
            "02/01/2020 01:37:15 - INFO - __main__ -   ***** Running evaluation 300 *****\n",
            "02/01/2020 01:37:15 - INFO - __main__ -     Num examples = 372\n",
            "02/01/2020 01:37:15 - INFO - __main__ -     Batch size = 32\n"
          ],
          "name": "stderr"
        },
        {
          "output_type": "display_data",
          "data": {
            "application/vnd.jupyter.widget-view+json": {
              "model_id": "5bab3f651e1a431f9281339298cdf58f",
              "version_minor": 0,
              "version_major": 2
            },
            "text/plain": [
              "HBox(children=(IntProgress(value=0, description='Evaluating', max=12, style=ProgressStyle(description_width='i…"
            ]
          },
          "metadata": {
            "tags": []
          }
        },
        {
          "output_type": "stream",
          "text": [
            "02/01/2020 01:37:16 - INFO - __main__ -   evaluation average loss = 3.9959566990534463\n",
            "02/01/2020 01:37:31 - INFO - __main__ -   ***** Running evaluation 350 *****\n",
            "02/01/2020 01:37:31 - INFO - __main__ -     Num examples = 372\n",
            "02/01/2020 01:37:31 - INFO - __main__ -     Batch size = 32\n"
          ],
          "name": "stderr"
        },
        {
          "output_type": "display_data",
          "data": {
            "application/vnd.jupyter.widget-view+json": {
              "model_id": "f2b7d0586bac4c3a89138aa80e91a2a8",
              "version_minor": 0,
              "version_major": 2
            },
            "text/plain": [
              "HBox(children=(IntProgress(value=0, description='Evaluating', max=12, style=ProgressStyle(description_width='i…"
            ]
          },
          "metadata": {
            "tags": []
          }
        },
        {
          "output_type": "stream",
          "text": [
            "02/01/2020 01:37:32 - INFO - __main__ -   evaluation average loss = 3.897198041280111\n",
            "02/01/2020 01:37:46 - INFO - __main__ -    global_step = 396, average loss = 3.6375539471404723\n"
          ],
          "name": "stderr"
        },
        {
          "output_type": "stream",
          "text": [
            "\n"
          ],
          "name": "stdout"
        }
      ]
    },
    {
      "cell_type": "markdown",
      "metadata": {
        "id": "lyjWODO2h68q",
        "colab_type": "text"
      },
      "source": [
        "# Visualize model performance during Training"
      ]
    },
    {
      "cell_type": "code",
      "metadata": {
        "id": "O5OXV4Dge69M",
        "colab_type": "code",
        "outputId": "b3081ca6-c761-4e24-8c78-6f7149a4ffb9",
        "colab": {
          "base_uri": "https://localhost:8080/",
          "height": 265
        }
      },
      "source": [
        "if args.evaluate_during_training:\n",
        "    plot_train_val_trace(train_loss_trace, eval_loss_trace)"
      ],
      "execution_count": 75,
      "outputs": [
        {
          "output_type": "display_data",
          "data": {
            "image/png": "[encoded data removed]",
            "text/plain": [
              "<Figure size 432x288 with 1 Axes>"
            ]
          },
          "metadata": {
            "tags": []
          }
        }
      ]
    },
    {
      "cell_type": "markdown",
      "metadata": {
        "id": "qSEDUkzmfiJf",
        "colab_type": "text"
      },
      "source": [
        "## Only for Classification"
      ]
    },
    {
      "cell_type": "code",
      "metadata": {
        "id": "R1pWkK1wP7xx",
        "colab_type": "code",
        "outputId": "8671e0f0-bc8d-41b4-a9f8-e04146541fa1",
        "colab": {
          "base_uri": "https://localhost:8080/",
          "height": 265
        }
      },
      "source": [
        "plt.plot(running_mean(train_loss_trace, 25), label='Combined Loss')\n",
        "plt.plot(running_mean(train_head_loss_trace['ABSA'], 25), label='ABSA Loss')\n",
        "plt.plot(running_mean(train_head_loss_trace['Entity'], 25), label='Coarse Entity Loss')\n",
        "plt.plot(running_mean(train_head_loss_trace['Entity_Fine'], 25), label='Fine Loss')\n",
        "#plt.plot(running_mean(train_head_loss_trace['Coarse_Attribute'], 25), label='Coarse Attribute Loss')\n",
        "#plt.plot(running_mean(train_head_loss_trace['Entity_Sentiment'], 25), label='Entity_Sentiment Loss')\n",
        "plt.legend()\n",
        "plt.show()"
      ],
      "execution_count": 76,
      "outputs": [
        {
          "output_type": "display_data",
          "data": {
            "image/png": "[encoded data removed]",
            "text/plain": [
              "<Figure size 432x288 with 1 Axes>"
            ]
          },
          "metadata": {
            "tags": []
          }
        }
      ]
    },
    {
      "cell_type": "markdown",
      "metadata": {
        "id": "LM1-en8oiBSE",
        "colab_type": "text"
      },
      "source": [
        "# Save the model (If Needed)\n",
        "\n"
      ]
    },
    {
      "cell_type": "code",
      "metadata": {
        "id": "xQP4WuHDnC7x",
        "colab_type": "code",
        "outputId": "f3e5a7a5-c7f5-48eb-c54a-84eb14558441",
        "colab": {
          "base_uri": "https://localhost:8080/",
          "height": 34
        }
      },
      "source": [
        "logger.info(\"Saving trained model to %s\", args.output_dir)\n",
        "tokenizer.save_pretrained(args.output_dir)\n",
        "torch.save(args, os.path.join(args.output_dir, 'training_args.bin'))\n",
        "torch.save(model.state_dict(), os.path.join(args.output_dir, 'model.pt'))"
      ],
      "execution_count": 0,
      "outputs": [
        {
          "output_type": "stream",
          "text": [
            "01/30/2020 08:58:01 - INFO - __main__ -   Saving trained model to /content/gdrive/My Drive/TUM/Guided Research/output/Current/\n"
          ],
          "name": "stderr"
        }
      ]
    },
    {
      "cell_type": "markdown",
      "metadata": {
        "id": "jBg14gkhWzt-",
        "colab_type": "text"
      },
      "source": [
        "## Load the Saved Model"
      ]
    },
    {
      "cell_type": "code",
      "metadata": {
        "id": "cS1OcshOW2_s",
        "colab_type": "code",
        "colab": {}
      },
      "source": [
        "tokenizer = XLNetTokenizer.from_pretrained(args.model_type)\n",
        "if classification:\n",
        "    model = XLNetABSAwithHeads(headConfig, model_type=args.model_type)\n",
        "else:\n",
        "    model = XLNetRegression(model_type=args.model_type)\n",
        "model.load_state_dict(torch.load(os.path.join(args.output_dir, 'model.pt')))\n",
        "model.to(torch.device(\"cuda\" if torch.cuda.is_available() else \"cpu\"))"
      ],
      "execution_count": 0,
      "outputs": []
    },
    {
      "cell_type": "markdown",
      "metadata": {
        "id": "Q60kQlePiI6D",
        "colab_type": "text"
      },
      "source": [
        "# Load the Test dataset and Check performance of Trained model on it"
      ]
    },
    {
      "cell_type": "code",
      "metadata": {
        "id": "d3CfdoaEYvFp",
        "colab_type": "code",
        "outputId": "8554f488-b7ca-4be7-9991-9c1c79636933",
        "colab": {
          "base_uri": "https://localhost:8080/",
          "height": 798,
          "referenced_widgets": [
            "33f3ed994fe843faa57ebf28a4364062",
            "3bae348a273f4308a333867f2638c4af",
            "691b23bd585b4b679f7e0aa878bb3ce6",
            "0963ec6c4b304bfa9ea4319f5e51e554",
            "6ddd195c9dc84c90876e94b476b9f007",
            "d1647fb16eb44a0c93f77bed049d6b67",
            "090a9ac2d141408da7fc2a885fb2ad73",
            "a02025fc0ddd451aa324db09b26a7804"
          ]
        }
      },
      "source": [
        "# Give File Name for datasetType if evaluation needs to be done on seperate evaluation set, otherwise simply set datasetType='test' for normal testing on test set\n",
        "test_dataset = load_and_cache_examples(args, tokenizer, datasetType='jointly_annotated_PU_original_NIE.csv', classification=classification)\n",
        "test_loss, test_loss_trace, results = evaluate(args, model, tokenizer, test_dataset, prefix='Test set', classification=classification)"
      ],
      "execution_count": 93,
      "outputs": [
        {
          "output_type": "stream",
          "text": [
            "02/01/2020 01:51:16 - INFO - __main__ -   Creating features from dataset file at /content/gdrive/My Drive/TUM/Guided Research/data/\n",
            "02/01/2020 01:51:16 - INFO - __main__ -   Writing example 0 of 258\n",
            "02/01/2020 01:51:16 - INFO - __main__ -   *** Example ***\n",
            "02/01/2020 01:51:16 - INFO - __main__ -   guid: extra_test-0\n",
            "02/01/2020 01:51:16 - INFO - __main__ -   tokens: ▁Consider ▁that ▁there ▁are ▁myriad ▁varieties ▁of ▁natural ▁pest ▁control ▁measures ▁used ▁by ▁organic - certified ▁farms ▁including ▁oil - based ▁ s uff oc ants , ▁which ▁ - <sep> <cls>\n",
            "02/01/2020 01:51:16 - INFO - __main__ -   input_ids: 10840 29 105 41 20746 11102 20 1136 13112 475 1858 179 37 5881 13 25799 9199 208 607 13 716 17 23 7276 3374 4080 19 59 17 13 4 3\n",
            "02/01/2020 01:51:16 - INFO - __main__ -   input_mask: 1 1 1 1 1 1 1 1 1 1 1 1 1 1 1 1 1 1 1 1 1 1 1 1 1 1 1 1 1 1 1 1\n",
            "02/01/2020 01:51:16 - INFO - __main__ -   segment_ids: 0 0 0 0 0 0 0 0 0 0 0 0 0 0 0 0 0 0 0 0 0 0 0 0 0 0 0 0 0 0 0 2\n",
            "02/01/2020 01:51:16 - INFO - __main__ -   label: 0.2311981065546189\n",
            "02/01/2020 01:51:16 - INFO - __main__ -   *** Example ***\n",
            "02/01/2020 01:51:16 - INFO - __main__ -   guid: extra_test-1\n",
            "02/01/2020 01:51:16 - INFO - __main__ -   tokens: ▁Most ▁supermarket / green gro cer ▁tomatoes ▁are ▁grown ▁in ▁hydro p onic ▁systems ▁in ▁sealed ▁greenhouse s ▁or ▁similar ▁construction s , ▁which ▁are ▁closed - off ▁against ▁pest <sep> <cls>\n",
            "02/01/2020 01:51:16 - INFO - __main__ -   input_ids: 1073 11261 167 9684 7059 3720 15592 41 3521 25 9881 450 8417 1135 25 9211 10702 23 49 930 1301 23 19 59 41 946 13 1372 157 13112 4 3\n",
            "02/01/2020 01:51:16 - INFO - __main__ -   input_mask: 1 1 1 1 1 1 1 1 1 1 1 1 1 1 1 1 1 1 1 1 1 1 1 1 1 1 1 1 1 1 1 1\n",
            "02/01/2020 01:51:16 - INFO - __main__ -   segment_ids: 0 0 0 0 0 0 0 0 0 0 0 0 0 0 0 0 0 0 0 0 0 0 0 0 0 0 0 0 0 0 0 2\n",
            "02/01/2020 01:51:16 - INFO - __main__ -   label: 0.353759374819711\n",
            "02/01/2020 01:51:16 - INFO - __main__ -   *** Example ***\n",
            "02/01/2020 01:51:16 - INFO - __main__ -   guid: extra_test-2\n",
            "02/01/2020 01:51:16 - INFO - __main__ -   tokens: ▁These ▁facilities ▁are ▁regularly ▁sprayed ▁and ▁controlled , ▁whether ▁by ▁organic ▁or ▁non - organic ▁means . <sep> <cls>\n",
            "02/01/2020 01:51:16 - INFO - __main__ -   input_ids: 5 5 5 5 5 5 5 5 5 5 5 5 5 592 2110 41 3955 24109 21 3947 19 548 37 5881 49 555 13 27775 731 9 4 3\n",
            "02/01/2020 01:51:16 - INFO - __main__ -   input_mask: 0 0 0 0 0 0 0 0 0 0 0 0 0 1 1 1 1 1 1 1 1 1 1 1 1 1 1 1 1 1 1 1\n",
            "02/01/2020 01:51:16 - INFO - __main__ -   segment_ids: 4 4 4 4 4 4 4 4 4 4 4 4 4 0 0 0 0 0 0 0 0 0 0 0 0 0 0 0 0 0 0 2\n",
            "02/01/2020 01:51:16 - INFO - __main__ -   label: 0.22630030977895446\n",
            "02/01/2020 01:51:16 - INFO - __main__ -   *** Example ***\n",
            "02/01/2020 01:51:16 - INFO - __main__ -   guid: extra_test-3\n",
            "02/01/2020 01:51:16 - INFO - __main__ -   tokens: ▁Especially ▁in ▁the ▁U . S . ▁tomatoes ▁ ( am ong ▁other ▁foods ) ▁are ▁being ▁ ir radi ated , ▁with ▁the ▁ ' in tention ' ▁of <sep> <cls>\n",
            "02/01/2020 01:51:16 - INFO - __main__ -   input_ids: 15228 25 18 128 9 83 9 15592 17 10 1199 2555 86 5982 11 41 163 17 1121 11172 2120 19 33 18 17 26 153 19606 26 20 4 3\n",
            "02/01/2020 01:51:16 - INFO - __main__ -   input_mask: 1 1 1 1 1 1 1 1 1 1 1 1 1 1 1 1 1 1 1 1 1 1 1 1 1 1 1 1 1 1 1 1\n",
            "02/01/2020 01:51:16 - INFO - __main__ -   segment_ids: 0 0 0 0 0 0 0 0 0 0 0 0 0 0 0 0 0 0 0 0 0 0 0 0 0 0 0 0 0 0 0 2\n",
            "02/01/2020 01:51:16 - INFO - __main__ -   label: 0.25146299858006066\n",
            "02/01/2020 01:51:16 - INFO - __main__ -   *** Example ***\n",
            "02/01/2020 01:51:16 - INFO - __main__ -   guid: extra_test-4\n",
            "02/01/2020 01:51:16 - INFO - __main__ -   tokens: ▁Remember , ▁you ▁are ▁paying ▁a ▁premium ▁for ▁organic ▁food ▁because ▁of ▁the ▁absence ▁of ▁synthetic ▁ fer til iser s , ▁chemical ▁spray s , ▁insect icide s ▁and <sep> <cls>\n",
            "02/01/2020 01:51:16 - INFO - __main__ -   input_ids: 7601 19 44 41 3365 24 6706 28 5881 626 149 20 18 5114 20 14126 17 2755 5356 15223 23 19 3456 8606 23 19 17171 19770 23 21 4 3\n",
            "02/01/2020 01:51:16 - INFO - __main__ -   input_mask: 1 1 1 1 1 1 1 1 1 1 1 1 1 1 1 1 1 1 1 1 1 1 1 1 1 1 1 1 1 1 1 1\n",
            "02/01/2020 01:51:16 - INFO - __main__ -   segment_ids: 0 0 0 0 0 0 0 0 0 0 0 0 0 0 0 0 0 0 0 0 0 0 0 0 0 0 0 0 0 0 0 2\n",
            "02/01/2020 01:51:16 - INFO - __main__ -   label: 0.27496440145320805\n",
            "02/01/2020 01:51:16 - INFO - __main__ -   ***** Running evaluation Test set *****\n",
            "02/01/2020 01:51:16 - INFO - __main__ -     Num examples = 258\n",
            "02/01/2020 01:51:16 - INFO - __main__ -     Batch size = 32\n"
          ],
          "name": "stderr"
        },
        {
          "output_type": "display_data",
          "data": {
            "application/vnd.jupyter.widget-view+json": {
              "model_id": "33f3ed994fe843faa57ebf28a4364062",
              "version_minor": 0,
              "version_major": 2
            },
            "text/plain": [
              "HBox(children=(IntProgress(value=0, description='Evaluating', max=9, style=ProgressStyle(description_width='in…"
            ]
          },
          "metadata": {
            "tags": []
          }
        },
        {
          "output_type": "stream",
          "text": [
            "02/01/2020 01:51:17 - INFO - __main__ -   evaluation average loss = 0.37304292619228363\n"
          ],
          "name": "stderr"
        },
        {
          "output_type": "stream",
          "text": [
            "\n"
          ],
          "name": "stdout"
        }
      ]
    },
    {
      "cell_type": "markdown",
      "metadata": {
        "id": "E52YOiwiiQOY",
        "colab_type": "text"
      },
      "source": [
        "# Visualize Trained Model's performance on Test dataset"
      ]
    },
    {
      "cell_type": "markdown",
      "metadata": {
        "id": "JREkHf1ofrgq",
        "colab_type": "text"
      },
      "source": [
        "## Only for Regression"
      ]
    },
    {
      "cell_type": "markdown",
      "metadata": {
        "id": "fuDSDXF7Mons",
        "colab_type": "text"
      },
      "source": [
        "### Code for Pearson correlation calculation"
      ]
    },
    {
      "cell_type": "markdown",
      "metadata": {
        "id": "DFniJC8e-5q_",
        "colab_type": "text"
      },
      "source": [
        "#### With all samples"
      ]
    },
    {
      "cell_type": "code",
      "metadata": {
        "id": "mCJPYA0ucGC7",
        "colab_type": "code",
        "outputId": "bd2d2921-5c45-432d-c022-4af3629a376c",
        "colab": {
          "base_uri": "https://localhost:8080/",
          "height": 295
        }
      },
      "source": [
        "sns.regplot(results['actual'], results['preds'])\n",
        "plt.xlabel(\"Perception uncertainty evaluation target\")\n",
        "plt.ylabel(\"Perception uncertainty predicted by model\")\n",
        "plt.title('Regression plot for model performance')\n",
        "plt.savefig('regplot_NIE_PC_all.pdf')\n",
        "plt.show()"
      ],
      "execution_count": 100,
      "outputs": [
        {
          "output_type": "display_data",
          "data": {
            "image/png": "[encoded data removed]",
            "text/plain": [
              "<Figure size 432x288 with 1 Axes>"
            ]
          },
          "metadata": {
            "tags": []
          }
        }
      ]
    },
    {
      "cell_type": "code",
      "metadata": {
        "id": "rY9PQXj3-zT9",
        "colab_type": "code",
        "colab": {}
      },
      "source": [
        "corr = pearsonr(results['actual'], results['preds'])\n",
        "corr"
      ],
      "execution_count": 0,
      "outputs": []
    },
    {
      "cell_type": "markdown",
      "metadata": {
        "id": "Z85zpuE0-_8U",
        "colab_type": "text"
      },
      "source": [
        "#### With only samples that have Perception Uncertainty > 0"
      ]
    },
    {
      "cell_type": "code",
      "metadata": {
        "id": "jtAnR1epXvfW",
        "colab_type": "code",
        "outputId": "3ca98ea5-2cce-4537-fd31-6c4f57967cee",
        "colab": {
          "base_uri": "https://localhost:8080/",
          "height": 34
        }
      },
      "source": [
        "# Count number of samples with 0 Perception Uncertainty\n",
        "k = 0\n",
        "total = 0\n",
        "j = 0\n",
        "for i in range(len(results['actual'])):\n",
        "    if results['actual'][i] == 0:\n",
        "        k+=1\n",
        "    else:\n",
        "        j+=1\n",
        "    total+=1\n",
        "k, total, j, k/j"
      ],
      "execution_count": 94,
      "outputs": [
        {
          "output_type": "execute_result",
          "data": {
            "text/plain": [
              "(72, 258, 186, 0.3870967741935484)"
            ]
          },
          "metadata": {
            "tags": []
          },
          "execution_count": 94
        }
      ]
    },
    {
      "cell_type": "code",
      "metadata": {
        "id": "i7hZ_6hsweFr",
        "colab_type": "code",
        "colab": {}
      },
      "source": [
        "# Remove 0 Perception Uncertainty samples from evaluation\n",
        "a = []\n",
        "for i in range(len(results['actual'])):\n",
        "    if results['actual'][i] == 0:\n",
        "        a.append(i)\n",
        "\n",
        "b = np.delete(results['actual'], a)\n",
        "c = np.delete(results['preds'], a)"
      ],
      "execution_count": 0,
      "outputs": []
    },
    {
      "cell_type": "code",
      "metadata": {
        "id": "1cMyzx7iUlyR",
        "colab_type": "code",
        "colab": {}
      },
      "source": [
        "sns.regplot(b, c)\n",
        "plt.xlabel(\"Perception uncertainty evaluation target\")\n",
        "plt.ylabel(\"Perception uncertainty predicted by model\")\n",
        "plt.title('Regression plot for model performance')\n",
        "plt.savefig('regplot_NIE_PC_small.pdf')\n",
        "plt.show()"
      ],
      "execution_count": 0,
      "outputs": []
    },
    {
      "cell_type": "code",
      "metadata": {
        "id": "lTFTNhkfU2Fv",
        "colab_type": "code",
        "outputId": "4af58145-d75d-4470-817b-33bb685598fc",
        "colab": {
          "base_uri": "https://localhost:8080/",
          "height": 34
        }
      },
      "source": [
        "corr = pearsonr(b, c)\n",
        "corr"
      ],
      "execution_count": 102,
      "outputs": [
        {
          "output_type": "execute_result",
          "data": {
            "text/plain": [
              "(-0.25347919281246134, 0.00048143463894306695)"
            ]
          },
          "metadata": {
            "tags": []
          },
          "execution_count": 102
        }
      ]
    },
    {
      "cell_type": "markdown",
      "metadata": {
        "id": "90ZcdwArMkGk",
        "colab_type": "text"
      },
      "source": [
        "### Weighted Correlation"
      ]
    },
    {
      "cell_type": "code",
      "metadata": {
        "id": "FXAybVEVMs5Z",
        "colab_type": "code",
        "colab": {}
      },
      "source": [
        "def weighted_cov(x, y, w):\n",
        "    \"\"\"Weighted Covariance\"\"\"\n",
        "    return np.sum(w * (x - np.average(x, weights=w)) * (y - np.average(y, weights=w))) / np.sum(w)\n",
        "\n",
        "def weighted_corr(x, y, w):\n",
        "    \"\"\"Weighted Correlation\"\"\"\n",
        "    return weighted_cov(x, y, w) / np.sqrt(weighted_cov(x, x, w) * weighted_cov(y, y, w))"
      ],
      "execution_count": 0,
      "outputs": []
    },
    {
      "cell_type": "code",
      "metadata": {
        "id": "t2-DtQpZNRm7",
        "colab_type": "code",
        "colab": {}
      },
      "source": [
        "# Load the test file for Annotation counts, to be used as weights in Weighted Correlation\n",
        "df_test = pd.read_csv(os.path.join(args.data_dir, \"test/jointly_annotated_PU_original_NIE.csv\"), sep=\"|\")"
      ],
      "execution_count": 0,
      "outputs": []
    },
    {
      "cell_type": "code",
      "metadata": {
        "id": "LaMaOWzsOAG9",
        "colab_type": "code",
        "outputId": "df73ecc9-6fc5-4368-e648-7f6d4c4ddab8",
        "colab": {
          "base_uri": "https://localhost:8080/",
          "height": 34
        }
      },
      "source": [
        "weighted_corr(results['actual'], results['preds'], df_test['Annotation_Count'].tolist())"
      ],
      "execution_count": 0,
      "outputs": [
        {
          "output_type": "execute_result",
          "data": {
            "text/plain": [
              "-0.10724199970563689"
            ]
          },
          "metadata": {
            "tags": []
          },
          "execution_count": 49
        }
      ]
    },
    {
      "cell_type": "markdown",
      "metadata": {
        "id": "GOBgD8vIf9Nw",
        "colab_type": "text"
      },
      "source": [
        "### Accuracy calculation based on confidence interval"
      ]
    },
    {
      "cell_type": "code",
      "metadata": {
        "id": "YkXmcBRXaLV7",
        "colab_type": "code",
        "colab": {}
      },
      "source": [
        "def calc_test_accuracy(actual, preds, conf_interval):\n",
        "    result = [True if preds[i] >= actual[i] - conf_interval[i] and preds[i] <= actual[i] + conf_interval[i] else False for i in range(len(actual))]\n",
        "    return np.mean(result)"
      ],
      "execution_count": 0,
      "outputs": []
    },
    {
      "cell_type": "code",
      "metadata": {
        "id": "gtA2onQbe1Qa",
        "colab_type": "code",
        "colab": {}
      },
      "source": [
        "# Load the test file for Confidence Interval\n",
        "df_test = pd.read_csv(os.path.join(args.data_dir, \"test/jointly_annotated_PU_NIE_3.csv\"), sep='|')\n",
        "conf_interval = df_test['Confidence_Interval'].tolist()"
      ],
      "execution_count": 0,
      "outputs": []
    },
    {
      "cell_type": "code",
      "metadata": {
        "id": "uQ6kjjsMfiso",
        "colab_type": "code",
        "colab": {}
      },
      "source": [
        "calc_test_accuracy(results['actual'], results['preds'], conf_interval)"
      ],
      "execution_count": 0,
      "outputs": []
    },
    {
      "cell_type": "markdown",
      "metadata": {
        "id": "vlOnIQ8DfxjJ",
        "colab_type": "text"
      },
      "source": [
        "## Only for Classification"
      ]
    },
    {
      "cell_type": "code",
      "metadata": {
        "id": "qErQTQVEJTKg",
        "colab_type": "code",
        "outputId": "4f0b2e4a-1be2-4825-869c-240575f6b25c",
        "colab": {
          "base_uri": "https://localhost:8080/",
          "height": 69
        }
      },
      "source": [
        "for head in headConfig:\n",
        "    print(head,': ',compute_metrics(results[head]['preds'], results[head]['actual']))"
      ],
      "execution_count": 78,
      "outputs": [
        {
          "output_type": "stream",
          "text": [
            "ABSA :  {'acc': {'acc': 0.3279445727482679, 'f1': 0.3279445727482679, 'acc_and_f1': 0.3279445727482679}}\n",
            "Entity :  {'acc': {'acc': 0.8891454965357968, 'f1': 0.8891454965357968, 'acc_and_f1': 0.8891454965357968}}\n",
            "Entity_Fine :  {'acc': {'acc': 0.5519630484988453, 'f1': 0.5519630484988453, 'acc_and_f1': 0.5519630484988453}}\n"
          ],
          "name": "stdout"
        }
      ]
    },
    {
      "cell_type": "code",
      "metadata": {
        "id": "oMXhgsY2ZoFX",
        "colab_type": "code",
        "outputId": "b9d94ea8-5bf7-4d79-a4e8-8e5964596951",
        "colab": {
          "base_uri": "https://localhost:8080/",
          "height": 1000
        }
      },
      "source": [
        "for head in headConfig:\n",
        "    plot_Confusion_matrices(head)"
      ],
      "execution_count": 87,
      "outputs": [
        {
          "output_type": "display_data",
          "data": {
            "image/png": "[encoded data removed]",
            "text/plain": [
              "<Figure size 864x864 with 2 Axes>"
            ]
          },
          "metadata": {
            "tags": []
          }
        },
        {
          "output_type": "display_data",
          "data": {
            "image/png": "[encoded data removed]",
            "text/plain": [
              "<Figure size 864x864 with 2 Axes>"
            ]
          },
          "metadata": {
            "tags": []
          }
        },
        {
          "output_type": "display_data",
          "data": {
            "image/png": "[encoded data removed]",
            "text/plain": [
              "<Figure size 864x864 with 2 Axes>"
            ]
          },
          "metadata": {
            "tags": []
          }
        }
      ]
    },
    {
      "cell_type": "code",
      "metadata": {
        "id": "1O8-7PwjkG0S",
        "colab_type": "code",
        "outputId": "c8040b1e-e2c7-44a1-c6cf-b9c9021f9972",
        "colab": {
          "base_uri": "https://localhost:8080/",
          "height": 86
        }
      },
      "source": [
        "get_cr_reports(shouldSave=True)"
      ],
      "execution_count": 0,
      "outputs": [
        {
          "output_type": "stream",
          "text": [
            "/usr/local/lib/python3.6/dist-packages/sklearn/metrics/classification.py:1437: UndefinedMetricWarning: Precision and F-score are ill-defined and being set to 0.0 in labels with no predicted samples.\n",
            "  'precision', 'predicted', average, warn_for)\n",
            "/usr/local/lib/python3.6/dist-packages/sklearn/metrics/classification.py:1439: UndefinedMetricWarning: Recall and F-score are ill-defined and being set to 0.0 in labels with no true samples.\n",
            "  'recall', 'true', average, warn_for)\n"
          ],
          "name": "stderr"
        }
      ]
    },
    {
      "cell_type": "code",
      "metadata": {
        "id": "sQRnuv6rmL7E",
        "colab_type": "code",
        "colab": {}
      },
      "source": [
        "produce_predictions(results, args.data_dir)"
      ],
      "execution_count": 0,
      "outputs": []
    }
  ]
}