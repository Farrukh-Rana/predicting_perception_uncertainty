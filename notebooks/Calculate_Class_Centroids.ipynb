{
  "nbformat": 4,
  "nbformat_minor": 0,
  "metadata": {
    "colab": {
      "name": "Calculate Class Centroids.ipynb",
      "provenance": [],
      "collapsed_sections": [
        "ZD7pcDhN58Ut",
        "HdubmO0T6BwF"
      ]
    },
    "kernelspec": {
      "name": "python3",
      "display_name": "Python 3"
    }
  },
  "cells": [
    {
      "cell_type": "markdown",
      "metadata": {
        "id": "XRGwpDjI54lv",
        "colab_type": "text"
      },
      "source": [
        "# Mount Google Drive"
      ]
    },
    {
      "cell_type": "code",
      "metadata": {
        "id": "Il9t922mEWZ3",
        "colab_type": "code",
        "outputId": "851af0eb-49f9-4597-c9d5-af2b0475bccc",
        "colab": {
          "base_uri": "https://localhost:8080/",
          "height": 124
        }
      },
      "source": [
        "from google.colab import drive\n",
        "drive.mount('/content/gdrive')"
      ],
      "execution_count": 0,
      "outputs": [
        {
          "output_type": "stream",
          "text": [
            "Go to this URL in a browser: https://accounts.google.com/o/oauth2/auth?client_id=947318989803-6bn6qk8qdgf4n4g3pfee6491hc0brc4i.apps.googleusercontent.com&redirect_uri=urn%3aietf%3awg%3aoauth%3a2.0%3aoob&response_type=code&scope=email%20https%3a%2f%2fwww.googleapis.com%2fauth%2fdocs.test%20https%3a%2f%2fwww.googleapis.com%2fauth%2fdrive%20https%3a%2f%2fwww.googleapis.com%2fauth%2fdrive.photos.readonly%20https%3a%2f%2fwww.googleapis.com%2fauth%2fpeopleapi.readonly\n",
            "\n",
            "Enter your authorization code:\n",
            "··········\n",
            "Mounted at /content/gdrive\n"
          ],
          "name": "stdout"
        }
      ]
    },
    {
      "cell_type": "code",
      "metadata": {
        "id": "VN75NMK6FF5m",
        "colab_type": "code",
        "colab": {}
      },
      "source": [
        "sharedGFolderPath = \"/content/gdrive/My Drive/TUM/Guided Research/\""
      ],
      "execution_count": 0,
      "outputs": []
    },
    {
      "cell_type": "markdown",
      "metadata": {
        "id": "ZD7pcDhN58Ut",
        "colab_type": "text"
      },
      "source": [
        "# Import Libraries"
      ]
    },
    {
      "cell_type": "code",
      "metadata": {
        "id": "93ET64cQLLe6",
        "colab_type": "code",
        "outputId": "8bf42bc1-3fe7-4055-f8bb-2b830d7ae23b",
        "colab": {
          "base_uri": "https://localhost:8080/"
        }
      },
      "source": [
        "!pip install git+https://github.com/Behrouz-Babaki/COP-Kmeans.git --quiet"
      ],
      "execution_count": 0,
      "outputs": [
        {
          "output_type": "stream",
          "text": [
            "  Building wheel for copkmeans (setup.py) ... \u001b[?25l\u001b[?25hdone\n"
          ],
          "name": "stdout"
        }
      ]
    },
    {
      "cell_type": "code",
      "metadata": {
        "id": "L1XAMDQBFOFY",
        "colab_type": "code",
        "outputId": "b99fd39d-0896-47c4-f92a-dc1f7371b1f4",
        "colab": {
          "base_uri": "https://localhost:8080/"
        }
      },
      "source": [
        "import tensorflow as tf\n",
        "import tensorflow_hub as hub\n",
        "\n",
        "import numpy as np\n",
        "import pandas as pd\n",
        "\n",
        "import seaborn as sns\n",
        "import matplotlib.pyplot as plt\n",
        "import random\n",
        "\n",
        "from copkmeans.cop_kmeans import cop_kmeans"
      ],
      "execution_count": 0,
      "outputs": [
        {
          "output_type": "display_data",
          "data": {
            "text/html": [
              "<p style=\"color: red;\">\n",
              "The default version of TensorFlow in Colab will soon switch to TensorFlow 2.x.<br>\n",
              "We recommend you <a href=\"https://www.tensorflow.org/guide/migrate\" target=\"_blank\">upgrade</a> now \n",
              "or ensure your notebook will continue to use TensorFlow 1.x via the <code>%tensorflow_version 1.x</code> magic:\n",
              "<a href=\"https://colab.research.google.com/notebooks/tensorflow_version.ipynb\" target=\"_blank\">more info</a>.</p>\n"
            ],
            "text/plain": [
              "<IPython.core.display.HTML object>"
            ]
          },
          "metadata": {
            "tags": []
          }
        }
      ]
    },
    {
      "cell_type": "markdown",
      "metadata": {
        "id": "i8n4uvIdwZiG",
        "colab_type": "text"
      },
      "source": [
        "# Calculate Embeddings / Weights"
      ]
    },
    {
      "cell_type": "markdown",
      "metadata": {
        "id": "zxqymjReRIRr",
        "colab_type": "text"
      },
      "source": [
        "\n",
        "## Calculate Sentence Embeddings"
      ]
    },
    {
      "cell_type": "code",
      "metadata": {
        "id": "0WO353ocQ55w",
        "colab_type": "code",
        "colab": {}
      },
      "source": [
        "def get_label_embeddings(df, embed):\n",
        "    with tf.Session() as session:\n",
        "        session.run(tf.global_variables_initializer())\n",
        "        session.run(tf.tables_initializer())\n",
        "        input_placeholder = tf.placeholder(tf.string, shape=(None))\n",
        "\n",
        "        sentences = df['Sentence'].tolist()\n",
        "\n",
        "        sentence_encodings = embed(input_placeholder)\n",
        "        sentence_embeddings = session.run(sentence_encodings, feed_dict={input_placeholder: sentences})\n",
        "\n",
        "        session.close()\n",
        "\n",
        "    return sentence_embeddings"
      ],
      "execution_count": 0,
      "outputs": []
    },
    {
      "cell_type": "markdown",
      "metadata": {
        "id": "OSJIA8j5AcAN",
        "colab_type": "text"
      },
      "source": [
        "## Calculate Perception Uncertainty"
      ]
    },
    {
      "cell_type": "code",
      "metadata": {
        "id": "APYIgyHwAl63",
        "colab_type": "code",
        "colab": {}
      },
      "source": [
        "def get_perception_uncertainty_values(input_matrix, col_data):\n",
        "    # Calculate similarity with centroids\n",
        "    similarity_with_centroids = np.inner(input_matrix, centers)\n",
        "\n",
        "    # Weighted Sum of Similarities\n",
        "    class_weights_weighted_similarity = get_class_weights(similarity_with_centroids.shape, col_data, weighted=True)\n",
        "    pu_scores_weighted_similarity = np.sum(similarity_with_centroids * class_weights_weighted_similarity, axis=1)\n",
        "\n",
        "    # Sum of Similarities - Unweighted\n",
        "    class_weights_unweighted_similarity = get_class_weights(similarity_with_centroids.shape, col_data, weighted=False)\n",
        "    pu_scores_unweighted_similarity = np.sum(similarity_with_centroids * class_weights_unweighted_similarity, axis=1)\n",
        "\n",
        "    # Similarity with respective class centroid\n",
        "    col_data_indices = [cluster_ordering.index(col_data[i]) for i in range(len(col_data))]\n",
        "    pu_scores_similarity = similarity_with_centroids[np.arange(len(col_data_indices)), col_data_indices]\n",
        "\n",
        "    return normalize(pu_scores_weighted_similarity), normalize(pu_scores_unweighted_similarity), normalize(pu_scores_similarity)"
      ],
      "execution_count": 0,
      "outputs": []
    },
    {
      "cell_type": "code",
      "metadata": {
        "id": "9FZ4lj0xFtJi",
        "colab_type": "code",
        "colab": {}
      },
      "source": [
        "def normalize(arr):\n",
        "    return (arr - arr.mean()) / arr.std()"
      ],
      "execution_count": 0,
      "outputs": []
    },
    {
      "cell_type": "markdown",
      "metadata": {
        "id": "1oALq4Qmwgk-",
        "colab_type": "text"
      },
      "source": [
        "### Calculate class weights"
      ]
    },
    {
      "cell_type": "code",
      "metadata": {
        "id": "OoDLD076wkSE",
        "colab_type": "code",
        "colab": {}
      },
      "source": [
        "def get_class_weights(weight_shape, col_data, weighted):\n",
        "    class_weights = np.ones(shape=weight_shape)\n",
        "    for i in range(class_weights.shape[0]):\n",
        "        class_weights[i][cluster_ordering.index(col_data[i])] = -1\n",
        "        if weighted:\n",
        "            class_weights[i] *= similarity_matrix_rows[col_data[i]]\n",
        "\n",
        "    return class_weights"
      ],
      "execution_count": 0,
      "outputs": []
    },
    {
      "cell_type": "markdown",
      "metadata": {
        "id": "ooORKpRSt6NX",
        "colab_type": "text"
      },
      "source": [
        "# Store Perception Uncertainty"
      ]
    },
    {
      "cell_type": "code",
      "metadata": {
        "id": "QIDuMd0puATU",
        "colab_type": "code",
        "colab": {}
      },
      "source": [
        "def store_PU_scores(pu_scores_ws, pu_scores_uws, pu_scores, datasetType):\n",
        "    df = pd.read_csv(dataset_path + datasetType + \"/\" + fileName)\n",
        "    df[col_label+'_PU_WS'] = pu_scores_ws\n",
        "    df[col_label+'_PU_uWS'] = pu_scores_uws\n",
        "    df[col_label+'_PU_S'] = pu_scores\n",
        "    df.to_csv(dataset_path + datasetType + \"/\" + fileName, encoding='utf-8',index=False)"
      ],
      "execution_count": 0,
      "outputs": []
    },
    {
      "cell_type": "markdown",
      "metadata": {
        "id": "9B_2OlhbPxdw",
        "colab_type": "text"
      },
      "source": [
        "# COP_KMEANS_FAST"
      ]
    },
    {
      "cell_type": "code",
      "metadata": {
        "id": "Y02Vea8j_drZ",
        "colab_type": "code",
        "colab": {}
      },
      "source": [
        "\"\"\"\n",
        "Code copied from the included library: https://github.com/Behrouz-Babaki/COP-Kmeans\n",
        "The only difference is because of the changes I made, this version runs very fast,\n",
        "since there's no checking for constraint violation which goes into exponential time,\n",
        "and for the amount of constraints that we have, this is not feasible\n",
        "\"\"\"\n",
        "def cop_kmeans_fast(dataset, k, ml=[], cl=[], initialization='kmpp', max_iter=300, tol=1e-4):\n",
        "    ml_info = get_ml_info(ml, dataset)\n",
        "    tol = tolerance(tol, dataset)\n",
        "\n",
        "    centers = initialize_centers(dataset, k, initialization)\n",
        "\n",
        "    for _ in range(max_iter):\n",
        "        clusters_ = [-1] * len(dataset)\n",
        "        for i, d in enumerate(dataset):\n",
        "            indices, _ = closest_clusters(centers, d)\n",
        "            counter = 0\n",
        "            if clusters_[i] == -1:\n",
        "                found_cluster = False\n",
        "                while (not found_cluster) and counter < len(indices):\n",
        "                    index = indices[counter]\n",
        "                    if not violate_constraints(i, index, clusters_, ml, cl):\n",
        "                        found_cluster = True\n",
        "                        clusters_[i] = index\n",
        "                        for j in ml[i]:\n",
        "                            clusters_[j] = index\n",
        "                    counter += 1\n",
        "\n",
        "                if not found_cluster:\n",
        "                    return None, None\n",
        "\n",
        "        clusters_, centers_ = compute_centers(clusters_, dataset, k, ml_info)\n",
        "        shift = sum(l2_distance(centers[i], centers_[i]) for i in range(k))\n",
        "        if shift <= tol:\n",
        "            break\n",
        "\n",
        "        centers = centers_\n",
        "\n",
        "    return clusters_, centers_\n",
        "\n",
        "def l2_distance(point1, point2):\n",
        "    return sum([(float(i)-float(j))**2 for (i, j) in zip(point1, point2)])\n",
        "\n",
        "# taken from scikit-learn (https://goo.gl/1RYPP5)\n",
        "def tolerance(tol, dataset):\n",
        "    n = len(dataset)\n",
        "    dim = len(dataset[0])\n",
        "    averages = [sum(dataset[i][d] for i in range(n))/float(n) for d in range(dim)]\n",
        "    variances = [sum((dataset[i][d]-averages[d])**2 for i in range(n))/float(n) for d in range(dim)]\n",
        "    return tol * sum(variances) / dim\n",
        "\n",
        "def closest_clusters(centers, datapoint):\n",
        "    distances = [l2_distance(center, datapoint) for\n",
        "                 center in centers]\n",
        "    return sorted(range(len(distances)), key=lambda x: distances[x]), distances\n",
        "\n",
        "def initialize_centers(dataset, k, method):\n",
        "    if method == 'random':\n",
        "        ids = list(range(len(dataset)))\n",
        "        random.shuffle(ids)\n",
        "        return [dataset[i] for i in ids[:k]]\n",
        "\n",
        "    elif method == 'kmpp':\n",
        "        chances = [1] * len(dataset)\n",
        "        centers = []\n",
        "\n",
        "        for _ in range(k):\n",
        "            chances = [x/sum(chances) for x in chances]\n",
        "            r = random.random()\n",
        "            acc = 0.0\n",
        "            for index, chance in enumerate(chances):\n",
        "                if acc + chance >= r:\n",
        "                    break\n",
        "                acc += chance\n",
        "            centers.append(dataset[index])\n",
        "\n",
        "            for index, point in enumerate(dataset):\n",
        "                cids, distances = closest_clusters(centers, point)\n",
        "                chances[index] = distances[cids[0]]\n",
        "\n",
        "        return centers\n",
        "\n",
        "def violate_constraints(data_index, cluster_index, clusters, ml, cl):\n",
        "    for i in ml[data_index]:\n",
        "        if clusters[i] != -1 and clusters[i] != cluster_index:\n",
        "            return True\n",
        "\n",
        "    for i in cl[data_index]:\n",
        "        if clusters[i] == cluster_index:\n",
        "            return True\n",
        "\n",
        "    return False\n",
        "\n",
        "def compute_centers(clusters, dataset, k, ml_info):\n",
        "    cluster_ids = set(clusters)\n",
        "    k_new = len(cluster_ids)\n",
        "    id_map = dict(zip(cluster_ids, range(k_new)))\n",
        "    clusters = [id_map[x] for x in clusters]\n",
        "\n",
        "    dim = len(dataset[0])\n",
        "    centers = [[0.0] * dim for i in range(k)]\n",
        "\n",
        "    counts = [0] * k_new\n",
        "    for j, c in enumerate(clusters):\n",
        "        for i in range(dim):\n",
        "            centers[c][i] += dataset[j][i]\n",
        "        counts[c] += 1\n",
        "\n",
        "    for j in range(k_new):\n",
        "        for i in range(dim):\n",
        "            centers[j][i] = centers[j][i]/float(counts[j])\n",
        "\n",
        "    if k_new < k:\n",
        "        ml_groups, ml_scores, ml_centroids = ml_info\n",
        "        current_scores = [sum(l2_distance(centers[clusters[i]], dataset[i])\n",
        "                              for i in group)\n",
        "                          for group in ml_groups]\n",
        "        group_ids = sorted(range(len(ml_groups)),\n",
        "                           key=lambda x: current_scores[x] - ml_scores[x],\n",
        "                           reverse=True)\n",
        "\n",
        "        for j in range(k-k_new):\n",
        "            gid = group_ids[j]\n",
        "            cid = k_new + j\n",
        "            centers[cid] = ml_centroids[gid]\n",
        "            for i in ml_groups[gid]:\n",
        "                clusters[i] = cid\n",
        "\n",
        "    return clusters, centers\n",
        "\n",
        "def get_ml_info(ml, dataset):\n",
        "    flags = [True] * len(dataset)\n",
        "    groups = []\n",
        "    for i in range(len(dataset)):\n",
        "        if not flags[i]: continue\n",
        "        group = list(ml[i] | {i})\n",
        "        groups.append(group)\n",
        "        for j in group:\n",
        "            flags[j] = False\n",
        "\n",
        "    dim = len(dataset[0])\n",
        "    scores = [0.0] * len(groups)\n",
        "    centroids = [[0.0] * dim for i in range(len(groups))]\n",
        "\n",
        "    for j, group in enumerate(groups):\n",
        "        for d in range(dim):\n",
        "            for i in group:\n",
        "                centroids[j][d] += dataset[i][d]\n",
        "            centroids[j][d] /= float(len(group))\n",
        "\n",
        "    scores = [sum(l2_distance(centroids[j], dataset[i])\n",
        "                  for i in groups[j])\n",
        "              for j in range(len(groups))]\n",
        "\n",
        "    return groups, scores, centroids\n"
      ],
      "execution_count": 0,
      "outputs": []
    },
    {
      "cell_type": "markdown",
      "metadata": {
        "id": "t1gXERUZMNe3",
        "colab_type": "text"
      },
      "source": [
        "# Main"
      ]
    },
    {
      "cell_type": "markdown",
      "metadata": {
        "id": "HdubmO0T6BwF",
        "colab_type": "text"
      },
      "source": [
        "## Load Data"
      ]
    },
    {
      "cell_type": "code",
      "metadata": {
        "id": "ZhuE3AyuFfBj",
        "colab_type": "code",
        "colab": {}
      },
      "source": [
        "dataset_path = sharedGFolderPath + 'data/'"
      ],
      "execution_count": 0,
      "outputs": []
    },
    {
      "cell_type": "code",
      "metadata": {
        "id": "B-oW4kylFe6K",
        "colab_type": "code",
        "outputId": "beb1ca8c-35ba-42cf-e122-704a7d1fcec8",
        "colab": {
          "base_uri": "https://localhost:8080/",
          "height": 279
        }
      },
      "source": [
        "fileName = \"dataframePerceptionUncertainty_SingleLabel.csv\"\n",
        "df = pd.read_csv(dataset_path + \"train/\" + fileName)\n",
        "df.head()"
      ],
      "execution_count": 0,
      "outputs": [
        {
          "output_type": "execute_result",
          "data": {
            "text/html": [
              "<div>\n",
              "<style scoped>\n",
              "    .dataframe tbody tr th:only-of-type {\n",
              "        vertical-align: middle;\n",
              "    }\n",
              "\n",
              "    .dataframe tbody tr th {\n",
              "        vertical-align: top;\n",
              "    }\n",
              "\n",
              "    .dataframe thead th {\n",
              "        text-align: right;\n",
              "    }\n",
              "</style>\n",
              "<table border=\"1\" class=\"dataframe\">\n",
              "  <thead>\n",
              "    <tr style=\"text-align: right;\">\n",
              "      <th></th>\n",
              "      <th>Sentence</th>\n",
              "      <th>Triplet</th>\n",
              "      <th>Coarse_Entity</th>\n",
              "      <th>Fine_Entity</th>\n",
              "      <th>Coarse_Attribute</th>\n",
              "      <th>Sentiment</th>\n",
              "      <th>Coarse_Attribute_PU_WS</th>\n",
              "      <th>Coarse_Attribute_PU_uWS</th>\n",
              "      <th>Coarse_Attribute_PU_S</th>\n",
              "    </tr>\n",
              "  </thead>\n",
              "  <tbody>\n",
              "    <tr>\n",
              "      <th>0</th>\n",
              "      <td>Cookifi is one of the leading Organic caterers...</td>\n",
              "      <td>organic-trustworthy sources-0</td>\n",
              "      <td>organic</td>\n",
              "      <td>organic companies</td>\n",
              "      <td>trustworthy sources</td>\n",
              "      <td>0</td>\n",
              "      <td>-1.305144</td>\n",
              "      <td>-1.251783</td>\n",
              "      <td>-1.153170</td>\n",
              "    </tr>\n",
              "    <tr>\n",
              "      <th>1</th>\n",
              "      <td>With over a 100 organic dishes, and customizab...</td>\n",
              "      <td>organic-experienced quality-p</td>\n",
              "      <td>organic</td>\n",
              "      <td>organic companies</td>\n",
              "      <td>experienced quality</td>\n",
              "      <td>p</td>\n",
              "      <td>-0.886723</td>\n",
              "      <td>-0.875631</td>\n",
              "      <td>-0.213775</td>\n",
              "    </tr>\n",
              "    <tr>\n",
              "      <th>2</th>\n",
              "      <td>As of now they have 3 full fledged Organic Men...</td>\n",
              "      <td>organic-trustworthy sources-0</td>\n",
              "      <td>organic</td>\n",
              "      <td>organic companies</td>\n",
              "      <td>trustworthy sources</td>\n",
              "      <td>0</td>\n",
              "      <td>-1.197772</td>\n",
              "      <td>-1.139302</td>\n",
              "      <td>-0.768746</td>\n",
              "    </tr>\n",
              "    <tr>\n",
              "      <th>3</th>\n",
              "      <td>Organic Menus From Cookifi</td>\n",
              "      <td>organic-general-0</td>\n",
              "      <td>organic</td>\n",
              "      <td>organic companies</td>\n",
              "      <td>general</td>\n",
              "      <td>0</td>\n",
              "      <td>-0.855961</td>\n",
              "      <td>-0.907718</td>\n",
              "      <td>-1.153074</td>\n",
              "    </tr>\n",
              "    <tr>\n",
              "      <th>4</th>\n",
              "      <td>Organic egg production is the production of eg...</td>\n",
              "      <td>organic-environment-0</td>\n",
              "      <td>organic</td>\n",
              "      <td>organic farmers</td>\n",
              "      <td>environment</td>\n",
              "      <td>0</td>\n",
              "      <td>0.487700</td>\n",
              "      <td>0.549867</td>\n",
              "      <td>0.424995</td>\n",
              "    </tr>\n",
              "  </tbody>\n",
              "</table>\n",
              "</div>"
            ],
            "text/plain": [
              "                                            Sentence  ... Coarse_Attribute_PU_S\n",
              "0  Cookifi is one of the leading Organic caterers...  ...             -1.153170\n",
              "1  With over a 100 organic dishes, and customizab...  ...             -0.213775\n",
              "2  As of now they have 3 full fledged Organic Men...  ...             -0.768746\n",
              "3                         Organic Menus From Cookifi  ...             -1.153074\n",
              "4  Organic egg production is the production of eg...  ...              0.424995\n",
              "\n",
              "[5 rows x 9 columns]"
            ]
          },
          "metadata": {
            "tags": []
          },
          "execution_count": 12
        }
      ]
    },
    {
      "cell_type": "markdown",
      "metadata": {
        "id": "uW0ZUkKQzqlB",
        "colab_type": "text"
      },
      "source": [
        "## Get Embeddings for Train Data"
      ]
    },
    {
      "cell_type": "code",
      "metadata": {
        "id": "gdjbl1uL3Phk",
        "colab_type": "code",
        "colab": {}
      },
      "source": [
        "all_labels = {'Coarse_Entity': ['organic', 'conventional', 'GMO'], 'Coarse_Attribute': ['general', 'price', 'experienced quality', 'safety and healthiness', 'trustworthy sources', 'environment'],\n",
        "              'Entity_Sentiment': ['organic-0', 'organic-p', 'organic-n', 'conventional-0', 'conventional-p', 'conventional-n', 'GMO-0', 'GMO-p', 'GMO-n'],\n",
        "              'Triplet': [ent+'-'+att+'-'+sent for ent in ['organic', 'conventional', 'GMO'] for att in ['general', 'price', 'experienced quality', 'safety and healthiness', 'trustworthy sources',\n",
        "                                                                                                         'environment'] for sent in ['0', 'p', 'n']],\n",
        "              'Fine_Entity': ['organic general', 'organic products', 'organic farmers', 'organic companies', 'conventional general', 'conventional products', 'conventional farming',\n",
        "                              'conventional companies','GMOs genetic engineering general']}"
      ],
      "execution_count": 0,
      "outputs": []
    },
    {
      "cell_type": "code",
      "metadata": {
        "id": "F7yJpKDjHOpy",
        "colab_type": "code",
        "colab": {}
      },
      "source": [
        "module_url = \"https://tfhub.dev/google/universal-sentence-encoder-large/3\" #@param [\"https://tfhub.dev/google/universal-sentence-encoder/2\", \"https://tfhub.dev/google/universal-sentence-encoder-large/3\"]"
      ],
      "execution_count": 0,
      "outputs": []
    },
    {
      "cell_type": "code",
      "metadata": {
        "id": "ZJGNICXNScEh",
        "colab_type": "code",
        "colab": {}
      },
      "source": [
        "#load universal sentence encoder\n",
        "embed = hub.Module(module_url)"
      ],
      "execution_count": 0,
      "outputs": []
    },
    {
      "cell_type": "code",
      "metadata": {
        "id": "HpwjLuaBmz_d",
        "colab_type": "code",
        "outputId": "81ca174f-dda7-4197-8732-3ade6a0f7f7d",
        "colab": {
          "base_uri": "https://localhost:8080/",
          "height": 50
        }
      },
      "source": [
        "input_matrix = get_label_embeddings(df, embed)"
      ],
      "execution_count": 0,
      "outputs": [
        {
          "output_type": "stream",
          "text": [
            "INFO:tensorflow:Saver not created because there are no variables in the graph to restore\n"
          ],
          "name": "stdout"
        },
        {
          "output_type": "stream",
          "text": [
            "INFO:tensorflow:Saver not created because there are no variables in the graph to restore\n"
          ],
          "name": "stderr"
        }
      ]
    },
    {
      "cell_type": "markdown",
      "metadata": {
        "id": "Th-f1s7Qz1JD",
        "colab_type": "text"
      },
      "source": [
        "## Calculate cluster centroids using PC-K-Means"
      ]
    },
    {
      "cell_type": "code",
      "metadata": {
        "id": "D42iy1VUtZJZ",
        "colab_type": "code",
        "colab": {}
      },
      "source": [
        "col_label = 'Coarse_Attribute'\n",
        "col_data = df[col_label].tolist()\n",
        "col_label_categories = all_labels[col_label]"
      ],
      "execution_count": 0,
      "outputs": []
    },
    {
      "cell_type": "code",
      "metadata": {
        "id": "XTSn761rGoPZ",
        "colab_type": "code",
        "colab": {}
      },
      "source": [
        "must_link = {i: set() for i in range(len(col_data))}\n",
        "cannot_link = {i: set() for i in range(len(col_data))}\n",
        "\n",
        "for i,label1 in enumerate(col_data):\n",
        "    for j,label2 in enumerate(col_data):\n",
        "        if i!=j:\n",
        "            if label1==label2:\n",
        "                must_link[i].add(j)\n",
        "            else:\n",
        "                cannot_link[i].add(j)"
      ],
      "execution_count": 0,
      "outputs": []
    },
    {
      "cell_type": "code",
      "metadata": {
        "id": "vKckxKZ8MOwN",
        "colab_type": "code",
        "colab": {}
      },
      "source": [
        "clusters, centers = cop_kmeans_fast(dataset=input_matrix, k=len(col_label_categories), ml=must_link,cl=cannot_link,initialization='random')"
      ],
      "execution_count": 0,
      "outputs": []
    },
    {
      "cell_type": "code",
      "metadata": {
        "id": "dDzH6aRmMe1j",
        "colab_type": "code",
        "colab": {}
      },
      "source": [
        "uniqueValues, occurCount = np.unique(clusters, return_counts=True)"
      ],
      "execution_count": 0,
      "outputs": []
    },
    {
      "cell_type": "code",
      "metadata": {
        "id": "reQvuiYzMzqM",
        "colab_type": "code",
        "outputId": "8272790b-10b0-47f2-f9ca-62d489265c3f",
        "colab": {
          "base_uri": "https://localhost:8080/",
          "height": 282
        }
      },
      "source": [
        "sns.barplot(uniqueValues, occurCount)"
      ],
      "execution_count": 0,
      "outputs": [
        {
          "output_type": "execute_result",
          "data": {
            "text/plain": [
              "<matplotlib.axes._subplots.AxesSubplot at 0x7f4fa50e4a20>"
            ]
          },
          "metadata": {
            "tags": []
          },
          "execution_count": 21
        },
        {
          "output_type": "display_data",
          "data": {
            "image/png": "[encoded data removed]",
            "text/plain": [
              "<Figure size 432x288 with 1 Axes>"
            ]
          },
          "metadata": {
            "tags": []
          }
        }
      ]
    },
    {
      "cell_type": "markdown",
      "metadata": {
        "id": "j-I-coyjz_8-",
        "colab_type": "text"
      },
      "source": [
        "## Determine cluster mapping for centroids\n",
        "\n",
        "\n",
        "---\n",
        "Since we have the controids but not direct mapping to classes, we get that mapping implicitly from the size of clusters.\n"
      ]
    },
    {
      "cell_type": "code",
      "metadata": {
        "id": "nnKO3pqdNgWk",
        "colab_type": "code",
        "colab": {}
      },
      "source": [
        "label_count_dict = df[col_label].value_counts().to_dict()\n",
        "occurCount = list(occurCount)"
      ],
      "execution_count": 0,
      "outputs": []
    },
    {
      "cell_type": "code",
      "metadata": {
        "id": "jFSCHjfgYKw1",
        "colab_type": "code",
        "colab": {}
      },
      "source": [
        "cluster_mapping = {occurCount.index(label_count_dict[key]): key for key in label_count_dict}\n",
        "cluster_ordering = [cluster_mapping[key] for key in sorted(cluster_mapping.keys())]"
      ],
      "execution_count": 0,
      "outputs": []
    },
    {
      "cell_type": "markdown",
      "metadata": {
        "id": "od65v9hn0QKq",
        "colab_type": "text"
      },
      "source": [
        "## Load similarity matrix, ordered by cluster mapping"
      ]
    },
    {
      "cell_type": "code",
      "metadata": {
        "id": "3Zc_uuNXTp9F",
        "colab_type": "code",
        "colab": {}
      },
      "source": [
        "similarity_matrix = pd.read_csv(dataset_path + \"similarity_matrices/\"+col_label+\"_Similarity_Scores.csv\", index_col=0)\n",
        "similarity_matrix_rows = {label: similarity_matrix.loc[label, cluster_ordering].values for label in col_label_categories}"
      ],
      "execution_count": 0,
      "outputs": []
    },
    {
      "cell_type": "markdown",
      "metadata": {
        "id": "EsW3Oond0aiA",
        "colab_type": "text"
      },
      "source": [
        "## Get All Perception Uncertainties"
      ]
    },
    {
      "cell_type": "code",
      "metadata": {
        "id": "oNHZYiZeecyY",
        "colab_type": "code",
        "colab": {}
      },
      "source": [
        "pu_scores_weighted_similarity, pu_scores_unweighted_similarity, pu_scores_similarity = get_perception_uncertainty_values(input_matrix, col_data)\n",
        "store_PU_scores(pu_scores_weighted_similarity, pu_scores_unweighted_similarity, pu_scores_similarity, 'train')"
      ],
      "execution_count": 0,
      "outputs": []
    },
    {
      "cell_type": "code",
      "metadata": {
        "id": "akeZXRhBtWBn",
        "colab_type": "code",
        "outputId": "7994f2ea-f3e3-40bf-d47c-4c835fd15406",
        "colab": {
          "base_uri": "https://localhost:8080/",
          "height": 282
        }
      },
      "source": [
        "sns.distplot(pu_scores_weighted_similarity)"
      ],
      "execution_count": 0,
      "outputs": [
        {
          "output_type": "execute_result",
          "data": {
            "text/plain": [
              "<matplotlib.axes._subplots.AxesSubplot at 0x7f4f7fb3deb8>"
            ]
          },
          "metadata": {
            "tags": []
          },
          "execution_count": 46
        },
        {
          "output_type": "display_data",
          "data": {
            "image/png": "[encoded data removed]",
            "text/plain": [
              "<Figure size 432x288 with 1 Axes>"
            ]
          },
          "metadata": {
            "tags": []
          }
        }
      ]
    },
    {
      "cell_type": "markdown",
      "metadata": {
        "id": "D4kvIWEdvDLe",
        "colab_type": "text"
      },
      "source": [
        "## Calculate Perception uncertainty for Validation / Test set"
      ]
    },
    {
      "cell_type": "code",
      "metadata": {
        "id": "QB2AQC2IvFiA",
        "colab_type": "code",
        "outputId": "4bf27aa5-f6bb-481a-cfa8-b0ae2c0372db",
        "colab": {
          "base_uri": "https://localhost:8080/",
          "height": 84
        }
      },
      "source": [
        "df_val = pd.read_csv(dataset_path + \"validation/\" + fileName)\n",
        "df_test = pd.read_csv(dataset_path + \"test/\" + fileName)\n",
        "\n",
        "val_embed = get_label_embeddings(df_val, embed)\n",
        "test_embed = get_label_embeddings(df_test, embed)"
      ],
      "execution_count": 0,
      "outputs": [
        {
          "output_type": "stream",
          "text": [
            "INFO:tensorflow:Saver not created because there are no variables in the graph to restore\n"
          ],
          "name": "stdout"
        },
        {
          "output_type": "stream",
          "text": [
            "INFO:tensorflow:Saver not created because there are no variables in the graph to restore\n"
          ],
          "name": "stderr"
        },
        {
          "output_type": "stream",
          "text": [
            "INFO:tensorflow:Saver not created because there are no variables in the graph to restore\n"
          ],
          "name": "stdout"
        },
        {
          "output_type": "stream",
          "text": [
            "INFO:tensorflow:Saver not created because there are no variables in the graph to restore\n"
          ],
          "name": "stderr"
        }
      ]
    },
    {
      "cell_type": "code",
      "metadata": {
        "id": "6iSixVymH1O7",
        "colab_type": "code",
        "colab": {}
      },
      "source": [
        "pu_scores_weighted_similarity, pu_scores_unweighted_similarity, pu_scores_similarity = get_perception_uncertainty_values(val_embed, df_val[col_label].tolist())\n",
        "store_PU_scores(pu_scores_weighted_similarity, pu_scores_unweighted_similarity, pu_scores_similarity, 'validation')"
      ],
      "execution_count": 0,
      "outputs": []
    },
    {
      "cell_type": "code",
      "metadata": {
        "id": "VrBh5vSsIFfn",
        "colab_type": "code",
        "colab": {}
      },
      "source": [
        "pu_scores_weighted_similarity, pu_scores_unweighted_similarity, pu_scores_similarity = get_perception_uncertainty_values(test_embed, df_test[col_label].tolist())\n",
        "store_PU_scores(pu_scores_weighted_similarity, pu_scores_unweighted_similarity, pu_scores_similarity, 'test')"
      ],
      "execution_count": 0,
      "outputs": []
    },
    {
      "cell_type": "markdown",
      "metadata": {
        "id": "TrCeJwM3k8Jy",
        "colab_type": "text"
      },
      "source": [
        "## Use MinMaxScaler to scale values between 0 and 1 (If Needed)"
      ]
    },
    {
      "cell_type": "code",
      "metadata": {
        "id": "nUoM1_sojbDR",
        "colab_type": "code",
        "colab": {}
      },
      "source": [
        "import seaborn as sns\n",
        "import numpy as np\n",
        "from sklearn.preprocessing import MinMaxScaler, StandardScaler\n",
        "import matplotlib.pyplot as plt"
      ],
      "execution_count": 0,
      "outputs": []
    },
    {
      "cell_type": "code",
      "metadata": {
        "id": "XziX5C3kI_jO",
        "colab_type": "code",
        "colab": {}
      },
      "source": [
        "import pandas as pd\n",
        "dataset_path = sharedGFolderPath + 'data/'\n",
        "fileName = \"dataframePerceptionUncertainty_SingleLabel.csv\""
      ],
      "execution_count": 0,
      "outputs": []
    },
    {
      "cell_type": "code",
      "metadata": {
        "id": "OCuhgRvtiimJ",
        "colab_type": "code",
        "colab": {}
      },
      "source": [
        "datasetType = \"train\"\n",
        "df = pd.read_csv(dataset_path + datasetType + \"/\" + fileName)"
      ],
      "execution_count": 0,
      "outputs": []
    },
    {
      "cell_type": "code",
      "metadata": {
        "id": "53_T_jcAjl-U",
        "colab_type": "code",
        "colab": {}
      },
      "source": [
        "scaler = MinMaxScaler()\n",
        "df['Coarse_Attribute_PU_S_Scaled'] = scaler.fit_transform(df['Coarse_Attribute_PU_S'].values.reshape(-1,1))"
      ],
      "execution_count": 0,
      "outputs": []
    },
    {
      "cell_type": "code",
      "metadata": {
        "id": "2z-3OB4xl7q0",
        "colab_type": "code",
        "outputId": "c93f1c5e-af6a-40fc-c2c0-73c37440704c",
        "colab": {
          "base_uri": "https://localhost:8080/",
          "height": 295
        }
      },
      "source": [
        "sns.distplot(df['Coarse_Attribute_PU_S'])\n",
        "plt.xlabel('Normalized semantic similarity values')\n",
        "plt.title('Distribution for PU_S')\n",
        "plt.savefig('PU_S_dist.pdf')\n",
        "plt.show()"
      ],
      "execution_count": 0,
      "outputs": [
        {
          "output_type": "display_data",
          "data": {
            "image/png": "[encoded data removed]",
            "text/plain": [
              "<Figure size 432x288 with 1 Axes>"
            ]
          },
          "metadata": {
            "tags": []
          }
        }
      ]
    },
    {
      "cell_type": "code",
      "metadata": {
        "id": "pKYqE4GPh4K9",
        "colab_type": "code",
        "colab": {}
      },
      "source": [
        "df.to_csv(dataset_path + datasetType + \"/\" + fileName, encoding='utf-8',index=False)"
      ],
      "execution_count": 0,
      "outputs": []
    }
  ]
}