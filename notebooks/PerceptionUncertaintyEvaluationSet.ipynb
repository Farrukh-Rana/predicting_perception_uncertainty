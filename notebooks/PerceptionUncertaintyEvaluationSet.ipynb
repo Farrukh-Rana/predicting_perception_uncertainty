{
 "cells": [
  {
   "cell_type": "markdown",
   "metadata": {},
   "source": [
    "# Calculation of perception uncertainty ground truth"
   ]
  },
  {
   "cell_type": "code",
   "execution_count": 1,
   "metadata": {},
   "outputs": [],
   "source": [
    "import pandas as pd\n",
    "import numpy as np\n",
    "from scipy import stats\n",
    "from collections import Counter\n",
    "\n",
    "import matplotlib.pyplot as plt\n",
    "import operator"
   ]
  },
  {
   "cell_type": "markdown",
   "metadata": {},
   "source": [
    "## Preprocess original file to remove quotations"
   ]
  },
  {
   "cell_type": "code",
   "execution_count": 17,
   "metadata": {},
   "outputs": [],
   "source": [
    "filePath = './data/jointly_annotated.csv'\n",
    "df = pd.read_csv(filePath, sep='|', quotechar=\"'\")"
   ]
  },
  {
   "cell_type": "code",
   "execution_count": 18,
   "metadata": {},
   "outputs": [
    {
     "data": {
      "text/html": [
       "<div>\n",
       "<style scoped>\n",
       "    .dataframe tbody tr th:only-of-type {\n",
       "        vertical-align: middle;\n",
       "    }\n",
       "\n",
       "    .dataframe tbody tr th {\n",
       "        vertical-align: top;\n",
       "    }\n",
       "\n",
       "    .dataframe thead th {\n",
       "        text-align: right;\n",
       "    }\n",
       "</style>\n",
       "<table border=\"1\" class=\"dataframe\">\n",
       "  <thead>\n",
       "    <tr style=\"text-align: right;\">\n",
       "      <th></th>\n",
       "      <th>Author_ID</th>\n",
       "      <th>Author_name</th>\n",
       "      <th>Comment_number</th>\n",
       "      <th>Sentence_number</th>\n",
       "      <th>Domain_Relevance</th>\n",
       "      <th>Sentiment</th>\n",
       "      <th>Entity</th>\n",
       "      <th>Attribute</th>\n",
       "      <th>Sentence</th>\n",
       "      <th>Source_file</th>\n",
       "      <th>Annotator</th>\n",
       "    </tr>\n",
       "  </thead>\n",
       "  <tbody>\n",
       "    <tr>\n",
       "      <th>3722</th>\n",
       "      <td>Joshua-Engel</td>\n",
       "      <td>Joshua Engel</td>\n",
       "      <td>507</td>\n",
       "      <td>1</td>\n",
       "      <td>0</td>\n",
       "      <td>NaN</td>\n",
       "      <td>NaN</td>\n",
       "      <td>NaN</td>\n",
       "      <td>Yeah, it's definitely complicated.</td>\n",
       "      <td>quora.json</td>\n",
       "      <td>hannah</td>\n",
       "    </tr>\n",
       "    <tr>\n",
       "      <th>3723</th>\n",
       "      <td>Joshua-Engel</td>\n",
       "      <td>Joshua Engel</td>\n",
       "      <td>507</td>\n",
       "      <td>2</td>\n",
       "      <td>0</td>\n",
       "      <td>NaN</td>\n",
       "      <td>NaN</td>\n",
       "      <td>NaN</td>\n",
       "      <td>I'm not a big fan of the monocultures for exac...</td>\n",
       "      <td>quora.json</td>\n",
       "      <td>hannah</td>\n",
       "    </tr>\n",
       "    <tr>\n",
       "      <th>3724</th>\n",
       "      <td>\"Joshua-Engel</td>\n",
       "      <td>Joshua Engel</td>\n",
       "      <td>507</td>\n",
       "      <td>3</td>\n",
       "      <td>9</td>\n",
       "      <td>n</td>\n",
       "      <td>f</td>\n",
       "      <td>g</td>\n",
       "      <td>\"\"Commercial \"\"\"\"organic\"\"\"\" is deeply problem...</td>\n",
       "      <td>quora.json</td>\n",
       "      <td>hannah\"</td>\n",
       "    </tr>\n",
       "    <tr>\n",
       "      <th>3725</th>\n",
       "      <td>\"Joshua-Engel</td>\n",
       "      <td>Joshua Engel</td>\n",
       "      <td>507</td>\n",
       "      <td>3</td>\n",
       "      <td>9</td>\n",
       "      <td>p</td>\n",
       "      <td>f</td>\n",
       "      <td>g</td>\n",
       "      <td>\"\"Commercial \"\"\"\"organic\"\"\"\" is deeply problem...</td>\n",
       "      <td>quora.json</td>\n",
       "      <td>hannah\"</td>\n",
       "    </tr>\n",
       "    <tr>\n",
       "      <th>3726</th>\n",
       "      <td>Jack-Willis-9</td>\n",
       "      <td>Jack Willis</td>\n",
       "      <td>510</td>\n",
       "      <td>1</td>\n",
       "      <td>9</td>\n",
       "      <td>0</td>\n",
       "      <td>p</td>\n",
       "      <td>p</td>\n",
       "      <td>If there is a considerable decrease in input c...</td>\n",
       "      <td>quora.json</td>\n",
       "      <td>hannah</td>\n",
       "    </tr>\n",
       "  </tbody>\n",
       "</table>\n",
       "</div>"
      ],
      "text/plain": [
       "          Author_ID   Author_name  Comment_number  Sentence_number  \\\n",
       "3722   Joshua-Engel  Joshua Engel             507                1   \n",
       "3723   Joshua-Engel  Joshua Engel             507                2   \n",
       "3724  \"Joshua-Engel  Joshua Engel             507                3   \n",
       "3725  \"Joshua-Engel  Joshua Engel             507                3   \n",
       "3726  Jack-Willis-9   Jack Willis             510                1   \n",
       "\n",
       "      Domain_Relevance Sentiment Entity Attribute  \\\n",
       "3722                 0       NaN    NaN       NaN   \n",
       "3723                 0       NaN    NaN       NaN   \n",
       "3724                 9         n      f         g   \n",
       "3725                 9         p      f         g   \n",
       "3726                 9         0      p         p   \n",
       "\n",
       "                                               Sentence Source_file Annotator  \n",
       "3722                 Yeah, it's definitely complicated.  quora.json    hannah  \n",
       "3723  I'm not a big fan of the monocultures for exac...  quora.json    hannah  \n",
       "3724  \"\"Commercial \"\"\"\"organic\"\"\"\" is deeply problem...  quora.json   hannah\"  \n",
       "3725  \"\"Commercial \"\"\"\"organic\"\"\"\" is deeply problem...  quora.json   hannah\"  \n",
       "3726  If there is a considerable decrease in input c...  quora.json    hannah  "
      ]
     },
     "execution_count": 18,
     "metadata": {},
     "output_type": "execute_result"
    }
   ],
   "source": [
    "df.tail()"
   ]
  },
  {
   "cell_type": "code",
   "execution_count": 20,
   "metadata": {},
   "outputs": [
    {
     "data": {
      "text/plain": [
       "hannah        431\n",
       "kamal         356\n",
       "abhilasha     356\n",
       "sebastian     335\n",
       "sumit         325\n",
       "sarthak       323\n",
       "felix         318\n",
       "omar          318\n",
       "fahad         305\n",
       "florian       299\n",
       "hannah\"        51\n",
       "sebastian\"     42\n",
       "kamal\"         42\n",
       "felix\"         42\n",
       "sumit\"         42\n",
       "omar\"          37\n",
       "fahad\"         35\n",
       "florian\"       34\n",
       "abhilasha\"     26\n",
       "sarthak\"       10\n",
       "Name: Annotator, dtype: int64"
      ]
     },
     "execution_count": 20,
     "metadata": {},
     "output_type": "execute_result"
    }
   ],
   "source": [
    "df.Annotator.value_counts()"
   ]
  },
  {
   "cell_type": "code",
   "execution_count": 21,
   "metadata": {},
   "outputs": [],
   "source": [
    "df['Annotator'] = df['Annotator'].apply(lambda x: x.replace('\"', ''))"
   ]
  },
  {
   "cell_type": "code",
   "execution_count": 23,
   "metadata": {},
   "outputs": [
    {
     "data": {
      "text/plain": [
       "hannah       482\n",
       "kamal        398\n",
       "abhilasha    382\n",
       "sebastian    377\n",
       "sumit        367\n",
       "felix        360\n",
       "omar         355\n",
       "fahad        340\n",
       "sarthak      333\n",
       "florian      333\n",
       "Name: Annotator, dtype: int64"
      ]
     },
     "execution_count": 23,
     "metadata": {},
     "output_type": "execute_result"
    }
   ],
   "source": [
    "df.Annotator.value_counts()"
   ]
  },
  {
   "cell_type": "code",
   "execution_count": 24,
   "metadata": {},
   "outputs": [
    {
     "data": {
      "text/plain": [
       "Rahul-Shankar            486\n",
       "Joshua-Engel             366\n",
       "John-DuRette             224\n",
       "Jamie-Lynn-Morgan        215\n",
       "Bryceton-Bible           185\n",
       "Patrick-Daly-34          184\n",
       "Jim-Seidman              173\n",
       "Ravi-Nagori-1            166\n",
       "Matan-Shelomi            132\n",
       "Prasanna-Kumar-T-S-M     128\n",
       "Rochelle-Foster          128\n",
       "Josephine-Gibbs          125\n",
       "Eric-Guicherit           111\n",
       "\"Joshua-Engel            108\n",
       "Matthew-Petrucci          93\n",
       "Michael-Graham-4          81\n",
       "Andrew-Brodsky-1          78\n",
       "Jim-Gordon                68\n",
       "Merredith-Branscombe      63\n",
       "Mark-Horn                 61\n",
       "John-Jeffrey-Mardlin      55\n",
       "Mark-Keating              45\n",
       "\"Dallas-Herrmann          45\n",
       "Scott-Strough             43\n",
       "Nate-Berg-1               39\n",
       "\"Rahul-Shankar            36\n",
       "Stephen-R-Morse           33\n",
       "Dallas-Herrmann           32\n",
       "\"Jim-Seidman              32\n",
       "Mikka-Luster              30\n",
       "\"Michael-Graham-4         20\n",
       "\"John-DuRette             19\n",
       "\"Matan-Shelomi            19\n",
       "Danise-Codekas            12\n",
       "\"Katy-Cavallero           11\n",
       "Jack-Willis-9             10\n",
       "\"Andrew-Brodsky-1         10\n",
       "\"Mark-Keating              9\n",
       "\"Mark-Horn                 9\n",
       "\"Chris-Loughnane           9\n",
       "\"Merredith-Branscombe      9\n",
       "\"Bryceton-Bible            9\n",
       "\"Jamie-Lynn-Morgan         8\n",
       "\"Ravi-Nagori-1             8\n",
       "Name: Author_ID, dtype: int64"
      ]
     },
     "execution_count": 24,
     "metadata": {},
     "output_type": "execute_result"
    }
   ],
   "source": [
    "df.Author_ID.value_counts()"
   ]
  },
  {
   "cell_type": "code",
   "execution_count": 25,
   "metadata": {},
   "outputs": [],
   "source": [
    "df['Author_ID'] = df['Author_ID'].apply(lambda x: x.replace('\"', ''))"
   ]
  },
  {
   "cell_type": "code",
   "execution_count": 26,
   "metadata": {},
   "outputs": [
    {
     "data": {
      "text/plain": [
       "Rahul-Shankar           522\n",
       "Joshua-Engel            474\n",
       "John-DuRette            243\n",
       "Jamie-Lynn-Morgan       223\n",
       "Jim-Seidman             205\n",
       "Bryceton-Bible          194\n",
       "Patrick-Daly-34         184\n",
       "Ravi-Nagori-1           174\n",
       "Matan-Shelomi           151\n",
       "Prasanna-Kumar-T-S-M    128\n",
       "Rochelle-Foster         128\n",
       "Josephine-Gibbs         125\n",
       "Eric-Guicherit          111\n",
       "Michael-Graham-4        101\n",
       "Matthew-Petrucci         93\n",
       "Andrew-Brodsky-1         88\n",
       "Dallas-Herrmann          77\n",
       "Merredith-Branscombe     72\n",
       "Mark-Horn                70\n",
       "Jim-Gordon               68\n",
       "John-Jeffrey-Mardlin     55\n",
       "Mark-Keating             54\n",
       "Scott-Strough            43\n",
       "Nate-Berg-1              39\n",
       "Stephen-R-Morse          33\n",
       "Mikka-Luster             30\n",
       "Danise-Codekas           12\n",
       "Katy-Cavallero           11\n",
       "Jack-Willis-9            10\n",
       "Chris-Loughnane           9\n",
       "Name: Author_ID, dtype: int64"
      ]
     },
     "execution_count": 26,
     "metadata": {},
     "output_type": "execute_result"
    }
   ],
   "source": [
    "df.Author_ID.value_counts()"
   ]
  },
  {
   "cell_type": "code",
   "execution_count": 27,
   "metadata": {},
   "outputs": [],
   "source": [
    "filePath = './data/jointly_annotated_processed.csv'\n",
    "df.to_csv(filePath, sep='|', encoding='utf-8',index=False)"
   ]
  },
  {
   "cell_type": "markdown",
   "metadata": {},
   "source": [
    "## Load the preprocessed file"
   ]
  },
  {
   "cell_type": "code",
   "execution_count": 2,
   "metadata": {},
   "outputs": [],
   "source": [
    "def plot_annotation_count(df):\n",
    "    annotation_counts = df.groupby(['Comment_number','Sentence_number'])['Author_ID'].agg('count').value_counts()\n",
    "    plt.bar(annotation_counts.keys(), annotation_counts.values)\n",
    "    plt.xlabel('Number of annotations per sample')\n",
    "    plt.ylabel('Samples with X many annotations per sample')\n",
    "    plt.title('Per sample annotation counts')\n",
    "    plt.show()"
   ]
  },
  {
   "cell_type": "code",
   "execution_count": 3,
   "metadata": {},
   "outputs": [],
   "source": [
    "filePath = './data/jointly_annotated_processed.csv'\n",
    "df = pd.read_csv(filePath, sep='|')"
   ]
  },
  {
   "cell_type": "code",
   "execution_count": 4,
   "metadata": {
    "scrolled": true
   },
   "outputs": [
    {
     "data": {
      "text/html": [
       "<div>\n",
       "<style scoped>\n",
       "    .dataframe tbody tr th:only-of-type {\n",
       "        vertical-align: middle;\n",
       "    }\n",
       "\n",
       "    .dataframe tbody tr th {\n",
       "        vertical-align: top;\n",
       "    }\n",
       "\n",
       "    .dataframe thead th {\n",
       "        text-align: right;\n",
       "    }\n",
       "</style>\n",
       "<table border=\"1\" class=\"dataframe\">\n",
       "  <thead>\n",
       "    <tr style=\"text-align: right;\">\n",
       "      <th></th>\n",
       "      <th>Author_ID</th>\n",
       "      <th>Author_name</th>\n",
       "      <th>Comment_number</th>\n",
       "      <th>Sentence_number</th>\n",
       "      <th>Domain_Relevance</th>\n",
       "      <th>Sentiment</th>\n",
       "      <th>Entity</th>\n",
       "      <th>Attribute</th>\n",
       "      <th>Sentence</th>\n",
       "      <th>Source_file</th>\n",
       "      <th>Annotator</th>\n",
       "    </tr>\n",
       "  </thead>\n",
       "  <tbody>\n",
       "    <tr>\n",
       "      <th>0</th>\n",
       "      <td>Matthew-Petrucci</td>\n",
       "      <td>Matthew Petrucci</td>\n",
       "      <td>414</td>\n",
       "      <td>9</td>\n",
       "      <td>9</td>\n",
       "      <td>0</td>\n",
       "      <td>f</td>\n",
       "      <td>h</td>\n",
       "      <td>Consider that there are myriad varieties of na...</td>\n",
       "      <td>quora.json</td>\n",
       "      <td>fahad</td>\n",
       "    </tr>\n",
       "    <tr>\n",
       "      <th>1</th>\n",
       "      <td>Matthew-Petrucci</td>\n",
       "      <td>Matthew Petrucci</td>\n",
       "      <td>414</td>\n",
       "      <td>10</td>\n",
       "      <td>9</td>\n",
       "      <td>0</td>\n",
       "      <td>cf</td>\n",
       "      <td>c</td>\n",
       "      <td>Most supermarket/greengrocer tomatoes are grow...</td>\n",
       "      <td>quora.json</td>\n",
       "      <td>fahad</td>\n",
       "    </tr>\n",
       "    <tr>\n",
       "      <th>2</th>\n",
       "      <td>Matthew-Petrucci</td>\n",
       "      <td>Matthew Petrucci</td>\n",
       "      <td>414</td>\n",
       "      <td>11</td>\n",
       "      <td>0</td>\n",
       "      <td>NaN</td>\n",
       "      <td>NaN</td>\n",
       "      <td>NaN</td>\n",
       "      <td>These facilities are regularly sprayed and con...</td>\n",
       "      <td>quora.json</td>\n",
       "      <td>fahad</td>\n",
       "    </tr>\n",
       "    <tr>\n",
       "      <th>3</th>\n",
       "      <td>Matthew-Petrucci</td>\n",
       "      <td>Matthew Petrucci</td>\n",
       "      <td>414</td>\n",
       "      <td>12</td>\n",
       "      <td>9</td>\n",
       "      <td>0</td>\n",
       "      <td>cp</td>\n",
       "      <td>h</td>\n",
       "      <td>Especially in the U.S. tomatoes (among other f...</td>\n",
       "      <td>quora.json</td>\n",
       "      <td>fahad</td>\n",
       "    </tr>\n",
       "    <tr>\n",
       "      <th>4</th>\n",
       "      <td>Matthew-Petrucci</td>\n",
       "      <td>Matthew Petrucci</td>\n",
       "      <td>414</td>\n",
       "      <td>13</td>\n",
       "      <td>9</td>\n",
       "      <td>0</td>\n",
       "      <td>p</td>\n",
       "      <td>h</td>\n",
       "      <td>Remember, you are paying a premium for organic...</td>\n",
       "      <td>quora.json</td>\n",
       "      <td>fahad</td>\n",
       "    </tr>\n",
       "  </tbody>\n",
       "</table>\n",
       "</div>"
      ],
      "text/plain": [
       "          Author_ID       Author_name  Comment_number  Sentence_number  \\\n",
       "0  Matthew-Petrucci  Matthew Petrucci             414                9   \n",
       "1  Matthew-Petrucci  Matthew Petrucci             414               10   \n",
       "2  Matthew-Petrucci  Matthew Petrucci             414               11   \n",
       "3  Matthew-Petrucci  Matthew Petrucci             414               12   \n",
       "4  Matthew-Petrucci  Matthew Petrucci             414               13   \n",
       "\n",
       "   Domain_Relevance Sentiment Entity Attribute  \\\n",
       "0                 9         0      f         h   \n",
       "1                 9         0     cf         c   \n",
       "2                 0       NaN    NaN       NaN   \n",
       "3                 9         0     cp         h   \n",
       "4                 9         0      p         h   \n",
       "\n",
       "                                            Sentence Source_file Annotator  \n",
       "0  Consider that there are myriad varieties of na...  quora.json     fahad  \n",
       "1  Most supermarket/greengrocer tomatoes are grow...  quora.json     fahad  \n",
       "2  These facilities are regularly sprayed and con...  quora.json     fahad  \n",
       "3  Especially in the U.S. tomatoes (among other f...  quora.json     fahad  \n",
       "4  Remember, you are paying a premium for organic...  quora.json     fahad  "
      ]
     },
     "execution_count": 4,
     "metadata": {},
     "output_type": "execute_result"
    }
   ],
   "source": [
    "df.head()"
   ]
  },
  {
   "cell_type": "code",
   "execution_count": 5,
   "metadata": {},
   "outputs": [
    {
     "data": {
      "image/png": "[encoded data removed]",
      "text/plain": [
       "<Figure size 432x288 with 1 Axes>"
      ]
     },
     "metadata": {
      "needs_background": "light"
     },
     "output_type": "display_data"
    }
   ],
   "source": [
    "plot_annotation_count(df)"
   ]
  },
  {
   "cell_type": "code",
   "execution_count": 6,
   "metadata": {},
   "outputs": [],
   "source": [
    "df = df[df.Domain_Relevance==9]"
   ]
  },
  {
   "cell_type": "markdown",
   "metadata": {},
   "source": [
    "## Add columns based on coarse and fine properties"
   ]
  },
  {
   "cell_type": "code",
   "execution_count": 7,
   "metadata": {},
   "outputs": [],
   "source": [
    "sentiments = ['p', 'n', '0']\n",
    "\n",
    "entities_fine = ['g', 'p', 'f', 'c', 'cg', 'cp', 'cf', 'cc', 'gg']\n",
    "attributes_fine = ['g', 'p', 't', 'q', 's', 'h', 'c', 'll', 'or', 'l', 'av', 'e', 'a', 'pp']\n",
    "triplets_fine = [e+'-'+a+'-'+s for e in entities_fine for a in attributes_fine for s in sentiments]\n",
    "\n",
    "entities_coarse = ['organic', 'conventional', 'GMO']\n",
    "attributes_coarse = ['general', 'price', 'experienced quality', 'safety and healthiness', 'trustworthy sources', 'environment']\n",
    "triplets_coarse = [e+'-'+a+'-'+s for e in entities_coarse for a in attributes_coarse for s in sentiments]\n",
    "\n",
    "\n",
    "od_coarse_entities = {\n",
    "\t'g': 'organic',\n",
    "\t'p': 'organic',\n",
    "\t'f': 'organic',\n",
    "\t'c': 'organic',\n",
    "\t'cg': 'conventional',\n",
    "\t'cp': 'conventional',\n",
    "\t'cf': 'conventional',\n",
    "\t'cc': 'conventional',\n",
    "\t'gg': 'GMO'\n",
    "}\n",
    "od_coarse_attributes = {\n",
    "\t'g': 'general',\n",
    "\t'p': 'price',\n",
    "\t't': 'experienced quality',\n",
    "\t'q': 'experienced quality',\n",
    "\t's': 'safety and healthiness',\n",
    "\t'h': 'safety and healthiness',\n",
    "\t'c': 'safety and healthiness',\n",
    "\t'll': 'trustworthy sources',\n",
    "\t'or': 'trustworthy sources',\n",
    "\t'l': 'trustworthy sources',\n",
    "\t'av': 'trustworthy sources',\n",
    "\t'e': 'environment',\n",
    "\t'a': 'environment',\n",
    "\t'pp': 'environment'\n",
    "}"
   ]
  },
  {
   "cell_type": "code",
   "execution_count": 8,
   "metadata": {},
   "outputs": [],
   "source": [
    "def returnCoarse(entity,isEntity=True):\n",
    "    if (isEntity==True):\n",
    "        return od_coarse_entities[entity]\n",
    "    else:\n",
    "        return od_coarse_attributes[entity]"
   ]
  },
  {
   "cell_type": "code",
   "execution_count": 9,
   "metadata": {},
   "outputs": [],
   "source": [
    "df['Fine_Triplet'] = df['Entity']+'-'+df['Attribute']+'-'+df['Sentiment']\n",
    "\n",
    "df['Coarse_Entity'] = df.apply(lambda row: returnCoarse(row['Entity']), axis=1)\n",
    "df['Coarse_Attribute'] = df.apply(lambda row: returnCoarse(row['Attribute'],False), axis=1)\n",
    "df['Coarse_Triplet'] = df['Coarse_Entity']+'-'+df['Coarse_Attribute']+'-'+df['Sentiment']"
   ]
  },
  {
   "cell_type": "code",
   "execution_count": 10,
   "metadata": {
    "scrolled": true
   },
   "outputs": [
    {
     "data": {
      "text/html": [
       "<div>\n",
       "<style scoped>\n",
       "    .dataframe tbody tr th:only-of-type {\n",
       "        vertical-align: middle;\n",
       "    }\n",
       "\n",
       "    .dataframe tbody tr th {\n",
       "        vertical-align: top;\n",
       "    }\n",
       "\n",
       "    .dataframe thead th {\n",
       "        text-align: right;\n",
       "    }\n",
       "</style>\n",
       "<table border=\"1\" class=\"dataframe\">\n",
       "  <thead>\n",
       "    <tr style=\"text-align: right;\">\n",
       "      <th></th>\n",
       "      <th>Author_ID</th>\n",
       "      <th>Author_name</th>\n",
       "      <th>Comment_number</th>\n",
       "      <th>Sentence_number</th>\n",
       "      <th>Domain_Relevance</th>\n",
       "      <th>Sentiment</th>\n",
       "      <th>Entity</th>\n",
       "      <th>Attribute</th>\n",
       "      <th>Sentence</th>\n",
       "      <th>Source_file</th>\n",
       "      <th>Annotator</th>\n",
       "      <th>Fine_Triplet</th>\n",
       "      <th>Coarse_Entity</th>\n",
       "      <th>Coarse_Attribute</th>\n",
       "      <th>Coarse_Triplet</th>\n",
       "    </tr>\n",
       "  </thead>\n",
       "  <tbody>\n",
       "    <tr>\n",
       "      <th>0</th>\n",
       "      <td>Matthew-Petrucci</td>\n",
       "      <td>Matthew Petrucci</td>\n",
       "      <td>414</td>\n",
       "      <td>9</td>\n",
       "      <td>9</td>\n",
       "      <td>0</td>\n",
       "      <td>f</td>\n",
       "      <td>h</td>\n",
       "      <td>Consider that there are myriad varieties of na...</td>\n",
       "      <td>quora.json</td>\n",
       "      <td>fahad</td>\n",
       "      <td>f-h-0</td>\n",
       "      <td>organic</td>\n",
       "      <td>safety and healthiness</td>\n",
       "      <td>organic-safety and healthiness-0</td>\n",
       "    </tr>\n",
       "    <tr>\n",
       "      <th>1</th>\n",
       "      <td>Matthew-Petrucci</td>\n",
       "      <td>Matthew Petrucci</td>\n",
       "      <td>414</td>\n",
       "      <td>10</td>\n",
       "      <td>9</td>\n",
       "      <td>0</td>\n",
       "      <td>cf</td>\n",
       "      <td>c</td>\n",
       "      <td>Most supermarket/greengrocer tomatoes are grow...</td>\n",
       "      <td>quora.json</td>\n",
       "      <td>fahad</td>\n",
       "      <td>cf-c-0</td>\n",
       "      <td>conventional</td>\n",
       "      <td>safety and healthiness</td>\n",
       "      <td>conventional-safety and healthiness-0</td>\n",
       "    </tr>\n",
       "    <tr>\n",
       "      <th>3</th>\n",
       "      <td>Matthew-Petrucci</td>\n",
       "      <td>Matthew Petrucci</td>\n",
       "      <td>414</td>\n",
       "      <td>12</td>\n",
       "      <td>9</td>\n",
       "      <td>0</td>\n",
       "      <td>cp</td>\n",
       "      <td>h</td>\n",
       "      <td>Especially in the U.S. tomatoes (among other f...</td>\n",
       "      <td>quora.json</td>\n",
       "      <td>fahad</td>\n",
       "      <td>cp-h-0</td>\n",
       "      <td>conventional</td>\n",
       "      <td>safety and healthiness</td>\n",
       "      <td>conventional-safety and healthiness-0</td>\n",
       "    </tr>\n",
       "    <tr>\n",
       "      <th>4</th>\n",
       "      <td>Matthew-Petrucci</td>\n",
       "      <td>Matthew Petrucci</td>\n",
       "      <td>414</td>\n",
       "      <td>13</td>\n",
       "      <td>9</td>\n",
       "      <td>0</td>\n",
       "      <td>p</td>\n",
       "      <td>h</td>\n",
       "      <td>Remember, you are paying a premium for organic...</td>\n",
       "      <td>quora.json</td>\n",
       "      <td>fahad</td>\n",
       "      <td>p-h-0</td>\n",
       "      <td>organic</td>\n",
       "      <td>safety and healthiness</td>\n",
       "      <td>organic-safety and healthiness-0</td>\n",
       "    </tr>\n",
       "    <tr>\n",
       "      <th>5</th>\n",
       "      <td>Matthew-Petrucci</td>\n",
       "      <td>Matthew Petrucci</td>\n",
       "      <td>414</td>\n",
       "      <td>14</td>\n",
       "      <td>9</td>\n",
       "      <td>0</td>\n",
       "      <td>f</td>\n",
       "      <td>h</td>\n",
       "      <td>Nevertheless, organic foods are generally stil...</td>\n",
       "      <td>quora.json</td>\n",
       "      <td>fahad</td>\n",
       "      <td>f-h-0</td>\n",
       "      <td>organic</td>\n",
       "      <td>safety and healthiness</td>\n",
       "      <td>organic-safety and healthiness-0</td>\n",
       "    </tr>\n",
       "  </tbody>\n",
       "</table>\n",
       "</div>"
      ],
      "text/plain": [
       "          Author_ID       Author_name  Comment_number  Sentence_number  \\\n",
       "0  Matthew-Petrucci  Matthew Petrucci             414                9   \n",
       "1  Matthew-Petrucci  Matthew Petrucci             414               10   \n",
       "3  Matthew-Petrucci  Matthew Petrucci             414               12   \n",
       "4  Matthew-Petrucci  Matthew Petrucci             414               13   \n",
       "5  Matthew-Petrucci  Matthew Petrucci             414               14   \n",
       "\n",
       "   Domain_Relevance Sentiment Entity Attribute  \\\n",
       "0                 9         0      f         h   \n",
       "1                 9         0     cf         c   \n",
       "3                 9         0     cp         h   \n",
       "4                 9         0      p         h   \n",
       "5                 9         0      f         h   \n",
       "\n",
       "                                            Sentence Source_file Annotator  \\\n",
       "0  Consider that there are myriad varieties of na...  quora.json     fahad   \n",
       "1  Most supermarket/greengrocer tomatoes are grow...  quora.json     fahad   \n",
       "3  Especially in the U.S. tomatoes (among other f...  quora.json     fahad   \n",
       "4  Remember, you are paying a premium for organic...  quora.json     fahad   \n",
       "5  Nevertheless, organic foods are generally stil...  quora.json     fahad   \n",
       "\n",
       "  Fine_Triplet Coarse_Entity        Coarse_Attribute  \\\n",
       "0        f-h-0       organic  safety and healthiness   \n",
       "1       cf-c-0  conventional  safety and healthiness   \n",
       "3       cp-h-0  conventional  safety and healthiness   \n",
       "4        p-h-0       organic  safety and healthiness   \n",
       "5        f-h-0       organic  safety and healthiness   \n",
       "\n",
       "                          Coarse_Triplet  \n",
       "0       organic-safety and healthiness-0  \n",
       "1  conventional-safety and healthiness-0  \n",
       "3  conventional-safety and healthiness-0  \n",
       "4       organic-safety and healthiness-0  \n",
       "5       organic-safety and healthiness-0  "
      ]
     },
     "execution_count": 10,
     "metadata": {},
     "output_type": "execute_result"
    }
   ],
   "source": [
    "df.head()"
   ]
  },
  {
   "cell_type": "code",
   "execution_count": 11,
   "metadata": {},
   "outputs": [
    {
     "data": {
      "image/png": "[encoded data removed]",
      "text/plain": [
       "<Figure size 432x288 with 1 Axes>"
      ]
     },
     "metadata": {
      "needs_background": "light"
     },
     "output_type": "display_data"
    }
   ],
   "source": [
    "plot_annotation_count(df)"
   ]
  },
  {
   "cell_type": "markdown",
   "metadata": {},
   "source": [
    "## Calculate perception uncertainty"
   ]
  },
  {
   "cell_type": "markdown",
   "metadata": {},
   "source": [
    "### My Method"
   ]
  },
  {
   "cell_type": "code",
   "execution_count": 37,
   "metadata": {},
   "outputs": [],
   "source": [
    "def calculatePU(labels, classes):\n",
    "    # Map given labels to indices between 0 - len(classes)\n",
    "    mapping = {cl: index for index, cl in enumerate(classes)}\n",
    "    all_labels = [mapping[x] for x in labels]\n",
    "    \n",
    "    # calculate counts of each label\n",
    "    class_occurence_counts = np.bincount(all_labels, minlength=len(classes))\n",
    "    \n",
    "    # normalize the counts array by dividing by the max value and then deleting it from the array\n",
    "    max_count_index = np.argmax(class_occurence_counts)\n",
    "    coc_normalized = class_occurence_counts / class_occurence_counts[max_count_index]\n",
    "    coc_normalized = np.delete(coc_normalized, max_count_index)\n",
    "    \n",
    "    # mean of coc_normalized would have perception uncertainty: 0 for NO perception uncertainty - 1 for Max perception uncertainty (all labels are equally likely)\n",
    "    return np.mean(coc_normalized)"
   ]
  },
  {
   "cell_type": "code",
   "execution_count": null,
   "metadata": {},
   "outputs": [],
   "source": [
    "dfPerception = df.groupby(['Comment_number','Sentence_number']) \\\n",
    "                 .agg(Sentence=('Sentence', 'first'),\n",
    "                      Sentiment_PU=('Sentiment', lambda x: calculatePU(x,sentiments)),\n",
    "                      Coarse_Entity_PU=('Coarse_Entity', lambda x: calculatePU(x,entities_coarse)),\n",
    "                      Coarse_Attribute_PU=('Coarse_Attribute', lambda x: calculatePU(x,attributes_coarse)),\n",
    "                      Coarse_Triplet_PU=('Coarse_Triplet', lambda x: calculatePU(x,triplets_coarse)),\n",
    "                      Fine_Entity_PU=('Entity', lambda x: calculatePU(x,entities_fine)),\n",
    "                      Fine_Attribute_PU=('Attribute', lambda x: calculatePU(x,attribute_fine)),\n",
    "                      Fine_Triplet_PU=('Fine_Triplet', lambda x: calculatePU(x,triplets_fine))) \\\n",
    "                 .reset_index()"
   ]
  },
  {
   "cell_type": "markdown",
   "metadata": {},
   "source": [
    "### Normalized Information Entropy"
   ]
  },
  {
   "cell_type": "code",
   "execution_count": 23,
   "metadata": {
    "scrolled": true
   },
   "outputs": [],
   "source": [
    "max_annotations = df.groupby(['Comment_number','Sentence_number']).agg('count')['Attribute'].max()\n",
    "max_annotations_with_enough_samples = 16\n",
    "\n",
    "# used for confidence_interval\n",
    "b = 1 + np.divide(-1.45, 1 + np.power(np.divide(max_annotations_with_enough_samples, 3.03), 1.06))"
   ]
  },
  {
   "cell_type": "code",
   "execution_count": 60,
   "metadata": {},
   "outputs": [],
   "source": [
    "def calculate_NIEntropy(labels, max_annotations_with_enough_samples):\n",
    "    total_annotations = len(labels)\n",
    "    if total_annotations == 1:\n",
    "        return -1  # For samples that have only one label, will be removed later\n",
    "    \n",
    "    # This change made for N = max number of annotations for any sample\n",
    "    # total_annotations = max_annotations\n",
    "    \"\"\"\n",
    "    if total_annotations > max_annotations_with_enough_samples:\n",
    "        labels = np.random.choice(labels, size=max_annotations_with_enough_samples, replace=False)\n",
    "        total_annotations = max_annotations_with_enough_samples\n",
    "    \"\"\"\n",
    "    \n",
    "    # Get occurence count for each label\n",
    "    unique_labels, occur_count = np.unique(labels, return_counts=True)\n",
    "    \n",
    "    # Get P-Values\n",
    "    p_values = np.divide(occur_count, total_annotations)\n",
    "    \n",
    "    # Calculate log of base N using simple log method, where N is total number of annotations\n",
    "    log_p_base_n = np.log(p_values) / np.log(total_annotations)\n",
    "    \n",
    "    # Sum over all annotations to calculate NIE\n",
    "    normalized_information_entropy = -1 * np.sum(np.multiply(p_values, log_p_base_n))\n",
    "    return normalized_information_entropy"
   ]
  },
  {
   "cell_type": "code",
   "execution_count": 61,
   "metadata": {},
   "outputs": [],
   "source": [
    "def calculate_conf_inter(total_annotations, b):\n",
    "    return 0.5 * np.power(b, total_annotations)"
   ]
  },
  {
   "cell_type": "code",
   "execution_count": 62,
   "metadata": {},
   "outputs": [],
   "source": [
    "dfPerception = df.groupby(['Comment_number','Sentence_number']) \\\n",
    "                 .agg(Sentence=('Sentence', 'first'),\n",
    "                      Annotation_Count=('Author_ID', 'count'),\n",
    "                      Confidence_Interval=('Author_name', lambda x: calculate_conf_inter(len(x), b)),\n",
    "                      Sentiment_PU=('Sentiment', lambda x: calculate_NIEntropy(x, max_annotations_with_enough_samples)),\n",
    "                      Coarse_Entity_PU=('Coarse_Entity', lambda x: calculate_NIEntropy(x, max_annotations_with_enough_samples)),\n",
    "                      Coarse_Attribute_PU=('Coarse_Attribute', lambda x: calculate_NIEntropy(x, max_annotations_with_enough_samples)),\n",
    "                      Coarse_Triplet_PU=('Coarse_Triplet', lambda x: calculate_NIEntropy(x, max_annotations_with_enough_samples)),\n",
    "                      Fine_Entity_PU=('Entity', lambda x: calculate_NIEntropy(x, max_annotations_with_enough_samples)),\n",
    "                      Fine_Attribute_PU=('Attribute', lambda x: calculate_NIEntropy(x, max_annotations_with_enough_samples)),\n",
    "                      Fine_Triplet_PU=('Fine_Triplet', lambda x: calculate_NIEntropy(x, max_annotations_with_enough_samples))) \\\n",
    "                 .reset_index()"
   ]
  },
  {
   "cell_type": "markdown",
   "metadata": {},
   "source": [
    "### Perception Uncertainty based on Majority class count"
   ]
  },
  {
   "cell_type": "code",
   "execution_count": 76,
   "metadata": {},
   "outputs": [],
   "source": [
    "def calculate_PU_Majority(labels):\n",
    "    total_annotations = len(labels)\n",
    "    if total_annotations == 1:\n",
    "        return -1  # For samples that have only one label, will be removed later\n",
    "    \n",
    "    majority_class_annotation_count = max(Counter(labels).values())\n",
    "    return 1 - (majority_class_annotation_count / total_annotations)"
   ]
  },
  {
   "cell_type": "code",
   "execution_count": 77,
   "metadata": {},
   "outputs": [],
   "source": [
    "dfPerception = df.groupby(['Comment_number','Sentence_number']) \\\n",
    "                 .agg(Sentence=('Sentence', 'first'),\n",
    "                      Annotation_Count=('Author_ID', 'count'),\n",
    "                      Sentiment_PU=('Sentiment', lambda x: calculate_PU_Majority(x)),\n",
    "                      Coarse_Entity_PU=('Coarse_Entity', lambda x: calculate_PU_Majority(x)),\n",
    "                      Coarse_Attribute_PU=('Coarse_Attribute', lambda x: calculate_PU_Majority(x)),\n",
    "                      Coarse_Triplet_PU=('Coarse_Triplet', lambda x: calculate_PU_Majority(x)),\n",
    "                      Fine_Entity_PU=('Entity', lambda x: calculate_PU_Majority(x)),\n",
    "                      Fine_Attribute_PU=('Attribute', lambda x: calculate_PU_Majority(x)),\n",
    "                      Fine_Triplet_PU=('Fine_Triplet', lambda x: calculate_PU_Majority(x))) \\\n",
    "                 .reset_index()"
   ]
  },
  {
   "cell_type": "code",
   "execution_count": 78,
   "metadata": {},
   "outputs": [
    {
     "data": {
      "text/html": [
       "<div>\n",
       "<style scoped>\n",
       "    .dataframe tbody tr th:only-of-type {\n",
       "        vertical-align: middle;\n",
       "    }\n",
       "\n",
       "    .dataframe tbody tr th {\n",
       "        vertical-align: top;\n",
       "    }\n",
       "\n",
       "    .dataframe thead th {\n",
       "        text-align: right;\n",
       "    }\n",
       "</style>\n",
       "<table border=\"1\" class=\"dataframe\">\n",
       "  <thead>\n",
       "    <tr style=\"text-align: right;\">\n",
       "      <th></th>\n",
       "      <th>Comment_number</th>\n",
       "      <th>Sentence_number</th>\n",
       "      <th>Sentence</th>\n",
       "      <th>Annotation_Count</th>\n",
       "      <th>Sentiment_PU</th>\n",
       "      <th>Coarse_Entity_PU</th>\n",
       "      <th>Coarse_Attribute_PU</th>\n",
       "      <th>Coarse_Triplet_PU</th>\n",
       "      <th>Fine_Entity_PU</th>\n",
       "      <th>Fine_Attribute_PU</th>\n",
       "      <th>Fine_Triplet_PU</th>\n",
       "    </tr>\n",
       "  </thead>\n",
       "  <tbody>\n",
       "    <tr>\n",
       "      <th>277</th>\n",
       "      <td>502</td>\n",
       "      <td>2</td>\n",
       "      <td>\"\"Does \"\"\"\"93% more energy efficient\"\"\"\" actua...</td>\n",
       "      <td>6</td>\n",
       "      <td>0.333333</td>\n",
       "      <td>0.50</td>\n",
       "      <td>0.166667</td>\n",
       "      <td>0.666667</td>\n",
       "      <td>0.500</td>\n",
       "      <td>0.5000</td>\n",
       "      <td>0.833333</td>\n",
       "    </tr>\n",
       "    <tr>\n",
       "      <th>278</th>\n",
       "      <td>502</td>\n",
       "      <td>3</td>\n",
       "      <td>that in some cases organic farming was actuall...</td>\n",
       "      <td>10</td>\n",
       "      <td>0.300000</td>\n",
       "      <td>0.00</td>\n",
       "      <td>0.300000</td>\n",
       "      <td>0.600000</td>\n",
       "      <td>0.200</td>\n",
       "      <td>0.6000</td>\n",
       "      <td>0.700000</td>\n",
       "    </tr>\n",
       "    <tr>\n",
       "      <th>279</th>\n",
       "      <td>507</td>\n",
       "      <td>2</td>\n",
       "      <td>I'm not a big fan of the monocultures for exac...</td>\n",
       "      <td>1</td>\n",
       "      <td>-1.000000</td>\n",
       "      <td>-1.00</td>\n",
       "      <td>-1.000000</td>\n",
       "      <td>-1.000000</td>\n",
       "      <td>-1.000</td>\n",
       "      <td>-1.0000</td>\n",
       "      <td>-1.000000</td>\n",
       "    </tr>\n",
       "    <tr>\n",
       "      <th>280</th>\n",
       "      <td>507</td>\n",
       "      <td>3</td>\n",
       "      <td>\"\"Commercial \"\"\"\"organic\"\"\"\" is deeply problem...</td>\n",
       "      <td>16</td>\n",
       "      <td>0.562500</td>\n",
       "      <td>0.25</td>\n",
       "      <td>0.062500</td>\n",
       "      <td>0.562500</td>\n",
       "      <td>0.500</td>\n",
       "      <td>0.0625</td>\n",
       "      <td>0.750000</td>\n",
       "    </tr>\n",
       "    <tr>\n",
       "      <th>281</th>\n",
       "      <td>510</td>\n",
       "      <td>1</td>\n",
       "      <td>If there is a considerable decrease in input c...</td>\n",
       "      <td>8</td>\n",
       "      <td>0.500000</td>\n",
       "      <td>0.00</td>\n",
       "      <td>0.000000</td>\n",
       "      <td>0.500000</td>\n",
       "      <td>0.375</td>\n",
       "      <td>0.0000</td>\n",
       "      <td>0.625000</td>\n",
       "    </tr>\n",
       "  </tbody>\n",
       "</table>\n",
       "</div>"
      ],
      "text/plain": [
       "     Comment_number  Sentence_number  \\\n",
       "277             502                2   \n",
       "278             502                3   \n",
       "279             507                2   \n",
       "280             507                3   \n",
       "281             510                1   \n",
       "\n",
       "                                              Sentence  Annotation_Count  \\\n",
       "277  \"\"Does \"\"\"\"93% more energy efficient\"\"\"\" actua...                 6   \n",
       "278  that in some cases organic farming was actuall...                10   \n",
       "279  I'm not a big fan of the monocultures for exac...                 1   \n",
       "280  \"\"Commercial \"\"\"\"organic\"\"\"\" is deeply problem...                16   \n",
       "281  If there is a considerable decrease in input c...                 8   \n",
       "\n",
       "     Sentiment_PU  Coarse_Entity_PU  Coarse_Attribute_PU  Coarse_Triplet_PU  \\\n",
       "277      0.333333              0.50             0.166667           0.666667   \n",
       "278      0.300000              0.00             0.300000           0.600000   \n",
       "279     -1.000000             -1.00            -1.000000          -1.000000   \n",
       "280      0.562500              0.25             0.062500           0.562500   \n",
       "281      0.500000              0.00             0.000000           0.500000   \n",
       "\n",
       "     Fine_Entity_PU  Fine_Attribute_PU  Fine_Triplet_PU  \n",
       "277           0.500             0.5000         0.833333  \n",
       "278           0.200             0.6000         0.700000  \n",
       "279          -1.000            -1.0000        -1.000000  \n",
       "280           0.500             0.0625         0.750000  \n",
       "281           0.375             0.0000         0.625000  "
      ]
     },
     "execution_count": 78,
     "metadata": {},
     "output_type": "execute_result"
    }
   ],
   "source": [
    "dfPerception.tail()"
   ]
  },
  {
   "cell_type": "code",
   "execution_count": 79,
   "metadata": {},
   "outputs": [],
   "source": [
    "# Remove samples with only 1 label\n",
    "dfPerception = dfPerception[dfPerception.Sentiment_PU != -1]"
   ]
  },
  {
   "cell_type": "code",
   "execution_count": 80,
   "metadata": {},
   "outputs": [
    {
     "data": {
      "text/html": [
       "<div>\n",
       "<style scoped>\n",
       "    .dataframe tbody tr th:only-of-type {\n",
       "        vertical-align: middle;\n",
       "    }\n",
       "\n",
       "    .dataframe tbody tr th {\n",
       "        vertical-align: top;\n",
       "    }\n",
       "\n",
       "    .dataframe thead th {\n",
       "        text-align: right;\n",
       "    }\n",
       "</style>\n",
       "<table border=\"1\" class=\"dataframe\">\n",
       "  <thead>\n",
       "    <tr style=\"text-align: right;\">\n",
       "      <th></th>\n",
       "      <th>Comment_number</th>\n",
       "      <th>Sentence_number</th>\n",
       "      <th>Sentence</th>\n",
       "      <th>Annotation_Count</th>\n",
       "      <th>Sentiment_PU</th>\n",
       "      <th>Coarse_Entity_PU</th>\n",
       "      <th>Coarse_Attribute_PU</th>\n",
       "      <th>Coarse_Triplet_PU</th>\n",
       "      <th>Fine_Entity_PU</th>\n",
       "      <th>Fine_Attribute_PU</th>\n",
       "      <th>Fine_Triplet_PU</th>\n",
       "    </tr>\n",
       "  </thead>\n",
       "  <tbody>\n",
       "    <tr>\n",
       "      <th>276</th>\n",
       "      <td>502</td>\n",
       "      <td>1</td>\n",
       "      <td>\"\"The abstract of the article says\",\" \"\"\"\"Howe...</td>\n",
       "      <td>11</td>\n",
       "      <td>0.454545</td>\n",
       "      <td>0.454545</td>\n",
       "      <td>0.000000</td>\n",
       "      <td>0.545455</td>\n",
       "      <td>0.545455</td>\n",
       "      <td>0.363636</td>\n",
       "      <td>0.727273</td>\n",
       "    </tr>\n",
       "    <tr>\n",
       "      <th>277</th>\n",
       "      <td>502</td>\n",
       "      <td>2</td>\n",
       "      <td>\"\"Does \"\"\"\"93% more energy efficient\"\"\"\" actua...</td>\n",
       "      <td>6</td>\n",
       "      <td>0.333333</td>\n",
       "      <td>0.500000</td>\n",
       "      <td>0.166667</td>\n",
       "      <td>0.666667</td>\n",
       "      <td>0.500000</td>\n",
       "      <td>0.500000</td>\n",
       "      <td>0.833333</td>\n",
       "    </tr>\n",
       "    <tr>\n",
       "      <th>278</th>\n",
       "      <td>502</td>\n",
       "      <td>3</td>\n",
       "      <td>that in some cases organic farming was actuall...</td>\n",
       "      <td>10</td>\n",
       "      <td>0.300000</td>\n",
       "      <td>0.000000</td>\n",
       "      <td>0.300000</td>\n",
       "      <td>0.600000</td>\n",
       "      <td>0.200000</td>\n",
       "      <td>0.600000</td>\n",
       "      <td>0.700000</td>\n",
       "    </tr>\n",
       "    <tr>\n",
       "      <th>280</th>\n",
       "      <td>507</td>\n",
       "      <td>3</td>\n",
       "      <td>\"\"Commercial \"\"\"\"organic\"\"\"\" is deeply problem...</td>\n",
       "      <td>16</td>\n",
       "      <td>0.562500</td>\n",
       "      <td>0.250000</td>\n",
       "      <td>0.062500</td>\n",
       "      <td>0.562500</td>\n",
       "      <td>0.500000</td>\n",
       "      <td>0.062500</td>\n",
       "      <td>0.750000</td>\n",
       "    </tr>\n",
       "    <tr>\n",
       "      <th>281</th>\n",
       "      <td>510</td>\n",
       "      <td>1</td>\n",
       "      <td>If there is a considerable decrease in input c...</td>\n",
       "      <td>8</td>\n",
       "      <td>0.500000</td>\n",
       "      <td>0.000000</td>\n",
       "      <td>0.000000</td>\n",
       "      <td>0.500000</td>\n",
       "      <td>0.375000</td>\n",
       "      <td>0.000000</td>\n",
       "      <td>0.625000</td>\n",
       "    </tr>\n",
       "  </tbody>\n",
       "</table>\n",
       "</div>"
      ],
      "text/plain": [
       "     Comment_number  Sentence_number  \\\n",
       "276             502                1   \n",
       "277             502                2   \n",
       "278             502                3   \n",
       "280             507                3   \n",
       "281             510                1   \n",
       "\n",
       "                                              Sentence  Annotation_Count  \\\n",
       "276  \"\"The abstract of the article says\",\" \"\"\"\"Howe...                11   \n",
       "277  \"\"Does \"\"\"\"93% more energy efficient\"\"\"\" actua...                 6   \n",
       "278  that in some cases organic farming was actuall...                10   \n",
       "280  \"\"Commercial \"\"\"\"organic\"\"\"\" is deeply problem...                16   \n",
       "281  If there is a considerable decrease in input c...                 8   \n",
       "\n",
       "     Sentiment_PU  Coarse_Entity_PU  Coarse_Attribute_PU  Coarse_Triplet_PU  \\\n",
       "276      0.454545          0.454545             0.000000           0.545455   \n",
       "277      0.333333          0.500000             0.166667           0.666667   \n",
       "278      0.300000          0.000000             0.300000           0.600000   \n",
       "280      0.562500          0.250000             0.062500           0.562500   \n",
       "281      0.500000          0.000000             0.000000           0.500000   \n",
       "\n",
       "     Fine_Entity_PU  Fine_Attribute_PU  Fine_Triplet_PU  \n",
       "276        0.545455           0.363636         0.727273  \n",
       "277        0.500000           0.500000         0.833333  \n",
       "278        0.200000           0.600000         0.700000  \n",
       "280        0.500000           0.062500         0.750000  \n",
       "281        0.375000           0.000000         0.625000  "
      ]
     },
     "execution_count": 80,
     "metadata": {},
     "output_type": "execute_result"
    }
   ],
   "source": [
    "dfPerception.tail()"
   ]
  },
  {
   "cell_type": "code",
   "execution_count": 83,
   "metadata": {},
   "outputs": [],
   "source": [
    "filePath = './data/jointly_annotated_PU_NIE_4_majority_class.csv'\n",
    "dfPerception.to_csv(filePath, sep='|', encoding='utf-8',index=False)"
   ]
  },
  {
   "cell_type": "markdown",
   "metadata": {},
   "source": [
    "## Data exploration"
   ]
  },
  {
   "cell_type": "code",
   "execution_count": 2,
   "metadata": {},
   "outputs": [],
   "source": [
    "filePath = './data/jointly_annotated_PU_NIE_simple_NIE.csv'\n",
    "dfPerception = pd.read_csv(filePath, sep='|')"
   ]
  },
  {
   "cell_type": "code",
   "execution_count": 5,
   "metadata": {},
   "outputs": [
    {
     "data": {
      "image/png": "[encoded data removed]",
      "text/plain": [
       "<Figure size 1440x1008 with 1 Axes>"
      ]
     },
     "metadata": {
      "needs_background": "light"
     },
     "output_type": "display_data"
    }
   ],
   "source": [
    "column = 'Coarse_Attribute_PU'\n",
    "series = dfPerception[column].value_counts().to_dict()\n",
    "series = sorted(series.items(), key=operator.itemgetter(0))\n",
    "series = {elem[0]: elem[1] for elem in series if elem[1]>2}\n",
    "\n",
    "plt.figure(figsize=(20,14))\n",
    "keys = list(series.keys())\n",
    "vals = list(series.values())\n",
    "#size = [dfPerception[dfPerception[column]==key]['Annotation_Count'].mean() for key in keys]\n",
    "plt.scatter(keys, vals, s=np.multiply(vals,100))\n",
    "plt.xlabel('Perception Uncertainty', fontsize=15)\n",
    "plt.ylabel('Frequency of Perception Uncertainty Value', fontsize=15)\n",
    "plt.title('Frequency of Perception Uncertainty for '+column, fontsize=20)\n",
    "plt.savefig('Frequency-PU-Attribute.pdf')\n",
    "plt.show()"
   ]
  },
  {
   "cell_type": "code",
   "execution_count": 6,
   "metadata": {},
   "outputs": [
    {
     "data": {
      "image/png": "[encoded data removed]",
      "text/plain": [
       "<Figure size 1080x360 with 1 Axes>"
      ]
     },
     "metadata": {
      "needs_background": "light"
     },
     "output_type": "display_data"
    }
   ],
   "source": [
    "all_PUs = ['Sentiment_PU', 'Coarse_Entity_PU', 'Coarse_Attribute_PU', 'Coarse_Triplet_PU', 'Fine_Entity_PU', 'Fine_Attribute_PU', 'Fine_Triplet_PU']\n",
    "mean_vals = [dfPerception[pu].mean() for pu in all_PUs]\n",
    "plt.figure(figsize=(15,5))\n",
    "plt.scatter(all_PUs, mean_vals, s=100)\n",
    "plt.xlabel('Perception Uncertainty Column', fontsize=15)\n",
    "plt.ylabel('Mean Perception Uncertainty Value', fontsize=15)\n",
    "plt.title('Mean Perception Uncertainty', fontsize=20)\n",
    "plt.savefig('Mean-Perception-Uncertainty.pdf')\n",
    "plt.show()"
   ]
  },
  {
   "cell_type": "code",
   "execution_count": null,
   "metadata": {},
   "outputs": [],
   "source": []
  }
 ],
 "metadata": {
  "kernelspec": {
   "display_name": "Python 3",
   "language": "python",
   "name": "python3"
  },
  "language_info": {
   "codemirror_mode": {
    "name": "ipython",
    "version": 3
   },
   "file_extension": ".py",
   "mimetype": "text/x-python",
   "name": "python",
   "nbconvert_exporter": "python",
   "pygments_lexer": "ipython3",
   "version": "3.7.5"
  },
  "toc": {
   "base_numbering": 1,
   "nav_menu": {},
   "number_sections": true,
   "sideBar": true,
   "skip_h1_title": false,
   "title_cell": "Table of Contents",
   "title_sidebar": "Contents",
   "toc_cell": false,
   "toc_position": {},
   "toc_section_display": true,
   "toc_window_display": false
  }
 },
 "nbformat": 4,
 "nbformat_minor": 2
}
